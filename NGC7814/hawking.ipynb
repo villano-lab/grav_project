{
 "cells": [
  {
   "cell_type": "code",
   "execution_count": 15,
   "metadata": {},
   "outputs": [
    {
     "name": "stdout",
     "output_type": "stream",
     "text": [
      "In order to evaporate completely in 1000000.0 years, the mass of the black hole would have to be 7249202486.68595 kg, which is 3.62460124334297e-21 solar masses and 1.21386511833321e-15 earth masses.\n"
     ]
    }
   ],
   "source": [
    "#https://en.wikipedia.org/wiki/Hawking_radiation#Black_hole_evaporation\n",
    "import sympy as sp\n",
    "t=1e6 #years\n",
    "M=sp.symbols('M')\n",
    "Msun=2e30 #kg\n",
    "Mearth=5.972e24\n",
    "X=2.1e67*(M/Msun)**3-t\n",
    "M=sp.solve(X,M)\n",
    "M=M[0]\n",
    "print('In order to evaporate completely in',t,'years, the mass of the black hole would have to be', M, 'kg, which is', M/Msun,'solar masses and',M/Mearth,'earth masses.')"
   ]
  },
  {
   "cell_type": "code",
   "execution_count": null,
   "metadata": {},
   "outputs": [],
   "source": []
  }
 ],
 "metadata": {
  "kernelspec": {
   "display_name": "Python 3",
   "language": "python",
   "name": "python3"
  },
  "language_info": {
   "codemirror_mode": {
    "name": "ipython",
    "version": 3
   },
   "file_extension": ".py",
   "mimetype": "text/x-python",
   "name": "python",
   "nbconvert_exporter": "python",
   "pygments_lexer": "ipython3",
   "version": "3.8.3"
  }
 },
 "nbformat": 4,
 "nbformat_minor": 4
}
