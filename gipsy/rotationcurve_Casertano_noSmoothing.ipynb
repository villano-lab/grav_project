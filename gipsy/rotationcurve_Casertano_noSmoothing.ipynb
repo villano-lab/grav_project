{
 "cells": [
  {
   "cell_type": "code",
   "execution_count": 1,
   "metadata": {},
   "outputs": [],
   "source": [
    "import numpy as np\n",
    "import matplotlib.pyplot as plt\n",
    "from scipy.integrate import quad\n",
    "from scipy.special import ellipe, ellipk\n",
    "from scipy.interpolate import InterpolatedUnivariateSpline\n",
    "from scipy.signal import savgol_filter\n",
    "import time\n",
    "startTime = time.time()"
   ]
  },
  {
   "cell_type": "markdown",
   "metadata": {},
   "source": [
    "## Notes"
   ]
  },
  {
   "cell_type": "markdown",
   "metadata": {},
   "source": [
    "__From rotmod.c:__ <br>\n",
    "For the  sampling radii you should use an increment of about 0.2 times the disk scale length, and the maximum sampling radius should at least be larger than the radius of the last measured point on your observed rotation curve. <br>\n",
    "If the user wants to enter a measured density profile, and the central density is not given (density at R=0), the program will use linear extrapolation to obtain the central density."
   ]
  },
  {
   "cell_type": "markdown",
   "metadata": {},
   "source": [
    "## User input"
   ]
  },
  {
   "cell_type": "code",
   "execution_count": 2,
   "metadata": {},
   "outputs": [],
   "source": [
    "# Gas:\n",
    "# Conversion to linear scale was made in the notebook: grav_project/NGC_5005/Gas_from_mass_surface_density.ipynb\n",
    "#raddens = \"../data/gasmsd_kpc_linear.txt\"      # Gas density with 2 columns, units: KPC, MSUN/PC^2\n",
    "#raddens = \"../data/nord-mu.txt\"\n",
    "#units = 'KPC,MSUN/PC**2'\n",
    "\n",
    "# Disk:\n",
    "# See for more: grav_project/NGC_5005/Disk_from_surface_brightness_profile.ipynb\n",
    "raddens = \"../data/NGC5005-disk_arcsec.txt\"    # Disk surface brightness with 4 colums, units: ARCSEC, MAG/ARCSEC^2\n",
    "units = 'ARCSEC,MAG/ARCSEC**2'\n",
    "\n",
    "# Parameters\n",
    "G = 0.00000431158                   # Gravitational constant (KPC/MSUN*(KM/S)^2)  \n",
    "z0 = 0.93\n",
    "distance = 16.5e6                   # Distance in PC\n",
    "h = 2.5                             # GUESS: radial scale-length (KPC)\n",
    "degree = 3                          # Polynomial degree for interpolation\n",
    "\n",
    "# Starting point of sampling radii\n",
    "start = 1#0.975 #0.409                # Traced disk starts at 0.975 (or is it simply 1?)"
   ]
  },
  {
   "cell_type": "markdown",
   "metadata": {},
   "source": [
    "## Density profile"
   ]
  },
  {
   "cell_type": "code",
   "execution_count": 3,
   "metadata": {},
   "outputs": [],
   "source": [
    "def DensityProfile(raddens=raddens,units=units,h=h):\n",
    "    \n",
    "    if units == 'KPC,MSUN/PC**2':\n",
    "        mudata = np.loadtxt(raddens)\n",
    "        if np.shape(np.loadtxt(raddens))[1] == 2:     # this just checks if the file has 2 or 4 columns\n",
    "            xdinp, ydinp = mudata.T\n",
    "        if np.shape(np.loadtxt(raddens))[1] == 4:\n",
    "            xdinp, ydinp, xerror, yerror = mudata.T\n",
    "\n",
    "    if units == 'ARCSEC,MAG/ARCSEC**2':\n",
    "        mudata = np.loadtxt(raddens)\n",
    "        if np.shape(np.loadtxt(raddens))[1] == 2:\n",
    "            xdinp, ydinp = mudata.T\n",
    "        if np.shape(np.loadtxt(raddens))[1] == 4:\n",
    "            xdinp, ydinp, xerror, yerror = mudata.T\n",
    "\n",
    "        # Conversion\n",
    "        # ARCSEC to KPC\n",
    "        xdinp = (np.pi/648000) * (distance * 1e-3) * xdinp      # distance in PC originally so converting it to KPC\n",
    "\n",
    "        # MAG/ARCSEC^2 to MSUN/PC^2\n",
    "        ydinp = 10**(-0.4 * ydinp)\n",
    "        #ydinp = ((np.pi/648000) * distance)**(-2) * ydinp       # distance in PC originally \n",
    "            \n",
    "    if units == 'KPC,MAG/ARCSEC**2':\n",
    "        mudata = np.loadtxt(raddens)\n",
    "        if np.shape(np.loadtxt(raddens))[1] == 2:\n",
    "            xdinp, ydinp = mudata.T\n",
    "        if np.shape(np.loadtxt(raddens))[1] == 4:\n",
    "            xdinp, ydinp, xerror, yerror = mudata.T\n",
    "\n",
    "        # Conversion\n",
    "        # MAG/ARCSEC^2 to MSUN/PC^2\n",
    "        ydinp = 10**(-0.4 * ydinp)\n",
    "        #ydinp = ((np.pi/648000) * distance)**(-2) * ydinp       # distance in PC originally\n",
    "            \n",
    "    ndinp = len(ydinp)                  # number of surface densities. GUESS: length of density array again\n",
    "    rcut = xdinp[ndinp-1]               # takes second to last radius value\n",
    "    delta = rcut - xdinp[ndinp-2]       # difference between the second to last radius value and the third to last radius value\n",
    "    \n",
    "    return xdinp, ydinp, rcut, delta, ndinp"
   ]
  },
  {
   "cell_type": "markdown",
   "metadata": {},
   "source": [
    "## Define some values"
   ]
  },
  {
   "cell_type": "code",
   "execution_count": 4,
   "metadata": {},
   "outputs": [],
   "source": [
    "# Radius\n",
    "xdinp = DensityProfile()[0]\n",
    "# Density\n",
    "ydinp = DensityProfile()[1]\n",
    "\n",
    "# Cutoff radius\n",
    "rcut = DensityProfile()[2]\n",
    "# Cutoff length\n",
    "delta = DensityProfile()[3]\n",
    "# Number of surface densities\n",
    "ndinp = DensityProfile()[4]\n",
    "\n",
    "# Sampling radii\n",
    "radii = np.arange(start,np.max(xdinp)+1,0.2*h)               # Sampling radii\n",
    "# Note from rotmod.c: \n",
    "# For the sampling radii you should use an increment of about 0.2 times the disk scale length, \n",
    "# and the maximum sampling radius should at least be larger than the radius of the last measured point \n",
    "# on your observed rotation curve. "
   ]
  },
  {
   "cell_type": "code",
   "execution_count": 5,
   "metadata": {},
   "outputs": [
    {
     "name": "stdout",
     "output_type": "stream",
     "text": [
      "[ 0.16757997  0.3245447   0.5056597   0.80466224  1.09128966  1.42536968\n",
      "  1.74770654  2.0936177   2.40404342  2.97747425  3.59863766  4.21907312\n",
      "  4.80369515  5.3643909   6.00852866  6.5929747   7.18957188  7.21349816\n",
      "  7.77446589  8.3830702   8.97957138  9.58831168 10.22080227 10.79373714\n",
      " 11.40219746 12.01090576 12.60758293 13.2042281  13.76496384 14.40923759\n",
      " 15.29204622 16.21048428 17.08114978 17.99953185 18.89389965 19.78845143\n",
      " 20.68304321 21.57727501 22.49561709 23.36618659 24.29649581 25.19067961\n",
      " 26.10870171 26.96726408 27.88543016 28.76768683 29.68576492 30.58030071\n",
      " 31.4983308  32.38041948 33.28643444 34.18075424 35.08699318 35.94546755]\n",
      "[ 1.   1.5  2.   2.5  3.   3.5  4.   4.5  5.   5.5  6.   6.5  7.   7.5\n",
      "  8.   8.5  9.   9.5 10.  10.5 11.  11.5 12.  12.5 13.  13.5 14.  14.5\n",
      " 15.  15.5 16.  16.5 17.  17.5 18.  18.5 19.  19.5 20.  20.5 21.  21.5\n",
      " 22.  22.5 23.  23.5 24.  24.5 25.  25.5 26.  26.5 27.  27.5 28.  28.5\n",
      " 29.  29.5 30.  30.5 31.  31.5 32.  32.5 33.  33.5 34.  34.5 35.  35.5\n",
      " 36.  36.5]\n"
     ]
    }
   ],
   "source": [
    "print(xdinp)\n",
    "print(radii)"
   ]
  },
  {
   "cell_type": "markdown",
   "metadata": {},
   "source": [
    "## Interpolation"
   ]
  },
  {
   "cell_type": "code",
   "execution_count": 6,
   "metadata": {},
   "outputs": [],
   "source": [
    "# Define interpolation function\n",
    "def interpd(x,y):\n",
    "    #return lagrange(x,y)                # Lagrange interpolation didn't work well so I used Univariate Spline\n",
    "    return InterpolatedUnivariateSpline(x,y,k=degree)   \n",
    "\n",
    "# Spline the given radius and density pairs and define the polynomial that's calculated\n",
    "spline_given_rhor = interpd(xdinp,ydinp)"
   ]
  },
  {
   "cell_type": "code",
   "execution_count": 7,
   "metadata": {},
   "outputs": [],
   "source": [
    "# Define the sampling radius points of the spline\n",
    "spline_sampling_rhor = interpd(radii,spline_given_rhor(radii))"
   ]
  },
  {
   "cell_type": "code",
   "execution_count": 8,
   "metadata": {},
   "outputs": [
    {
     "name": "stdout",
     "output_type": "stream",
     "text": [
      "5.162133399369872e-07\n",
      "3.7865177761489306e-06\n"
     ]
    },
    {
     "data": {
      "image/png": "[encoded data removed]",
      "text/plain": [
       "<Figure size 576x432 with 1 Axes>"
      ]
     },
     "metadata": {
      "needs_background": "light"
     },
     "output_type": "display_data"
    }
   ],
   "source": [
    "# Just for plotting: evaluate density values at the sampling radii \n",
    "density = spline_given_rhor(radii)\n",
    "print(density[0])\n",
    "print(ydinp[0])\n",
    "\n",
    "# Plot \n",
    "plt.figure(figsize=(8,6))\n",
    "plt.scatter(xdinp,ydinp, label=\"Given radius and density data\", s=100)\n",
    "plt.scatter(radii,density, label=\"Sampling radius and density data\")\n",
    "plt.plot(radii,density, label=\"Sampling radius and density data\")\n",
    "plt.title(\"Interpolation\")\n",
    "plt.xlabel(\"Radius (KPC)\")\n",
    "plt.ylabel(\"Surface Density (MSUN/$PC^2$)\")\n",
    "plt.legend()\n",
    "plt.show()"
   ]
  },
  {
   "cell_type": "markdown",
   "metadata": {},
   "source": [
    "## Partial derivative / Smoothing"
   ]
  },
  {
   "cell_type": "code",
   "execution_count": 9,
   "metadata": {},
   "outputs": [],
   "source": [
    "# Partial derivative of rho(u,z) with respect to u\n",
    "# Taking the derivative of the splined polynomial (radius and density values, rho(r) or rho(u))\n",
    "drho_du_derivative = spline_sampling_rhor.derivative()"
   ]
  },
  {
   "cell_type": "code",
   "execution_count": 10,
   "metadata": {},
   "outputs": [
    {
     "data": {
      "image/png": "[encoded data removed]",
      "text/plain": [
       "<Figure size 576x504 with 1 Axes>"
      ]
     },
     "metadata": {
      "needs_background": "light"
     },
     "output_type": "display_data"
    }
   ],
   "source": [
    "# Plot \n",
    "plt.figure(figsize=(8,7))\n",
    "plt.plot(radii,drho_du_derivative(radii), label=\"drho/du\", c=\"blue\")\n",
    "plt.title(\"Partial Derivative of Density\")\n",
    "plt.xlabel(\"Radius (KPC)\")\n",
    "plt.ylabel(\"drho/du\")\n",
    "plt.legend()\n",
    "plt.show()"
   ]
  },
  {
   "cell_type": "markdown",
   "metadata": {},
   "source": [
    "## Functions"
   ]
  },
  {
   "cell_type": "code",
   "execution_count": 11,
   "metadata": {},
   "outputs": [],
   "source": [
    "# Density Distribution: Sech-squared law\n",
    "def denzed(z,z0): \n",
    "    r = np.cosh(z / z0)\n",
    "    #r = r * r * z0    # In the GIPSY rotmod.c, this is multiplied by z0 but in Caserano Eq 2 there isn't any z0\n",
    "    r = r * r\n",
    "    r = 1.0 / r\n",
    "    return r           # calling this r is kind of misleading but Rotmod is calling it r\n",
    "                       # returns: density as a function of z (I think)"
   ]
  },
  {
   "cell_type": "code",
   "execution_count": 12,
   "metadata": {},
   "outputs": [
    {
     "name": "stdout",
     "output_type": "stream",
     "text": [
      "-9.589505909038845e-08\n"
     ]
    }
   ],
   "source": [
    "# Casertano Eq 2\n",
    "def drho_du(u,z,z0):\n",
    "    return drho_du_derivative(u) * denzed(z,z0)\n",
    "\n",
    "print(drho_du(1,1,z0))"
   ]
  },
  {
   "cell_type": "code",
   "execution_count": 13,
   "metadata": {},
   "outputs": [
    {
     "data": {
      "image/png": "[encoded data removed]",
      "text/plain": [
       "<Figure size 576x504 with 1 Axes>"
      ]
     },
     "metadata": {
      "needs_background": "light"
     },
     "output_type": "display_data"
    }
   ],
   "source": [
    "# Plot \n",
    "plt.figure(figsize=(8,7))\n",
    "plt.plot(radii,drho_du(radii,0,z0), label=\"z=0\")\n",
    "plt.plot(radii,drho_du(radii,1,z0), label=\"z=1\")\n",
    "plt.plot(radii,drho_du(radii,2,z0), label=\"z=2\")\n",
    "plt.plot(radii,drho_du(radii,3,z0), label=\"z=3\")\n",
    "plt.title(\"Casertano Eq 2\")\n",
    "plt.xlabel(\"Radius (KPC)\")\n",
    "plt.ylabel(\"drho/du\")\n",
    "plt.legend()\n",
    "plt.show()"
   ]
  },
  {
   "cell_type": "code",
   "execution_count": 14,
   "metadata": {},
   "outputs": [
    {
     "name": "stdout",
     "output_type": "stream",
     "text": [
      "0.3819660112501051\n"
     ]
    }
   ],
   "source": [
    "# Casertano Eq 5\n",
    "def px(r,u,xi):\n",
    "    x = (r**2 + u**2 + xi**2)/(2*r*u)\n",
    "    return x - (np.sqrt((x**2)-1))\n",
    "\n",
    "print(px(1,1,1))"
   ]
  },
  {
   "cell_type": "code",
   "execution_count": 15,
   "metadata": {},
   "outputs": [
    {
     "name": "stdout",
     "output_type": "stream",
     "text": [
      "0.3680901991747202\n"
     ]
    }
   ],
   "source": [
    "# Complete elliptic integral\n",
    "def K(r,u,xi):\n",
    "    elliptical = (2/(np.pi*np.sqrt(r*u*px(r,u,xi)))) * (ellipk(px(r,u,xi)) - ellipe(px(r,u,xi)))\n",
    "    return elliptical\n",
    "\n",
    "print(K(1,1,1))"
   ]
  },
  {
   "cell_type": "code",
   "execution_count": 16,
   "metadata": {},
   "outputs": [
    {
     "name": "stdout",
     "output_type": "stream",
     "text": [
      "-1.2356823139007952e-12\n"
     ]
    }
   ],
   "source": [
    "# Integrand, using built-in functions\n",
    "def integrand(r,u,z,z0,G):\n",
    "    return (4 * np.pi * G) * u * K(r,u,z) * drho_du(u,z,z0)\n",
    "    \n",
    "print(integrand(3,2,1,z0,G))"
   ]
  },
  {
   "cell_type": "code",
   "execution_count": 17,
   "metadata": {},
   "outputs": [
    {
     "name": "stderr",
     "output_type": "stream",
     "text": [
      "C:\\Users\\JB\\AppData\\Local\\Continuum\\anaconda3\\lib\\site-packages\\ipykernel_launcher.py:3: RuntimeWarning: divide by zero encountered in true_divide\n",
      "  This is separate from the ipykernel package so we can avoid doing imports until\n",
      "C:\\Users\\JB\\AppData\\Local\\Continuum\\anaconda3\\lib\\site-packages\\ipykernel_launcher.py:4: RuntimeWarning: invalid value encountered in subtract\n",
      "  after removing the cwd from sys.path.\n"
     ]
    },
    {
     "data": {
      "image/png": "[encoded data removed]",
      "text/plain": [
       "<Figure size 576x504 with 1 Axes>"
      ]
     },
     "metadata": {
      "needs_background": "light"
     },
     "output_type": "display_data"
    }
   ],
   "source": [
    "# Plot \n",
    "plt.figure(figsize=(8,7))\n",
    "plt.plot(radii,integrand(2,radii,2,z0,G), label=\"z=2,u=2\")\n",
    "plt.plot(radii,integrand(1,radii,1,z0,G), label=\"z=1,u=1\")\n",
    "plt.plot(radii,integrand(0,radii,1,z0,G), label=\"z=0,u=1\")\n",
    "plt.title(\"Integrand\")\n",
    "plt.xlabel(\"Radius (KPC)\")\n",
    "plt.legend()\n",
    "plt.show()"
   ]
  },
  {
   "cell_type": "markdown",
   "metadata": {},
   "source": [
    "## Integration"
   ]
  },
  {
   "cell_type": "code",
   "execution_count": 18,
   "metadata": {},
   "outputs": [
    {
     "name": "stdout",
     "output_type": "stream",
     "text": [
      "0.01\n",
      "36.5\n"
     ]
    }
   ],
   "source": [
    "# Define minimum and maximum values of radius for integration\n",
    "intmin = 0.01 #np.min(radii)\n",
    "intmax = np.max(radii)\n",
    "\n",
    "print(intmin)\n",
    "print(intmax)\n",
    "#intmax = np.inf\n",
    "#intmax = rcut+delta"
   ]
  },
  {
   "cell_type": "markdown",
   "metadata": {},
   "source": [
    "### Integration, using built-in python functions: scipy quad"
   ]
  },
  {
   "cell_type": "code",
   "execution_count": 19,
   "metadata": {},
   "outputs": [
    {
     "name": "stdout",
     "output_type": "stream",
     "text": [
      "-3.656911325159456e-12\n",
      "[-1.84410841e-11 -1.77524024e-11 -1.74895766e-11 -1.60992742e-11\n",
      " -1.55851380e-11 -1.32274681e-11 -1.18813546e-11 -1.05047480e-11\n",
      " -9.60593601e-12 -8.73957854e-12 -7.98623256e-12 -7.42790603e-12\n",
      " -6.84869485e-12 -6.40472393e-12 -6.04856487e-12 -5.76258348e-12\n",
      " -5.56295755e-12 -5.26963809e-12 -4.99906905e-12 -4.79904940e-12\n",
      " -4.52884600e-12 -4.31685063e-12 -4.12203090e-12 -3.91477635e-12\n",
      " -3.74421411e-12 -3.57376747e-12 -3.42316100e-12 -3.28446699e-12\n",
      " -3.15349452e-12 -3.03498962e-12 -2.92338132e-12 -2.82091292e-12\n",
      " -2.72600659e-12 -2.63646247e-12 -2.55294939e-12 -2.47470617e-12\n",
      " -2.40154713e-12 -2.33309522e-12 -2.26739436e-12 -2.20526379e-12\n",
      " -2.14614605e-12 -2.09061336e-12 -2.03854864e-12 -1.98859415e-12\n",
      " -1.94061595e-12 -1.89538964e-12 -1.85115387e-12 -1.80946854e-12\n",
      " -1.76968610e-12 -1.73176800e-12 -1.69580879e-12 -1.66083036e-12\n",
      " -1.62756010e-12 -1.59569486e-12 -1.56464132e-12 -1.53503574e-12\n",
      " -1.50657788e-12 -1.47923009e-12 -1.45314783e-12 -1.42712949e-12\n",
      " -1.40209602e-12 -1.37805816e-12 -1.35490553e-12 -1.33261644e-12\n",
      " -1.31111939e-12 -1.29042501e-12 -1.27016998e-12 -1.25061966e-12\n",
      " -1.23147576e-12 -1.21293298e-12 -1.19490695e-12 -1.17738035e-12]\n"
     ]
    }
   ],
   "source": [
    "# Reverse order of variables to setup for integration\n",
    "integrand_mixvar = lambda z,r,u,z0,G: integrand(r,u,z,z0,G)\n",
    "\n",
    "# Inner integral, integral over z\n",
    "integrand2 = lambda r,u,z0,G: quad(integrand_mixvar, intmin, intmax, args=(r,u,z0,G))[0]\n",
    "print(integrand2(2,1,z0,G))\n",
    "\n",
    "# Reverse order of variables to setup for integration\n",
    "integrand_mixvar2 = lambda u,r,z0,G: integrand2(r,u,z0,G)\n",
    "\n",
    "# Outer integral, integral over u\n",
    "radialforce = lambda r,z0,G: quad(integrand_mixvar2, intmin, intmax, args=(r,z0,G))[0]\n",
    "\n",
    "# Calculate radial force\n",
    "radialforce = np.vectorize(radialforce)\n",
    "print(radialforce(radii,z0,G))"
   ]
  },
  {
   "cell_type": "markdown",
   "metadata": {},
   "source": [
    "## Velocity"
   ]
  },
  {
   "cell_type": "code",
   "execution_count": 20,
   "metadata": {},
   "outputs": [
    {
     "name": "stderr",
     "output_type": "stream",
     "text": [
      "C:\\Users\\JB\\AppData\\Local\\Continuum\\anaconda3\\lib\\site-packages\\scipy\\signal\\_arraytools.py:45: FutureWarning: Using a non-tuple sequence for multidimensional indexing is deprecated; use `arr[tuple(seq)]` instead of `arr[seq]`. In the future this will be interpreted as an array index, `arr[np.array(seq)]`, which will result either in an error or a different result.\n",
      "  b = a[a_slice]\n"
     ]
    }
   ],
   "source": [
    "# Calculate velocity\n",
    "velocs = np.sqrt(-radii*radialforce(radii,z0,G))\n",
    "\n",
    "# Smoothing of velocity if needed\n",
    "velocs_smooth = savgol_filter(velocs[np.isnan(velocs) == False], 7, 5)   # Window size 7, polynomial order 5"
   ]
  },
  {
   "cell_type": "markdown",
   "metadata": {},
   "source": [
    "## Disk Mass"
   ]
  },
  {
   "cell_type": "code",
   "execution_count": 21,
   "metadata": {},
   "outputs": [
    {
     "name": "stdout",
     "output_type": "stream",
     "text": [
      "[3.78651778e-06 1.86827155e-06 8.23834547e-07 5.78948589e-07\n",
      " 4.77749235e-07 4.27208613e-07 3.58261385e-07 3.30826279e-07\n",
      " 2.77434202e-07 1.77141370e-07 1.11316617e-07 9.04482149e-08\n",
      " 7.46792590e-08 6.36678230e-08 5.42900198e-08 4.78013322e-08\n",
      " 3.88364925e-08 3.76114434e-08 2.91178966e-08 2.29128969e-08\n",
      " 1.92238337e-08 1.44145139e-08 1.11614341e-08 8.50432796e-09\n",
      " 7.02166329e-09 5.35056938e-09 4.20997968e-09 3.36604564e-09\n",
      " 2.82409954e-09 2.29488010e-09 1.77778812e-09 1.44543977e-09\n",
      " 1.21338885e-09 1.00248989e-09 8.83161239e-10 7.29591894e-10\n",
      " 5.93143807e-10 5.48428480e-10 4.60383765e-10 3.99098412e-10\n",
      " 3.29731167e-10 3.09770460e-10 2.91044904e-10 2.60495365e-10\n",
      " 2.33216890e-10 2.19078622e-10 2.02544288e-10 1.67324679e-10\n",
      " 1.57209939e-10 1.57470788e-10 1.52770676e-10 1.36760286e-10\n",
      " 1.22439064e-10 1.13177475e-10]\n",
      "Disk Mass = 22.24 MSUN.\n",
      "Disk Mass = 2.224e-08 10^9 MSUN.\n"
     ]
    }
   ],
   "source": [
    "# Determining disk mass for scaling\n",
    "dkmass = 0.0                    # starting mass is zero\n",
    "xdinp_pc = xdinp*1e3            # converts all radii from KPC to PC: 1 KPC = 10^3 PC\n",
    "print(ydinp)                    # density values in MSUN/PC^2 \n",
    "\n",
    "n = 1                           # counter\n",
    "while n < ndinp:\n",
    "    x = xdinp_pc[n-1]\n",
    "    if n < ndinp - 1:\n",
    "        step = ( xdinp_pc[n+1] - xdinp_pc[n-1] ) / 2.0    # subtracts the next radius value from the previous radius value and divides by two\n",
    "    else:\n",
    "        step = xdinp_pc[n] - xdinp_pc[n-1]                # subtracts the previous radius value from the current value\n",
    "    dkmass += ydinp[n] * step * x                         # multiplies the density value (MSUN/PC^2) with the difference of radii and the current radius \n",
    "    n += 1\n",
    "\n",
    "dkmass *= ( 2.0 * np.pi )\n",
    "rmass = dkmass / 1.0e9\n",
    "print(\"Disk Mass = {:.4} MSUN.\".format(dkmass))\n",
    "print(\"Disk Mass = {:.4} 10^9 MSUN.\".format(rmass))"
   ]
  },
  {
   "cell_type": "markdown",
   "metadata": {},
   "source": [
    "## Comparison"
   ]
  },
  {
   "cell_type": "code",
   "execution_count": 22,
   "metadata": {},
   "outputs": [],
   "source": [
    "# Gas\n",
    "tracedgas = np.loadtxt(\"../NGC_5005/traced_data/ngc5005_gas.txt\")\n",
    "tracedgas_r, tracedgas_v = tracedgas.T\n",
    "tracedgas_r = tracedgas_r[1:]\n",
    "tracedgas_v = tracedgas_v[1:]\n",
    "\n",
    "# Disk\n",
    "traceddisk = np.loadtxt(\"../NGC_5005/traced_data/ngc5005_disk.txt\")\n",
    "traceddisk_r, traceddisk_v = traceddisk.T\n",
    "traceddisk_r = traceddisk_r[1:]\n",
    "traceddisk_v = traceddisk_v[1:]"
   ]
  },
  {
   "cell_type": "markdown",
   "metadata": {},
   "source": [
    "## Plot"
   ]
  },
  {
   "cell_type": "code",
   "execution_count": 23,
   "metadata": {},
   "outputs": [
    {
     "data": {
      "image/png": "[encoded data removed]",
      "text/plain": [
       "<Figure size 576x432 with 1 Axes>"
      ]
     },
     "metadata": {
      "needs_background": "light"
     },
     "output_type": "display_data"
    }
   ],
   "source": [
    "scale = 2.5e7#1.7e9 \n",
    "plt.figure(figsize=(8,6))             \n",
    "plt.scatter(radii, scale*velocs, linestyle='solid', label='Scaled calculated disk velocity by {}'.format(scale))\n",
    "plt.plot(radii, scale*velocs, linestyle='solid', label='Scaled calculated disk velocity by {}'.format(scale))\n",
    "#plt.plot(radii[np.isnan(velocs)==False], scale*velocs_smooth, linestyle='solid', label='Smoothed Gas Velocity')\n",
    "#plt.scatter(tracedgas_r, tracedgas_v, label='Expected Gas Velocity', c='red')\n",
    "plt.scatter(traceddisk_r, traceddisk_v, label='Expected Disk Velocity', c='red')\n",
    "plt.axis('tight');\n",
    "plt.title('NGC 5005')\n",
    "plt.xlabel('Radius (KPC)', fontsize=10)\n",
    "plt.ylabel('Velocity (KM/S)', fontsize=10)\n",
    "plt.xlim(0,12)\n",
    "plt.ylim(0,330)\n",
    "plt.legend(fontsize=10)\n",
    "plt.show()"
   ]
  },
  {
   "cell_type": "code",
   "execution_count": 24,
   "metadata": {},
   "outputs": [
    {
     "name": "stdout",
     "output_type": "stream",
     "text": [
      "[ 1.   1.5  2.   2.5  3.   3.5  4.   4.5  5.   5.5  6.   6.5  7.   7.5\n",
      "  8.   8.5  9.   9.5 10.  10.5 11.  11.5 12.  12.5 13.  13.5 14.  14.5\n",
      " 15.  15.5 16.  16.5 17.  17.5 18.  18.5 19.  19.5 20.  20.5 21.  21.5\n",
      " 22.  22.5 23.  23.5 24.  24.5 25.  25.5 26.  26.5 27.  27.5 28.  28.5\n",
      " 29.  29.5 30.  30.5 31.  31.5 32.  32.5 33.  33.5 34.  34.5 35.  35.5\n",
      " 36.  36.5]\n",
      "[4.29430834e-06 5.16029104e-06 5.91431764e-06 6.34414576e-06\n",
      " 6.83779306e-06 6.80412658e-06 6.89386818e-06 6.87541752e-06\n",
      " 6.93034487e-06 6.93308604e-06 6.92223919e-06 6.94848107e-06\n",
      " 6.92393414e-06 6.93075966e-06 6.95618566e-06 6.99871128e-06\n",
      " 7.07577684e-06 7.07541956e-06 7.07040950e-06 7.09859272e-06\n",
      " 7.05813757e-06 7.04583439e-06 7.03309113e-06 6.99533448e-06\n",
      " 6.97673157e-06 6.94592405e-06 6.92273457e-06 6.90107031e-06\n",
      " 6.87767532e-06 6.85874180e-06 6.83915938e-06 6.82239424e-06\n",
      " 6.80750410e-06 6.79250273e-06 6.77887078e-06 6.76624447e-06\n",
      " 6.75495340e-06 6.74502459e-06 6.73408399e-06 6.72368260e-06\n",
      " 6.71334992e-06 6.70434093e-06 6.69687017e-06 6.68904839e-06\n",
      " 6.68088069e-06 6.67395359e-06 6.66541018e-06 6.65822643e-06\n",
      " 6.65147747e-06 6.64530540e-06 6.64010757e-06 6.63415440e-06\n",
      " 6.62903634e-06 6.62431948e-06 6.61890905e-06 6.61426628e-06\n",
      " 6.60989854e-06 6.60585252e-06 6.60260819e-06 6.59753358e-06\n",
      " 6.59279733e-06 6.58853793e-06 6.58460150e-06 6.58103596e-06\n",
      " 6.57776100e-06 6.57489451e-06 6.57158879e-06 6.56859028e-06\n",
      " 6.56518480e-06 6.56194491e-06 6.55870798e-06 6.55548493e-06]\n"
     ]
    }
   ],
   "source": [
    "print(radii)\n",
    "print(velocs)"
   ]
  },
  {
   "cell_type": "code",
   "execution_count": 25,
   "metadata": {},
   "outputs": [
    {
     "name": "stdout",
     "output_type": "stream",
     "text": [
      "[ 0.975   1.4655  1.9139  2.4041  2.8662  3.3563  3.8321  4.3498  4.8117\n",
      "  5.5954  6.4072  7.205   8.0167  8.7864  9.612  10.3957 11.1934]\n"
     ]
    }
   ],
   "source": [
    "print(traceddisk_r)"
   ]
  },
  {
   "cell_type": "code",
   "execution_count": 26,
   "metadata": {},
   "outputs": [
    {
     "name": "stdout",
     "output_type": "stream",
     "text": [
      "Execution time: 0.29 minutes\n"
     ]
    }
   ],
   "source": [
    "# Time\n",
    "executionTime = (time.time() - startTime)\n",
    "ttt=executionTime/60\n",
    "print(f'Execution time: {ttt:.2f} minutes')"
   ]
  }
 ],
 "metadata": {
  "kernelspec": {
   "display_name": "Python 3",
   "language": "python",
   "name": "python3"
  },
  "language_info": {
   "codemirror_mode": {
    "name": "ipython",
    "version": 3
   },
   "file_extension": ".py",
   "mimetype": "text/x-python",
   "name": "python",
   "nbconvert_exporter": "python",
   "pygments_lexer": "ipython3",
   "version": "3.7.1"
  }
 },
 "nbformat": 4,
 "nbformat_minor": 4
}
