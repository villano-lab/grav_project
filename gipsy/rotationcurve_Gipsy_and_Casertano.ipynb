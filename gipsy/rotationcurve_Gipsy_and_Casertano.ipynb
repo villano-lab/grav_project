{
 "cells": [
  {
   "cell_type": "code",
   "execution_count": 1,
   "metadata": {},
   "outputs": [],
   "source": [
    "import numpy as np\n",
    "import matplotlib.pyplot as plt\n",
    "from scipy.integrate import quad, nquad, simps\n",
    "from scipy.special import ellipe, ellipk\n",
    "from scipy.interpolate import lagrange, InterpolatedUnivariateSpline\n",
    "from scipy.signal import savgol_filter"
   ]
  },
  {
   "cell_type": "markdown",
   "metadata": {},
   "source": [
    "## Notes"
   ]
  },
  {
   "cell_type": "markdown",
   "metadata": {},
   "source": [
    "__From rotmod.c:__ <br>\n",
    "For the  sampling radii you should use an increment of about 0.2 times the disk scale length, and the maximum sampling radius should at least be larger than the radius of the last measured point on your observed rotation curve. <br>\n",
    "If the user wants to enter a measured density profile, and the central density is not given (density at R=0), the program will use linear extrapolation to obtain the central density."
   ]
  },
  {
   "cell_type": "markdown",
   "metadata": {},
   "source": [
    "## User input"
   ]
  },
  {
   "cell_type": "code",
   "execution_count": 2,
   "metadata": {},
   "outputs": [],
   "source": [
    "user = True  # use imported data\n",
    "\n",
    "# Gas:\n",
    "# Conversion to linear scale was made in the notebook: grav_project/NGC_5005/Gas_from_mass_surface_density.ipynb\n",
    "raddens = \"../data/gasmsd_kpc_linear.txt\"      # Gas density with 2 columns, units: KPC, MSUN/PC^2\n",
    "units = 'KPC,MSUN/PC**2'\n",
    "radii = np.arange(0.1,11.18,0.1)                # Sampling radii\n",
    "\n",
    "# Disk:\n",
    "# See for more: grav_project/NGC_5005/Disk_from_surface_brightness_profile.ipynb\n",
    "#raddens = \"../data/NGC5005-disk_arcsec.txt\"    # Disk surface brightness with 4 colums, units: ARCSEC, MAG/ARCSEC^2\n",
    "#units = 'ARCSEC,MAG/ARCSEC**2'\n",
    "#radii = np.arange(0.001,35,0.01)\n",
    "\n",
    "zlaw = 2                            # Case 2: sech-squared density law\n",
    "mode = zlaw                         # Density distribution mode\n",
    "\n",
    "# Parameters\n",
    "G = 0.00000431158                   # Gravitational constant (KPC/MSUN*(KM/S)^2)  \n",
    "CONSTANT = 2.0 * np.pi * G / 3.0\n",
    "EPS = 0.000001\n",
    "z0 = 0.93\n",
    "distance = 16.5                    # Distance in MPC\n",
    "\n",
    "# we only need dens0 and h if user is FALSE (i.e. when density is calculated), otherwise we don't need it\n",
    "h = 2                              # GUESS: radial scale-length (KPC)\n",
    "#dens0 = 10**2.4                    # GUESS: central surface density (MSUN/PC^2): from Fig 8. Paper 13\n",
    "dens0 = 4e2                        # GUESS: central surface density (MSUN/PC^2)"
   ]
  },
  {
   "cell_type": "markdown",
   "metadata": {},
   "source": [
    "## Density distribution"
   ]
  },
  {
   "cell_type": "code",
   "execution_count": 3,
   "metadata": {},
   "outputs": [],
   "source": [
    "# There are three distribution laws possible; \n",
    "# the Van der Kruit and Searle law (SECH-SQUARED): D(Z)=sech(Z/Z0)**2/Z0,\n",
    "# an exponential density law (EXPONENTIAL): D(Z)=exp(-Z/Z0)/Z0 \n",
    "# a simple sech law (SIMPLE-SECH): D(Z)=2*sech(Z/Z0)/Z0/PI. \n",
    "\n",
    "# case 1 is a flat disk, z0 = 0\n",
    "#####################################\n",
    "\n",
    "# Sech-squared law:\n",
    "def denzed_case2(z,z0): \n",
    "    r = np.cosh(z / z0)\n",
    "    #r = r * r * z0    # In the GIPSY rotmod.c, this is multiplied by z0 but in Caserano Eq 2 there isn't any z0\n",
    "    r = r * r\n",
    "    r = 1.0 / r\n",
    "    return r           # calling this r is kind of misleading but Rotmod is calling it r\n",
    "                       # returns: density as a function of z (I think)\n",
    "\n",
    "# Exponential:\n",
    "def denzed_case3(z,z0):\n",
    "    r = np.exp(-z / z0) /z0\n",
    "    return r\n",
    "\n",
    "# Simple-sech\n",
    "def denzed_case4(z,z0):\n",
    "    r = 2 / z0 / np.pi / np.cosh(z/z0)\n",
    "    return r\n",
    "\n",
    "def denzed(z,z0,mode):\n",
    "    #The above results in the user being asked for every point entered; this was likely used as a backend.\n",
    "    if mode == 2:\n",
    "        return denzed_case2(z,z0)\n",
    "    if mode == 3:\n",
    "        return denzed_case3(z,z0)\n",
    "    if mode == 4:\n",
    "        return denzed_case4(z,z0)\n",
    "    else:\n",
    "        return np.nan\n",
    "        print(\"Error occured in denzed; no mode selected. Returned nan.\")"
   ]
  },
  {
   "cell_type": "markdown",
   "metadata": {},
   "source": [
    "## Density profile"
   ]
  },
  {
   "cell_type": "code",
   "execution_count": 4,
   "metadata": {},
   "outputs": [],
   "source": [
    "def DensityProfile(user=user,raddens=raddens,units=units,mode=mode,dens0=dens0,h=h):\n",
    "    \n",
    "    ##################################\n",
    "    # Case 1: Import density profile #\n",
    "    ##################################\n",
    "    \n",
    "    if user == True:\n",
    "        if units == 'KPC,MSUN/PC**2':\n",
    "            mudata = np.loadtxt(raddens)\n",
    "            if np.shape(np.loadtxt(raddens))[1] == 2:     # this just checks if the file has 2 or 4 columns\n",
    "                xdinp, ydinp = mudata.T\n",
    "            if np.shape(np.loadtxt(raddens))[1] == 4:\n",
    "                xdinp, ydinp, xerror, yerror = mudata.T\n",
    "\n",
    "        if units == 'ARCSEC,MAG/ARCSEC**2':\n",
    "            mudata = np.loadtxt(raddens)\n",
    "            if np.shape(np.loadtxt(raddens))[1] == 2:\n",
    "                xdinp, ydinp = mudata.T\n",
    "            if np.shape(np.loadtxt(raddens))[1] == 4:\n",
    "                xdinp, ydinp, xerror, yerror = mudata.T\n",
    "\n",
    "            # Conversion\n",
    "            # ARCSEC to KPC\n",
    "            xdinp = 4.8481E-3 * distance * xdinp\n",
    "\n",
    "            # MAG/ARCSEC^2 to MSUN/PC^2\n",
    "            ydinp = 10**(-0.4 * ydinp)\n",
    "            ydinp = (4.8481E-3 * distance)**(-2) * ydinp\n",
    "            \n",
    "        if units == 'KPC,MAG/ARCSEC**2':\n",
    "            mudata = np.loadtxt(raddens)\n",
    "            if np.shape(np.loadtxt(raddens))[1] == 2:\n",
    "                xdinp, ydinp = mudata.T\n",
    "            if np.shape(np.loadtxt(raddens))[1] == 4:\n",
    "                xdinp, ydinp, xerror, yerror = mudata.T\n",
    "\n",
    "            # Conversion\n",
    "            # MAG/ARCSEC^2 to MSUN/PC^2\n",
    "            ydinp = 10**(-0.4 * ydinp)\n",
    "            ydinp = (4.8481E-3 * distance)**(-2) * ydinp\n",
    "            \n",
    "        LEN1 = len(xdinp)                   # GUESS: defined as length of radius array\n",
    "        LEN2 = len(ydinp)                   # GUESS: defined as lenght of density array\n",
    "        ndinp = LEN2                        # number of surface densities. GUESS: length of density array again\n",
    "        rcut = xdinp[ndinp-1]               # takes second to last radius value\n",
    "        delta = rcut - xdinp[ndinp-2]       # difference between the second to last radius value and the third to last radius value\n",
    "    \n",
    "    \n",
    "    #####################################\n",
    "    # Case 2: Calculate density profile #\n",
    "    #####################################\n",
    "    \n",
    "    if user == False:\n",
    "    \n",
    "        # User need to provide dens0 (in MSUN/PC^2) and h (in KPC)\n",
    "        dens0 = dens0           # central density of exponential DISK\n",
    "        # convert disk central surface brightness from MAG/ARCSEC^2 to MSUN/KPC^2\n",
    "        #dens0 = 10**(-0.4 * dens0)       \n",
    "        #dens0 = (4.8481E-3 * distance)**(-2) * dens0\n",
    "        #dens0 = dens0 * 1.0e6        \n",
    "        #print(\"dens0 = {:.4}\".format(dens0))\n",
    "\n",
    "        h = h                   # radial scale length\n",
    "        z0 = 0.2*h              # scale height of DISK in kpc [0.0]. \n",
    "                                  # note: The integration in Z is the most time consuming part\n",
    "                                  # of the calculation. For example it takes about 0.2 seconds\n",
    "                                  # to calculate a point on the rotation curve for a disk with zero\n",
    "                                  # thickness, and about 2 seconds for a disk with non-zero thickness.\n",
    "        rcut = 4*h              # cutoff radius\n",
    "        delta = 0.2*h           # softening parameter of DISK in kpc [0.0]. It may be wise\n",
    "                                  # to have a non-zero softening in case of a truncated disk, \n",
    "                                  # because then the sharp features in the calculated rotation \n",
    "                                  # curve will be smoothed out. A softening parameter of about \n",
    "                                  # 0.2 scale lengths would be sufficient.\n",
    "\n",
    "        # Now calculate the surface densities\n",
    "        LEN1 = 1000\n",
    "        LEN2 = 1000\n",
    "        xdinp = np.zeros(LEN2-1)    # radii surface density\n",
    "        ydinp = np.zeros(LEN2-1)    # surface densities\n",
    "        rdinp = rcut + delta      # max radius, where galaxy ends\n",
    "        ndinp = LEN2 - 1          # number of surface densities\n",
    "        xstep = rdinp / (ndinp - 1)        # step in radius\n",
    "\n",
    "        i = 0                              # counter \n",
    "        while i < ndinp:\n",
    "            # Casertano's piecewise function (Eq.3)\n",
    "            xdinp[i] = x = xstep * i\n",
    "            if x >= rcut and delta > 0.0:\n",
    "                y = dens0 * np.exp(-rcut/h)*(rcut+delta-x)/delta\n",
    "            elif x >= rdinp:\n",
    "                y = 0.0                    # end of disk\n",
    "            else:\n",
    "                y = dens0 * np.exp(-x/h)\n",
    "            ydinp[i] = y\n",
    "            i += 1\n",
    "    return xdinp, ydinp, ndinp, rcut, delta, LEN1, LEN2"
   ]
  },
  {
   "cell_type": "code",
   "execution_count": 5,
   "metadata": {},
   "outputs": [
    {
     "data": {
      "image/png": "[encoded data removed]",
      "text/plain": [
       "<Figure size 576x432 with 1 Axes>"
      ]
     },
     "metadata": {
      "needs_background": "light"
     },
     "output_type": "display_data"
    }
   ],
   "source": [
    "# Plot \n",
    "plt.figure(figsize=(8,6))\n",
    "xdinp_imported = DensityProfile(user=True)[0]\n",
    "ydinp_imported = DensityProfile(user=True)[1]\n",
    "plt.scatter(xdinp_imported,ydinp_imported, label=\"Imported Density Profile\")\n",
    "\n",
    "xdinp_calculated = DensityProfile(user=False)[0]\n",
    "ydinp_calculated = DensityProfile(user=False)[1]\n",
    "plt.scatter(xdinp_calculated,ydinp_calculated, label=\"Calculated Density Profile\")\n",
    "plt.xlabel(\"Radius (KPC)\")\n",
    "plt.ylabel(\"Surface Density (MSUN/$PC^2$)\")\n",
    "plt.title(\"Difference between USER=TRUE and USER=FALSE\")\n",
    "plt.legend()\n",
    "plt.show()"
   ]
  },
  {
   "cell_type": "markdown",
   "metadata": {},
   "source": [
    "## Define some values"
   ]
  },
  {
   "cell_type": "code",
   "execution_count": 6,
   "metadata": {},
   "outputs": [
    {
     "name": "stdout",
     "output_type": "stream",
     "text": [
      "[5.6363766e+02 4.8707967e+02 4.3151908e+02 3.4158595e+02 3.1031302e+02\n",
      " 2.5392181e+02 2.2782428e+02 1.9683395e+02 1.7881337e+02 1.6311729e+02\n",
      " 1.3918742e+02 1.2802654e+02 1.1778772e+02 1.1063690e+02 1.0303861e+02\n",
      " 9.4362620e+01 7.7250270e+01 7.2861820e+01 6.7873460e+01 5.9634830e+01\n",
      " 5.6014440e+01 5.3727920e+01 4.8607130e+01 4.6046860e+01 4.4167210e+01\n",
      " 4.2716930e+01 4.2894340e+01 4.3251380e+01 4.2024250e+01 4.3082410e+01\n",
      " 4.5112820e+01 4.3651580e+01 4.2043610e+01 4.2933870e+01 4.2579450e+01\n",
      " 3.8850800e+01 3.6787480e+01 3.4562090e+01 3.1666500e+01 2.9984720e+01\n",
      " 2.8054340e+01 2.6025560e+01 2.3741050e+01 2.2024190e+01 2.0516350e+01\n",
      " 1.9511920e+01 1.8176070e+01 1.7072610e+01 1.6173350e+01 1.5317930e+01\n",
      " 1.4507750e+01 1.3630130e+01 1.2909220e+01 1.2382260e+01 1.1392000e+01\n",
      " 1.0972360e+01 1.0568180e+01 1.0094850e+01 9.6827800e+00 9.1706500e+00\n",
      " 8.8715600e+00 8.4722700e+00 8.1959600e+00 7.9909800e+00 7.6983900e+00\n",
      " 7.4131000e+00 7.2929000e+00 7.1729900e+00 7.0258700e+00 6.8501500e+00\n",
      " 6.7112000e+00 6.5735500e+00 6.4106200e+00 6.2273000e+00 6.0715600e+00\n",
      " 5.9237900e+00 5.8009600e+00 5.6819800e+00 5.6350800e+00 5.5654500e+00\n",
      " 5.4739400e+00 5.4050500e+00 5.2954100e+00 5.1844200e+00 5.1215300e+00\n",
      " 5.0373300e+00 4.9533600e+00 4.7720000e+00 4.6946200e+00 4.6558600e+00\n",
      " 4.5793100e+00 4.4658100e+00 4.3742100e+00 4.2658000e+00 4.1096000e+00\n",
      " 3.9746600e+00 3.8441500e+00 3.7488700e+00 3.6116000e+00 3.5075200e+00\n",
      " 3.3643400e+00 3.2546200e+00 3.1347300e+00 2.9812600e+00 2.8477400e+00\n",
      " 2.7201900e+00 2.5876200e+00 2.4819900e+00 2.3409900e+00 2.2171800e+00\n",
      " 2.1178700e+00 2.0063200e+00 1.8608000e+00 1.7627900e+00 1.6626500e+00\n",
      " 1.6014000e+00 1.5170500e+00 1.4368100e+00 1.3667800e+00 1.2838100e+00\n",
      " 1.2159100e+00 1.1471000e+00 1.0864300e+00 1.0077900e+00 9.5455000e-01\n",
      " 9.0803000e-01 8.5290000e-01 8.1115000e-01 7.6190000e-01 7.2177000e-01\n",
      " 6.8644000e-01 6.5013000e-01 6.0814000e-01 5.7122000e-01 5.3877000e-01\n",
      " 5.0828000e-01 4.7337000e-01 4.3914000e-01 4.1591000e-01 3.9564000e-01\n",
      " 3.7316000e-01 3.4770000e-01 3.1974000e-01 2.9785000e-01 2.7977000e-01\n",
      " 2.6278000e-01]\n"
     ]
    }
   ],
   "source": [
    "# Radius\n",
    "xdinp = DensityProfile()[0]\n",
    "# Density\n",
    "ydinp = DensityProfile()[1]\n",
    "print(ydinp)\n",
    "\n",
    "# Cutoff radius\n",
    "rcut = DensityProfile()[3]\n",
    "# Cutoff length\n",
    "delta = DensityProfile()[4]"
   ]
  },
  {
   "cell_type": "code",
   "execution_count": 7,
   "metadata": {},
   "outputs": [
    {
     "name": "stdout",
     "output_type": "stream",
     "text": [
      "0.0172\n",
      "0.1\n"
     ]
    }
   ],
   "source": [
    "print(xdinp[0])\n",
    "print(radii[0])"
   ]
  },
  {
   "cell_type": "markdown",
   "metadata": {},
   "source": [
    "## Interpolation"
   ]
  },
  {
   "cell_type": "code",
   "execution_count": 8,
   "metadata": {},
   "outputs": [
    {
     "name": "stdout",
     "output_type": "stream",
     "text": [
      "<scipy.interpolate.fitpack2.InterpolatedUnivariateSpline object at 0x0000020D041DC630>\n"
     ]
    }
   ],
   "source": [
    "def interpd(x,y):\n",
    "    #return lagrange(x,y)                # Lagrange interpolation didn't work well so I used Univariate Spline\n",
    "    #return InterpolatedUnivariateSpline(x,y,k=4)   \n",
    "    return InterpolatedUnivariateSpline(x,y,k=4)   \n",
    "\n",
    "# Calculate the density values at the sampling radii\n",
    "spline_rhor = interpd(xdinp,ydinp)        # define the polynomial that's calculated\n",
    "print(spline_rhor)"
   ]
  },
  {
   "cell_type": "code",
   "execution_count": 9,
   "metadata": {},
   "outputs": [
    {
     "name": "stdout",
     "output_type": "stream",
     "text": [
      "519.1342891927233\n",
      "563.63766\n"
     ]
    },
    {
     "data": {
      "image/png": "[encoded data removed]",
      "text/plain": [
       "<Figure size 576x432 with 1 Axes>"
      ]
     },
     "metadata": {
      "needs_background": "light"
     },
     "output_type": "display_data"
    }
   ],
   "source": [
    "# Just for plotting: evaluate values at the sampling radii \n",
    "density = spline_rhor(radii)\n",
    "print(density[0])\n",
    "print(ydinp[0])\n",
    "\n",
    "# Plot \n",
    "plt.figure(figsize=(8,6))\n",
    "plt.scatter(xdinp,ydinp, label=\"Given radius and density data\", s=100)\n",
    "plt.scatter(radii,density, label=\"Sampling radius and density data\")\n",
    "plt.plot(radii,density, label=\"Sampling radius and density data\")\n",
    "plt.title(\"Interpolation\")\n",
    "plt.xlabel(\"Radius (KPC)\")\n",
    "plt.ylabel(\"Surface Density (MSUN/$PC^2$)\")\n",
    "plt.legend()\n",
    "plt.show()"
   ]
  },
  {
   "cell_type": "markdown",
   "metadata": {},
   "source": [
    "## Partial derivative / Smoothing"
   ]
  },
  {
   "cell_type": "code",
   "execution_count": 10,
   "metadata": {},
   "outputs": [
    {
     "name": "stderr",
     "output_type": "stream",
     "text": [
      "C:\\Users\\JB\\AppData\\Local\\Continuum\\anaconda3\\lib\\site-packages\\scipy\\signal\\_arraytools.py:45: FutureWarning: Using a non-tuple sequence for multidimensional indexing is deprecated; use `arr[tuple(seq)]` instead of `arr[seq]`. In the future this will be interpreted as an array index, `arr[np.array(seq)]`, which will result either in an error or a different result.\n",
      "  b = a[a_slice]\n"
     ]
    }
   ],
   "source": [
    "# Partial derivative of rho(u,z) with respect to u\n",
    "# Taking the derivative of the splined polynomial (radius and density values, rho(r) or rho(u))\n",
    "drho_du = spline_rhor.derivative()\n",
    "\n",
    "# Evaluating at given radii\n",
    "drho_du_values = drho_du(radii)\n",
    "\n",
    "# Smoothing: Savitzky-Golay filter: https://riptutorial.com/scipy/example/15878/using-a-savitzky-golay-filter\n",
    "drho_du_smooth = savgol_filter(drho_du_values, 11, 5)  # window size 11, polynomial order 6\n",
    "\n",
    "# Spline the smoothed derivative\n",
    "spline_drhor = interpd(radii,drho_du_smooth)"
   ]
  },
  {
   "cell_type": "code",
   "execution_count": 11,
   "metadata": {},
   "outputs": [
    {
     "data": {
      "image/png": "[encoded data removed]",
      "text/plain": [
       "<Figure size 576x504 with 1 Axes>"
      ]
     },
     "metadata": {
      "needs_background": "light"
     },
     "output_type": "display_data"
    }
   ],
   "source": [
    "# Plot \n",
    "plt.figure(figsize=(8,7))\n",
    "plt.plot(radii,drho_du_values, label=\"Before smoothing drho/du\", c=\"blue\")\n",
    "plt.plot(radii,drho_du_smooth, label=\"After smoothing drho/du\", c=\"red\")\n",
    "plt.scatter(radii,spline_drhor(radii), label=\"After smoothing and splining drho/du\", c=\"purple\")\n",
    "plt.title(\"Partial Derivative of Density\")\n",
    "plt.xlabel(\"Radius (KPC)\")\n",
    "plt.ylabel(\"drho/du\")\n",
    "plt.legend()\n",
    "plt.show()"
   ]
  },
  {
   "cell_type": "markdown",
   "metadata": {},
   "source": [
    "## Functions"
   ]
  },
  {
   "cell_type": "code",
   "execution_count": 12,
   "metadata": {},
   "outputs": [
    {
     "name": "stdout",
     "output_type": "stream",
     "text": [
      "-72.40789339818993\n"
     ]
    }
   ],
   "source": [
    "# Casertano Eq 2\n",
    "def drho_du(u,z,z0,mode):\n",
    "    return spline_drhor(u) * denzed(z,z0,mode)\n",
    "\n",
    "print(drho_du(1,1,z0,mode))"
   ]
  },
  {
   "cell_type": "code",
   "execution_count": 13,
   "metadata": {},
   "outputs": [
    {
     "data": {
      "image/png": "[encoded data removed]",
      "text/plain": [
       "<Figure size 576x504 with 1 Axes>"
      ]
     },
     "metadata": {
      "needs_background": "light"
     },
     "output_type": "display_data"
    }
   ],
   "source": [
    "# Plot \n",
    "plt.figure(figsize=(8,7))\n",
    "plt.plot(radii,drho_du(radii,0,z0,mode), label=\"z=0\")\n",
    "plt.plot(radii,drho_du(radii,1,z0,mode), label=\"z=1\")\n",
    "plt.title(\"Casertano Eq 2\")\n",
    "plt.xlabel(\"Radius (KPC)\")\n",
    "plt.ylabel(\"drho/du\")\n",
    "plt.legend()\n",
    "plt.show()"
   ]
  },
  {
   "cell_type": "code",
   "execution_count": 14,
   "metadata": {},
   "outputs": [
    {
     "name": "stdout",
     "output_type": "stream",
     "text": [
      "0.3819660112501051\n"
     ]
    }
   ],
   "source": [
    "# Casertano Eq 5\n",
    "def px(r,u,z):\n",
    "    x = (r**2 + u**2 + z**2)/(2*r*u)\n",
    "    return x - (np.sqrt((x**2)-1))\n",
    "\n",
    "print(px(1,1,1))"
   ]
  },
  {
   "cell_type": "code",
   "execution_count": 15,
   "metadata": {},
   "outputs": [],
   "source": [
    "# Rotmod elliptic integral and p function (Casertano: Eq A.16)\n",
    "def func(x,y,z):\n",
    "    if( x == y ) & ( z == 0):\n",
    "        r = 0\n",
    "    elif( x == 0 ) | ( y == 0):\n",
    "        r = 0\n",
    "    else:\n",
    "        xxx = (x*x + y*y + z*z) / (2.0 * x * y)\n",
    "        rrr = (xxx*xxx - 1.0)\n",
    "        ppp = 1.0 / (xxx + np.sqrt(rrr))\n",
    "        fm = 1.0 - ppp*ppp\n",
    "        el1 = (1.3862944 + fm * (0.1119723 + fm * 0.0725296)) - (0.5 + fm * (0.1213478 + fm * 0.0288729)) * np.log(fm)\n",
    "        el2 = (1.0 + fm * ( 0.4630151 + fm * 0.1077812 ) ) - (fm * (0.2452727 + fm * 0.0412496)) * np.log(fm)\n",
    "        r = ((1.0 - xxx * y/x) * el2 / (rrr) + (y/x - ppp) * el1 / np.sqrt(rrr)) / np.pi\n",
    "        r *= np.sqrt(x / (y * ppp))\n",
    "    return r"
   ]
  },
  {
   "cell_type": "code",
   "execution_count": 16,
   "metadata": {},
   "outputs": [
    {
     "name": "stdout",
     "output_type": "stream",
     "text": [
      "0.35734399698214614\n"
     ]
    }
   ],
   "source": [
    "# Complete elliptic integral\n",
    "def K(r,u,z):\n",
    "    return ellipk(px(r,u,z)) - ellipe(px(r,u,z))\n",
    "\n",
    "print(K(1,1,1))"
   ]
  },
  {
   "cell_type": "code",
   "execution_count": 17,
   "metadata": {},
   "outputs": [
    {
     "name": "stdout",
     "output_type": "stream",
     "text": [
      "-9.460077370361775e-06\n"
     ]
    }
   ],
   "source": [
    "# Integrand, using built-in functions\n",
    "def integrand(z,r,u,z0,G,mode):\n",
    "    return ((4 * np.pi * G) * drho_du(u,z,z0,mode) * K(r,u,z) * 2 * np.sqrt(u)) / (np.pi * np.sqrt(r * px(r,u,z)))\n",
    "    \n",
    "print(integrand(3,2,1,z0,G,mode))"
   ]
  },
  {
   "cell_type": "code",
   "execution_count": 18,
   "metadata": {},
   "outputs": [
    {
     "data": {
      "image/png": "[encoded data removed]",
      "text/plain": [
       "<Figure size 576x504 with 1 Axes>"
      ]
     },
     "metadata": {
      "needs_background": "light"
     },
     "output_type": "display_data"
    }
   ],
   "source": [
    "# Plot \n",
    "plt.figure(figsize=(8,7))\n",
    "plt.plot(radii,integrand(2,radii,2,z0,G,mode), label=\"z=2,u=2\")\n",
    "plt.plot(radii,integrand(1,radii,1,z0,G,mode), label=\"z=1,u=1\")\n",
    "plt.plot(radii,integrand(0,radii,1,z0,G,mode), label=\"z=0,u=1\")\n",
    "plt.title(\"Integrand\")\n",
    "plt.xlabel(\"Radius (KPC)\")\n",
    "plt.legend()\n",
    "plt.show()"
   ]
  },
  {
   "cell_type": "raw",
   "metadata": {},
   "source": [
    "# Integrand, using ROTMOD's function\n",
    "def integrand(r,u,z,z0,G,mode):\n",
    "    return (4 * np.pi * G) * drho_du(u,z,z0,mode) * func(r,u,z)\n",
    "    \n",
    "print(integrand(1,2,3,z0,G,mode))"
   ]
  },
  {
   "cell_type": "markdown",
   "metadata": {},
   "source": [
    "## Integration"
   ]
  },
  {
   "cell_type": "code",
   "execution_count": 19,
   "metadata": {},
   "outputs": [],
   "source": [
    "# Define minimum and maximum values of radius for integration\n",
    "intmin = np.min(radii)\n",
    "#intmax = np.max(radii)\n",
    "intmax = np.inf"
   ]
  },
  {
   "cell_type": "markdown",
   "metadata": {},
   "source": [
    "### Integration, using built-in python functions: scipy quad"
   ]
  },
  {
   "cell_type": "code",
   "execution_count": 20,
   "metadata": {},
   "outputs": [
    {
     "name": "stderr",
     "output_type": "stream",
     "text": [
      "C:\\Users\\JB\\AppData\\Local\\Continuum\\anaconda3\\lib\\site-packages\\ipykernel_launcher.py:13: RuntimeWarning: overflow encountered in double_scalars\n",
      "  del sys.path[0]\n",
      "C:\\Users\\JB\\AppData\\Local\\Continuum\\anaconda3\\lib\\site-packages\\ipykernel_launcher.py:11: RuntimeWarning: overflow encountered in cosh\n",
      "  # This is added back by InteractiveShellApp.init_path()\n"
     ]
    },
    {
     "name": "stdout",
     "output_type": "stream",
     "text": [
      "-0.00012659177691304923\n"
     ]
    },
    {
     "name": "stderr",
     "output_type": "stream",
     "text": [
      "C:\\Users\\JB\\AppData\\Local\\Continuum\\anaconda3\\lib\\site-packages\\scipy\\integrate\\quadpack.py:385: IntegrationWarning: The occurrence of roundoff error is detected, which prevents \n",
      "  the requested tolerance from being achieved.  The error may be \n",
      "  underestimated.\n",
      "  warnings.warn(msg, IntegrationWarning)\n",
      "C:\\Users\\JB\\AppData\\Local\\Continuum\\anaconda3\\lib\\site-packages\\scipy\\integrate\\quadpack.py:385: IntegrationWarning: The maximum number of subdivisions (50) has been achieved.\n",
      "  If increasing the limit yields no improvement it is advised to analyze \n",
      "  the integrand in order to determine the difficulties.  If the position of a \n",
      "  local difficulty can be determined (singularity, discontinuity) one will \n",
      "  probably gain from splitting up the interval and calling the integrator \n",
      "  on the subranges.  Perhaps a special-purpose integrator should be used.\n",
      "  warnings.warn(msg, IntegrationWarning)\n",
      "C:\\Users\\JB\\AppData\\Local\\Continuum\\anaconda3\\lib\\site-packages\\ipykernel_launcher.py:3: RuntimeWarning: invalid value encountered in double_scalars\n",
      "  This is separate from the ipykernel package so we can avoid doing imports until\n"
     ]
    },
    {
     "name": "stdout",
     "output_type": "stream",
     "text": [
      "-4.894152234814269e+16\n"
     ]
    },
    {
     "name": "stderr",
     "output_type": "stream",
     "text": [
      "C:\\Users\\JB\\AppData\\Local\\Continuum\\anaconda3\\lib\\site-packages\\numpy\\lib\\function_base.py:2167: RuntimeWarning: invalid value encountered in ? (vectorized)\n",
      "  outputs = ufunc(*inputs)\n"
     ]
    }
   ],
   "source": [
    "# Reverse order of variables to setup for integration\n",
    "#integrand2 = lambda z,u,r,z0,G,mode: integrand(r,u,z,z0,G,mode)\n",
    "\n",
    "# Inner integral, integral over z\n",
    "integrand2 = lambda u,r,z0,G,mode: quad(integrand, intmin, intmax, args=(r,u,z0,G,mode))[0]\n",
    "print(integrand2(2,1,z0,G,mode))\n",
    "\n",
    "# Outer integral, integral over u\n",
    "radialforce = lambda r,z0,G,mode: quad(integrand2, intmin,intmax, args=(r,z0,G,mode))[0]\n",
    "\n",
    "# Calculate radial force\n",
    "radialforce = np.vectorize(radialforce)\n",
    "print(radialforce(1,z0,G,mode))"
   ]
  },
  {
   "cell_type": "markdown",
   "metadata": {},
   "source": [
    "### Integration, using ROTMOD functions"
   ]
  },
  {
   "cell_type": "raw",
   "metadata": {},
   "source": [
    "# Inner integral, integral over z\n",
    "\"\"\"intzed computes the integral over Z that defines the kernel of the integral formula for the rotation velocity. \n",
    "This is done for an arbitrary vertical density profile, specified in the function denzed.\n",
    "The interval of integration is divided into several subintervals, in each of which Simpson's rule is used. \n",
    "It is thus possible to have different steps in different regions of the interval of integration, \n",
    "and to compute the integral more accurately. An attempt has been made at optimizing the subdivision. \n",
    "It is still possible that the kernel is not accurate, especially when R is very close to U. \n",
    "It is NOT recommended that the programme is used with very small, but non-zero, values of the thickness. \n",
    "On the other hand, the situation with an infinitely thin disk is dealt with properly, the density profile in \n",
    "Z being then treated as a Dirac delta function.\"\"\"\n",
    "def intzed(r,u,z,z0,mode):\n",
    "    zeds = np.array([0.02, 0.50, 1.00, 3.00, 10.00])\n",
    "    \n",
    "    if (z0 != 0.0):\n",
    "        n = 10\n",
    "        \n",
    "        if (np.abs(r - u) <= (0.2 * z0)):\n",
    "            n = 200\n",
    "        \n",
    "        zne = 0.0\n",
    "        res = 0.0\n",
    "        i = 0\n",
    "        while i < 5: \n",
    "            zol = zne\n",
    "            zne = zeds[i] * z0\n",
    "            step = (zne - zol) / n\n",
    "            z = zol\n",
    "            res += step * func(r,u,z) * drho_du(u,z,z0,mode) / 3.0\n",
    "            w = 4.0 / 3.0         \n",
    "            j = 0.0\n",
    "            while j < n:\n",
    "                z += step\n",
    "                res += step * func(r,u,z) * drho_du(u,z,z0,mode) * w\n",
    "                w = 2.0 - w\n",
    "                j += 1\n",
    "            res -= step * func(r,u,z) * drho_du(u,z,z0,mode) / 3.0\n",
    "            i += 1\n",
    "    else:\n",
    "        res = func(r,u,z0)\n",
    "    return res\n",
    "\n",
    "# Outer integral, integral over u\n",
    "def interg(xd,yd,nd,r,rstart,z0,step,ndens,mode):\n",
    "    vsq = 0.0\n",
    "    i = 1\n",
    "    k = 0\n",
    "    while k < ndens:\n",
    "        if (k == 0 or k == (ndens - 1)):\n",
    "            iw = 1\n",
    "        else:\n",
    "            iw = 4 - 2 * ((k + 1) % 2)\n",
    "        \n",
    "        x = rstart + step * k\n",
    "        y = 0.0\n",
    "\n",
    "        if (x < xd[nd-1]): \n",
    "            done = False\n",
    "            while (done == False) & (i < (nd - 1)):\n",
    "                #if i==1:\n",
    "                    #print(\"            Checking xd...\") #This if (xd...) loop is entered many times in quick succession; doesn't seem to be hanging so much as running too much. Not seeing the \"increased i for the first time\" as frequently as I would have expected, but this if statement IS completing quickly.\n",
    "                if (xd[i-1] <= x) & (xd[i+1] >= x):\n",
    "                    k1 = i - 1\n",
    "                    while k1 <= (i + 1):\n",
    "                        f = 1.0\n",
    "                        k2 = i - 1\n",
    "                        while k2 <= (i + 1):\n",
    "                            if (k1 != k2):\n",
    "                                f *= (x - xd[k2]) / (xd[k1] - xd[k2])\n",
    "                            k2 += 1\n",
    "                        y += f * yd[k1]\n",
    "                        done = True\n",
    "                        k1 += 1\n",
    "                else:\n",
    "                    i += 1\n",
    "            if (y > 0.0):\n",
    "                res = intzed(r,x,y,z0,mode)\n",
    "                vsq += CONSTANT * res * y * step * iw\n",
    "        k += 1\n",
    "    return vsq"
   ]
  },
  {
   "cell_type": "raw",
   "metadata": {},
   "source": [
    "velocs_rotmod = np.zeros(len(radii))\n",
    "nradii = len(radii)\n",
    "rings = xdinp\n",
    "nring = len(rings)              # number of sampling radii\n",
    "ntimes = len(xdinp)             # number of items\n",
    "ndinp = len(ydinp)\n",
    "naccur = 1\n",
    "z1 = 0.58\n",
    "\n",
    "i = 0\n",
    "j = 0\n",
    "\n",
    "while i < nradii:\n",
    "    r = radii[i]\n",
    "    vsq = 0.0\n",
    "\n",
    "    if i == 0:\n",
    "        print(\"Loop variables set. Setting variable j...\")\n",
    "    \n",
    "    while j < nring and rings[j] < r:\n",
    "        j += 1\n",
    "\n",
    "    if i == 0:\n",
    "        print(\"Initial value of j set to \"+str(j)+\". Setting additional variables...\")\n",
    "    \n",
    "    skip = rings[j] != r\n",
    "    #z1 = z0\n",
    "    \n",
    "    r1 = r - 3.0 * z1\n",
    "    if r1 < 0.0:\n",
    "        r1 = 0.0\n",
    "    \n",
    "    r2 = 0.0\n",
    "    \n",
    "    print(\"r1 = {}\".format(r1))\n",
    "    print(\"r2 = {}\".format(r2))\n",
    "\n",
    "    if r1 < (rcut + 2.0 * delta):\n",
    "        r2 = r + (r - r1)\n",
    "        ndens = 6 * ntimes + 1\n",
    "        step = (r2 - r1) / (ndens - 1)\n",
    "        rstart = r1\n",
    "        vsq += interg(xdinp,ydinp,ndinp,r,rstart,z0,step,ndens,mode)\n",
    "        \n",
    "        if r1 > 0.0:\n",
    "            ndens = r1 * ntimes / h\n",
    "            ndens = 2 * (ndens / 2) + 3       # multiplies and devides by 2, it's unnecessary\n",
    "            step = r1 / (ndens - 1)\n",
    "            rstart = 0.0\n",
    "            vsq += interg(xdinp,ydinp,ndinp,r,rstart,z0,step,ndens,mode)\n",
    "    \n",
    "    if r2 < (rcut + 2.0 * delta):\n",
    "        ndens = (rcut + 2.0 * delta - r2) * ntimes / h\n",
    "        ndens = 2 * (ndens / 2) + 3\n",
    "        step = (rcut + 2.0 * delta - r2) / (ndens - 1)\n",
    "        rstart = r2\n",
    "        vsq += interg(xdinp,ydinp,ndinp,r,rstart,z0,step,ndens,mode)\n",
    "    \n",
    "    print(\"vsq = {}\".format(vsq))\n",
    "    if vsq < 0.0:\n",
    "           velocs_rotmod[i] = (-np.sqrt(-vsq))\n",
    "    else:\n",
    "           velocs_rotmod[i] = (np.sqrt(vsq))\n",
    "    i += 1"
   ]
  },
  {
   "cell_type": "markdown",
   "metadata": {},
   "source": [
    "### Integration, using built-in python functions: scipy simps"
   ]
  },
  {
   "cell_type": "raw",
   "metadata": {},
   "source": [
    "# Reverse order of variables to setup for integration\n",
    "integrand2 = lambda z,u,r,z0,G,mode: integrand(r,u,z,z0,G,mode)\n",
    "\n",
    "# Points at which the function is sampled\n",
    "points = np.linspace(intmin,intmax,100)\n",
    "\n",
    "# Inner integral, integral over z\n",
    "integrand2_simps = lambda u,r,z0,G,mode: simps(integrand2, points, dx=0.1)\n",
    "print(integrand2_simps(2,1,z0,G,mode))\n",
    "\n",
    "# Outer integral, integral over u\n",
    "radialforce_simps = lambda r,z0,G,mode: simps(integrand2_simps, points, dx=0.1)\n",
    "\n",
    "# Calculate radial force\n",
    "radialforce_simps = np.vectorize(radialforce_simps)\n",
    "print(radialforce_simps(1,z0,G,mode))\n",
    "\n",
    "# Velocity\n",
    "velocs_simps = np.sqrt(-radii*radialforce_simps(radii,z0,G,mode))"
   ]
  },
  {
   "cell_type": "markdown",
   "metadata": {},
   "source": [
    "### Integration, using manual simpson's rule"
   ]
  },
  {
   "cell_type": "code",
   "execution_count": 21,
   "metadata": {},
   "outputs": [
    {
     "name": "stderr",
     "output_type": "stream",
     "text": [
      "C:\\Users\\JB\\AppData\\Local\\Continuum\\anaconda3\\lib\\site-packages\\ipykernel_launcher.py:4: RuntimeWarning: invalid value encountered in double_scalars\n",
      "  after removing the cwd from sys.path.\n",
      "C:\\Users\\JB\\AppData\\Local\\Continuum\\anaconda3\\lib\\site-packages\\ipykernel_launcher.py:3: RuntimeWarning: invalid value encountered in double_scalars\n",
      "  This is separate from the ipykernel package so we can avoid doing imports until\n"
     ]
    },
    {
     "name": "stdout",
     "output_type": "stream",
     "text": [
      "<function <lambda> at 0x0000020D05433BF8>\n",
      "nan\n",
      "nan\n"
     ]
    }
   ],
   "source": [
    "\"\"\"def simpson(f,a,b,n):\n",
    "    h = (b - a) / (n - 1)\n",
    "    x = np.linspace(a, b, n)\n",
    "    print(type(f))\n",
    "    simpson = (h/3) * (f[0] + 2*sum(f[:n-2:2]) + 4*sum(f[1:n-1:2]) + f[n-1])\n",
    "    return simpson\"\"\"\n",
    "\n",
    "def simpson(f, a, b, n, args):\n",
    "    h=(b-a)/n\n",
    "    k=0.0\n",
    "    x=a\n",
    "    nhalf = int(n/2) #Workaround for type handling issue\n",
    "    for i in range(1,nhalf):\n",
    "        x += 2*h\n",
    "        k += 4*f(x,*args)\n",
    "    for i in range(2,nhalf-1):\n",
    "        x += 2*h\n",
    "        k += 2*f(x,*args)\n",
    "    return (h/3)*(f(a,*args)+f(b,*args)+k)\n",
    "\n",
    "z = np.array([0.02, 0.50, 1.00, 3.00, 10.00])\n",
    "u = np.array([0.02, 0.50, 1.00, 3.00, 10.00])\n",
    "\n",
    "# Reverse order of variables to setup for integration\n",
    "# Changed the name of this because it interfered with radialforce function\n",
    "integrand3 = lambda z,u,r,z0,G,mode: integrand(z,r,u,z0,G,mode)\n",
    "\n",
    "# Inner integral, integral over z\n",
    "integrand3_simps2 = lambda u,r,z0,G,mode: simpson(integrand3, 0, np.inf, 100,args=(u,r,z0,G,mode))\n",
    "print(integrand3_simps2)\n",
    "print(integrand3_simps2(2,1,z0,G,mode))\n",
    "\n",
    "# Outer integral, integral over u\n",
    "radialforce_simps2 = lambda r,z0,G,mode: simpson(integrand3_simps2, 1e-20, np.inf, 100,args=(r,z0,G,mode))\n",
    "\n",
    "# Calculate radial force\n",
    "radialforce_simps2 = np.vectorize(radialforce_simps2)\n",
    "print(radialforce_simps2(1,z0,G,mode))\n",
    "\n",
    "# Velocity\n",
    "velocs_simps2 = np.sqrt(-radii*radialforce_simps2(radii,z0,G,mode))"
   ]
  },
  {
   "cell_type": "code",
   "execution_count": 22,
   "metadata": {},
   "outputs": [
    {
     "name": "stdout",
     "output_type": "stream",
     "text": [
      "<class 'numpy.ndarray'>\n",
      "[0.00000000e+00 3.09016994e-01 5.87785252e-01 8.09016994e-01\n",
      " 9.51056516e-01 1.00000000e+00 9.51056516e-01 8.09016994e-01\n",
      " 5.87785252e-01 3.09016994e-01 1.22464680e-16]\n",
      "2.0001095173150043\n",
      "-0.00010951731500430384\n"
     ]
    }
   ],
   "source": [
    "a = 0\n",
    "b = np.pi\n",
    "n = 11\n",
    "h = (b - a) / (n - 1)\n",
    "x = np.linspace(a, b, n)\n",
    "f = np.sin(x)\n",
    "print(type(f))\n",
    "print(f)\n",
    "I_simp = (h/3) * (f[0] + 2*sum(f[:n-2:2]) \\\n",
    "            + 4*sum(f[1:n-1:2]) + f[n-1])\n",
    "err_simp = 2 - I_simp\n",
    "\n",
    "print(I_simp)\n",
    "print(err_simp)"
   ]
  },
  {
   "cell_type": "markdown",
   "metadata": {},
   "source": [
    "## Velocity"
   ]
  },
  {
   "cell_type": "code",
   "execution_count": 23,
   "metadata": {},
   "outputs": [
    {
     "name": "stdout",
     "output_type": "stream",
     "text": [
      "[ 0.1  0.2  0.3  0.4  0.5  0.6  0.7  0.8  0.9  1.   1.1  1.2  1.3  1.4\n",
      "  1.5  1.6  1.7  1.8  1.9  2.   2.1  2.2  2.3  2.4  2.5  2.6  2.7  2.8\n",
      "  2.9  3.   3.1  3.2  3.3  3.4  3.5  3.6  3.7  3.8  3.9  4.   4.1  4.2\n",
      "  4.3  4.4  4.5  4.6  4.7  4.8  4.9  5.   5.1  5.2  5.3  5.4  5.5  5.6\n",
      "  5.7  5.8  5.9  6.   6.1  6.2  6.3  6.4  6.5  6.6  6.7  6.8  6.9  7.\n",
      "  7.1  7.2  7.3  7.4  7.5  7.6  7.7  7.8  7.9  8.   8.1  8.2  8.3  8.4\n",
      "  8.5  8.6  8.7  8.8  8.9  9.   9.1  9.2  9.3  9.4  9.5  9.6  9.7  9.8\n",
      "  9.9 10.  10.1 10.2 10.3 10.4 10.5 10.6 10.7 10.8 10.9 11.  11.1]\n"
     ]
    },
    {
     "name": "stderr",
     "output_type": "stream",
     "text": [
      "C:\\Users\\JB\\AppData\\Local\\Continuum\\anaconda3\\lib\\site-packages\\ipykernel_launcher.py:13: RuntimeWarning: overflow encountered in double_scalars\n",
      "  del sys.path[0]\n",
      "C:\\Users\\JB\\AppData\\Local\\Continuum\\anaconda3\\lib\\site-packages\\ipykernel_launcher.py:11: RuntimeWarning: overflow encountered in cosh\n",
      "  # This is added back by InteractiveShellApp.init_path()\n",
      "C:\\Users\\JB\\AppData\\Local\\Continuum\\anaconda3\\lib\\site-packages\\ipykernel_launcher.py:3: RuntimeWarning: invalid value encountered in double_scalars\n",
      "  This is separate from the ipykernel package so we can avoid doing imports until\n"
     ]
    },
    {
     "name": "stdout",
     "output_type": "stream",
     "text": [
      "[-4.89393174e+16 -4.89395608e+16 -4.89398063e+16 -4.89400514e+16\n",
      " -4.89402966e+16 -4.89405417e+16 -4.89407869e+16 -4.89410321e+16\n",
      " -4.89412772e+16 -4.89415223e+16 -4.89417675e+16 -4.89420127e+16\n",
      " -4.89422579e+16 -4.89425030e+16 -4.89427482e+16 -4.89429934e+16\n",
      " -4.89432386e+16 -4.89434838e+16 -4.89437290e+16 -4.89439742e+16\n",
      " -4.89442194e+16 -4.89444646e+16 -4.89447098e+16 -4.89449550e+16\n",
      " -4.89452003e+16 -4.89454455e+16 -4.89456907e+16 -4.89459360e+16\n",
      " -4.89461812e+16 -4.89464264e+16 -4.89466717e+16 -4.89469169e+16\n",
      " -4.89471622e+16 -4.89474075e+16 -4.89476527e+16 -4.89478980e+16\n",
      " -4.89481433e+16 -4.89483885e+16 -4.89486338e+16 -4.89488791e+16\n",
      " -4.89491244e+16 -4.89493697e+16 -4.89496150e+16 -4.89498603e+16\n",
      " -4.89501056e+16 -4.89503509e+16 -4.89505962e+16 -4.89508415e+16\n",
      " -4.89510868e+16 -4.89513322e+16 -4.89515775e+16 -4.89518228e+16\n",
      " -4.89520682e+16 -4.89523135e+16 -4.89525589e+16 -4.89528042e+16\n",
      " -4.89530496e+16 -4.89532949e+16 -4.89535403e+16 -4.89537856e+16\n",
      " -4.89540310e+16 -4.89542764e+16 -4.89545218e+16 -4.89547672e+16\n",
      " -4.89550125e+16 -4.89552579e+16 -4.89555033e+16 -4.89557487e+16\n",
      " -4.89559941e+16 -4.89562395e+16 -4.89564849e+16 -4.89567304e+16\n",
      " -4.89569758e+16 -4.89572212e+16 -4.89574666e+16 -4.89577121e+16\n",
      " -4.89579575e+16 -4.89582029e+16 -4.89584484e+16 -4.89586938e+16\n",
      " -4.89589393e+16 -4.89591847e+16 -4.89594302e+16 -4.89596757e+16\n",
      " -4.89599211e+16 -4.89601666e+16 -4.89604121e+16 -4.89606576e+16\n",
      " -4.89609031e+16 -4.89611485e+16 -4.89613940e+16 -4.89616395e+16\n",
      " -4.89618850e+16 -4.89621305e+16 -4.89623761e+16 -4.89626216e+16\n",
      " -4.89628671e+16 -4.89631126e+16 -4.89633581e+16 -4.89636037e+16\n",
      " -4.89638492e+16 -4.89640947e+16 -4.89643403e+16 -4.89645858e+16\n",
      " -4.89648314e+16 -4.89650769e+16 -4.89653225e+16 -4.89655681e+16\n",
      " -4.89658136e+16 -4.89660592e+16 -4.89663048e+16]\n",
      "[6.99566418e+07 9.89338777e+07 1.21169063e+08 1.39914333e+08\n",
      " 1.56429372e+08 1.71360220e+08 1.85090656e+08 1.97870730e+08\n",
      " 2.09874128e+08 2.21227309e+08 2.32025741e+08 2.42343589e+08\n",
      " 2.52239837e+08 2.61762305e+08 2.70950406e+08 2.79837077e+08\n",
      " 2.88450179e+08 2.96813529e+08 3.04947676e+08 3.12870498e+08\n",
      " 3.20597662e+08 3.28142990e+08 3.35518751e+08 3.42735893e+08\n",
      " 3.49804232e+08 3.56732615e+08 3.63529043e+08 3.70200784e+08\n",
      " 3.76754463e+08 3.83196137e+08 3.89531362e+08 3.95765251e+08\n",
      " 4.01902520e+08 4.07947528e+08 4.13904318e+08 4.19776646e+08\n",
      " 4.25568009e+08 4.31281667e+08 4.36920670e+08 4.42487871e+08\n",
      " 4.47985948e+08 4.53417415e+08 4.58784638e+08 4.64089846e+08\n",
      " 4.69335142e+08 4.74522512e+08 4.79653836e+08 4.84730894e+08\n",
      " 4.89755373e+08 4.94728876e+08 4.99652925e+08 5.04528967e+08\n",
      " 5.09358382e+08 5.14142483e+08 5.18882524e+08 5.23579701e+08\n",
      " 5.28235158e+08 5.32849989e+08 5.37425239e+08 5.41961912e+08\n",
      " 5.46460968e+08 5.50923328e+08 5.55349878e+08 5.59741467e+08\n",
      " 5.64098911e+08 5.68422996e+08 5.72714477e+08 5.76974082e+08\n",
      " 5.81202512e+08 5.85400441e+08 5.89568523e+08 5.93707385e+08\n",
      " 5.97817634e+08 6.01899856e+08 6.05954619e+08 6.09982468e+08\n",
      " 6.13983935e+08 6.17959532e+08 6.21909754e+08 6.25835083e+08\n",
      " 6.29735983e+08 6.33612906e+08 6.37466290e+08 6.41296558e+08\n",
      " 6.45104123e+08 6.48889384e+08 6.52652729e+08 6.56394536e+08\n",
      " 6.60115170e+08 6.63814987e+08 6.67494334e+08 6.71153547e+08\n",
      " 6.74792954e+08 6.78412874e+08 6.82013616e+08 6.85595484e+08\n",
      " 6.89158770e+08 6.92703763e+08 6.96230742e+08 6.99739978e+08\n",
      " 7.03231738e+08 7.06706280e+08 7.10163858e+08 7.13604717e+08\n",
      " 7.17029100e+08 7.20437239e+08 7.23829366e+08 7.27205703e+08\n",
      " 7.30566471e+08 7.33911882e+08 7.37242147e+08]\n"
     ]
    }
   ],
   "source": [
    "print(radii)\n",
    "\n",
    "forces = radialforce(radii,z0,G,mode)\n",
    "print(forces)\n",
    "\n",
    "velocs = np.sqrt(-radii*radialforce(radii,z0,G,mode))\n",
    "print(velocs)\n",
    "\n",
    "velocs_smooth = savgol_filter(velocs[np.isnan(velocs) == False], 11, 4)"
   ]
  },
  {
   "cell_type": "markdown",
   "metadata": {},
   "source": [
    "## Comparison"
   ]
  },
  {
   "cell_type": "code",
   "execution_count": 24,
   "metadata": {},
   "outputs": [],
   "source": [
    "# Gas\n",
    "tracedgas = np.loadtxt(\"../NGC_5005/traced_data/ngc5005_gas.txt\")\n",
    "tracedgas_r, tracedgas_v = tracedgas.T\n",
    "tracedgas_r = tracedgas_r[1:]\n",
    "tracedgas_v = tracedgas_v[1:]\n",
    "\n",
    "# Disk\n",
    "traceddisk = np.loadtxt(\"../NGC_5005/traced_data/ngc5005_disk.txt\")\n",
    "traceddisk_r, traceddisk_v = traceddisk.T\n",
    "traceddisk_r = traceddisk_r[1:]\n",
    "traceddisk_v = traceddisk_v[1:]"
   ]
  },
  {
   "cell_type": "markdown",
   "metadata": {},
   "source": [
    "## Plot"
   ]
  },
  {
   "cell_type": "code",
   "execution_count": 25,
   "metadata": {},
   "outputs": [
    {
     "data": {
      "image/png": "[encoded data removed]",
      "text/plain": [
       "<Figure size 576x432 with 1 Axes>"
      ]
     },
     "metadata": {
      "needs_background": "light"
     },
     "output_type": "display_data"
    }
   ],
   "source": [
    "scale = 5e2\n",
    "plt.figure(figsize=(8,6))             \n",
    "#plt.scatter(radii, scale*velocs, linestyle='solid', label='Scaled calculated gas velocity by {}'.format(scale))\n",
    "#plt.plot(radii, scale*velocs, linestyle='solid', label='Scaled calculated gas velocity by {}'.format(scale))\n",
    "#plt.plot(radii[np.isnan(velocs)==False], scale*velocs_smooth, linestyle='solid', label='Smoothed Gas Velocity')\n",
    "plt.scatter(radii, velocs, linestyle='solid', label='Scaled calculated gas velocity by {}'.format(scale))\n",
    "plt.plot(radii, velocs, linestyle='solid', label='Scaled calculated gas velocity by {}'.format(scale))\n",
    "plt.plot(radii[np.isnan(velocs)==False], velocs_smooth, linestyle='solid', label='Smoothed Gas Velocity')\n",
    "#plt.plot(radii, scale*velocs_rotmod, linestyle='solid', label='Rotmod functions')\n",
    "#plt.plot(radii, scale*velocs_simps, linestyle='solid', label='Scipy Simpson rule')\n",
    "plt.scatter(tracedgas_r, tracedgas_v, label='Expected Gas Velocity', c='red')\n",
    "plt.axis('tight');\n",
    "plt.title('NGC 5005')\n",
    "plt.xlabel('Radius (KPC)', fontsize=10)\n",
    "plt.ylabel('Velocity (KM/S)', fontsize=10)\n",
    "#plt.xlim(0,12)\n",
    "plt.legend(fontsize=10)\n",
    "plt.show()"
   ]
  },
  {
   "cell_type": "code",
   "execution_count": 26,
   "metadata": {},
   "outputs": [
    {
     "name": "stdout",
     "output_type": "stream",
     "text": [
      "[ 0.1  0.2  0.3  0.4  0.5  0.6  0.7  0.8  0.9  1.   1.1  1.2  1.3  1.4\n",
      "  1.5  1.6  1.7  1.8  1.9  2.   2.1  2.2  2.3  2.4  2.5  2.6  2.7  2.8\n",
      "  2.9  3.   3.1  3.2  3.3  3.4  3.5  3.6  3.7  3.8  3.9  4.   4.1  4.2\n",
      "  4.3  4.4  4.5  4.6  4.7  4.8  4.9  5.   5.1  5.2  5.3  5.4  5.5  5.6\n",
      "  5.7  5.8  5.9  6.   6.1  6.2  6.3  6.4  6.5  6.6  6.7  6.8  6.9  7.\n",
      "  7.1  7.2  7.3  7.4  7.5  7.6  7.7  7.8  7.9  8.   8.1  8.2  8.3  8.4\n",
      "  8.5  8.6  8.7  8.8  8.9  9.   9.1  9.2  9.3  9.4  9.5  9.6  9.7  9.8\n",
      "  9.9 10.  10.1 10.2 10.3 10.4 10.5 10.6 10.7 10.8 10.9 11.  11.1]\n",
      "[6.99566418e+07 9.89338777e+07 1.21169063e+08 1.39914333e+08\n",
      " 1.56429372e+08 1.71360220e+08 1.85090656e+08 1.97870730e+08\n",
      " 2.09874128e+08 2.21227309e+08 2.32025741e+08 2.42343589e+08\n",
      " 2.52239837e+08 2.61762305e+08 2.70950406e+08 2.79837077e+08\n",
      " 2.88450179e+08 2.96813529e+08 3.04947676e+08 3.12870498e+08\n",
      " 3.20597662e+08 3.28142990e+08 3.35518751e+08 3.42735893e+08\n",
      " 3.49804232e+08 3.56732615e+08 3.63529043e+08 3.70200784e+08\n",
      " 3.76754463e+08 3.83196137e+08 3.89531362e+08 3.95765251e+08\n",
      " 4.01902520e+08 4.07947528e+08 4.13904318e+08 4.19776646e+08\n",
      " 4.25568009e+08 4.31281667e+08 4.36920670e+08 4.42487871e+08\n",
      " 4.47985948e+08 4.53417415e+08 4.58784638e+08 4.64089846e+08\n",
      " 4.69335142e+08 4.74522512e+08 4.79653836e+08 4.84730894e+08\n",
      " 4.89755373e+08 4.94728876e+08 4.99652925e+08 5.04528967e+08\n",
      " 5.09358382e+08 5.14142483e+08 5.18882524e+08 5.23579701e+08\n",
      " 5.28235158e+08 5.32849989e+08 5.37425239e+08 5.41961912e+08\n",
      " 5.46460968e+08 5.50923328e+08 5.55349878e+08 5.59741467e+08\n",
      " 5.64098911e+08 5.68422996e+08 5.72714477e+08 5.76974082e+08\n",
      " 5.81202512e+08 5.85400441e+08 5.89568523e+08 5.93707385e+08\n",
      " 5.97817634e+08 6.01899856e+08 6.05954619e+08 6.09982468e+08\n",
      " 6.13983935e+08 6.17959532e+08 6.21909754e+08 6.25835083e+08\n",
      " 6.29735983e+08 6.33612906e+08 6.37466290e+08 6.41296558e+08\n",
      " 6.45104123e+08 6.48889384e+08 6.52652729e+08 6.56394536e+08\n",
      " 6.60115170e+08 6.63814987e+08 6.67494334e+08 6.71153547e+08\n",
      " 6.74792954e+08 6.78412874e+08 6.82013616e+08 6.85595484e+08\n",
      " 6.89158770e+08 6.92703763e+08 6.96230742e+08 6.99739978e+08\n",
      " 7.03231738e+08 7.06706280e+08 7.10163858e+08 7.13604717e+08\n",
      " 7.17029100e+08 7.20437239e+08 7.23829366e+08 7.27205703e+08\n",
      " 7.30566471e+08 7.33911882e+08 7.37242147e+08]\n"
     ]
    }
   ],
   "source": [
    "print(radii)\n",
    "print(velocs)"
   ]
  }
 ],
 "metadata": {
  "kernelspec": {
   "display_name": "Python 3",
   "language": "python",
   "name": "python3"
  },
  "language_info": {
   "codemirror_mode": {
    "name": "ipython",
    "version": 3
   },
   "file_extension": ".py",
   "mimetype": "text/x-python",
   "name": "python",
   "nbconvert_exporter": "python",
   "pygments_lexer": "ipython3",
   "version": "3.7.1"
  }
 },
 "nbformat": 4,
 "nbformat_minor": 4
}
