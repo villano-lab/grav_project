{
 "cells": [
  {
   "cell_type": "code",
   "execution_count": 1,
   "metadata": {},
   "outputs": [],
   "source": [
    "import numpy as np\n",
    "import matplotlib.pyplot as plt\n",
    "from scipy.integrate import quad, nquad, simps\n",
    "from scipy.special import ellipe, ellipk\n",
    "from scipy.interpolate import lagrange, InterpolatedUnivariateSpline\n",
    "from scipy.signal import savgol_filter"
   ]
  },
  {
   "cell_type": "markdown",
   "metadata": {},
   "source": [
    "## Notes"
   ]
  },
  {
   "cell_type": "markdown",
   "metadata": {},
   "source": [
    "__From rotmod.c:__ <br>\n",
    "For the  sampling radii you should use an increment of about 0.2 times the disk scale length, and the maximum sampling radius should at least be larger than the radius of the last measured point on your observed rotation curve. <br>\n",
    "If the user wants to enter a measured density profile, and the central density is not given (density at R=0), the program will use linear extrapolation to obtain the central density."
   ]
  },
  {
   "cell_type": "markdown",
   "metadata": {},
   "source": [
    "## User input"
   ]
  },
  {
   "cell_type": "code",
   "execution_count": 2,
   "metadata": {},
   "outputs": [],
   "source": [
    "user = True  # use imported data\n",
    "\n",
    "# Gas:\n",
    "# Conversion to linear scale was made in the notebook: grav_project/NGC_5005/Gas_from_mass_surface_density.ipynb\n",
    "raddens = \"../data/gasmsd_kpc_linear.txt\"      # Gas density with 2 columns, units: KPC, MSUN/PC^2\n",
    "units = 'KPC,MSUN/PC**2'\n",
    "radii = np.arange(0.1,11.18,0.1)               # Sampling radii\n",
    "\n",
    "# Disk:\n",
    "# See for more: grav_project/NGC_5005/Disk_from_surface_brightness_profile.ipynb\n",
    "#raddens = \"../data/NGC5005-disk_arcsec.txt\"    # Disk surface brightness with 4 colums, units: ARCSEC, MAG/ARCSEC^2\n",
    "#units = 'ARCSEC,MAG/ARCSEC**2'\n",
    "#radii = np.arange(0.001,35,0.01)\n",
    "\n",
    "zlaw = 2                            # Case 2: sech-squared density law\n",
    "mode = zlaw                         # Density distribution mode\n",
    "\n",
    "# Parameters\n",
    "G = 0.00000431158                   # Gravitational constant (KPC/MSUN*(KM/S)^2)  \n",
    "CONSTANT = 2.0 * np.pi * G / 3.0\n",
    "EPS = 0.000001\n",
    "z0 = 0.93\n",
    "distance = 16.5                    # Distance in MPC\n",
    "\n",
    "# we only need dens0 and h if user is FALSE (i.e. when density is calculated), otherwise we don't need it\n",
    "h = 2                              # GUESS: radial scale-length (KPC)\n",
    "#dens0 = 10**2.4                    # GUESS: central surface density (MSUN/PC^2): from Fig 8. Paper 13\n",
    "dens0 = 4e2                        # GUESS: central surface density (MSUN/PC^2)"
   ]
  },
  {
   "cell_type": "markdown",
   "metadata": {},
   "source": [
    "## Density distribution"
   ]
  },
  {
   "cell_type": "code",
   "execution_count": 3,
   "metadata": {},
   "outputs": [],
   "source": [
    "# There are three distribution laws possible; \n",
    "# the Van der Kruit and Searle law (SECH-SQUARED): D(Z)=sech(Z/Z0)**2/Z0,\n",
    "# an exponential density law (EXPONENTIAL): D(Z)=exp(-Z/Z0)/Z0 \n",
    "# a simple sech law (SIMPLE-SECH): D(Z)=2*sech(Z/Z0)/Z0/PI. \n",
    "\n",
    "# case 1 is a flat disk, z0 = 0\n",
    "#####################################\n",
    "\n",
    "# Sech-squared law:\n",
    "def denzed_case2(z,z0): \n",
    "    r = np.cosh(z / z0)\n",
    "    r = r * r * z0    # In the GIPSY rotmod.c, this is multiplied by z0 but in Caserano Eq 2 there isn't any z0\n",
    "    #r = r * r\n",
    "    r = 1.0 / r\n",
    "    return r           # calling this r is kind of misleading but Rotmod is calling it r\n",
    "                       # returns: density as a function of z (I think)\n",
    "\n",
    "# Exponential:\n",
    "def denzed_case3(z,z0):\n",
    "    r = np.exp(-z / z0) /z0\n",
    "    return r\n",
    "\n",
    "# Simple-sech\n",
    "def denzed_case4(z,z0):\n",
    "    r = 2 / z0 / np.pi / np.cosh(z/z0)\n",
    "    return r\n",
    "\n",
    "def denzed(z,z0,mode):\n",
    "    #The above results in the user being asked for every point entered; this was likely used as a backend.\n",
    "    if mode == 2:\n",
    "        return denzed_case2(z,z0)\n",
    "    if mode == 3:\n",
    "        return denzed_case3(z,z0)\n",
    "    if mode == 4:\n",
    "        return denzed_case4(z,z0)\n",
    "    else:\n",
    "        return np.nan\n",
    "        print(\"Error occured in denzed; no mode selected. Returned nan.\")"
   ]
  },
  {
   "cell_type": "markdown",
   "metadata": {},
   "source": [
    "## Density profile"
   ]
  },
  {
   "cell_type": "code",
   "execution_count": 4,
   "metadata": {},
   "outputs": [],
   "source": [
    "def DensityProfile(user=user,raddens=raddens,units=units,mode=mode,dens0=dens0,h=h):\n",
    "    \n",
    "    ##################################\n",
    "    # Case 1: Import density profile #\n",
    "    ##################################\n",
    "    \n",
    "    if user == True:\n",
    "        if units == 'KPC,MSUN/PC**2':\n",
    "            mudata = np.loadtxt(raddens)\n",
    "            if np.shape(np.loadtxt(raddens))[1] == 2:     # this just checks if the file has 2 or 4 columns\n",
    "                xdinp, ydinp = mudata.T\n",
    "            if np.shape(np.loadtxt(raddens))[1] == 4:\n",
    "                xdinp, ydinp, xerror, yerror = mudata.T\n",
    "\n",
    "        if units == 'ARCSEC,MAG/ARCSEC**2':\n",
    "            mudata = np.loadtxt(raddens)\n",
    "            if np.shape(np.loadtxt(raddens))[1] == 2:\n",
    "                xdinp, ydinp = mudata.T\n",
    "            if np.shape(np.loadtxt(raddens))[1] == 4:\n",
    "                xdinp, ydinp, xerror, yerror = mudata.T\n",
    "\n",
    "            # Conversion\n",
    "            # ARCSEC to KPC\n",
    "            xdinp = 4.8481E-3 * distance * xdinp\n",
    "\n",
    "            # MAG/ARCSEC^2 to MSUN/PC^2\n",
    "            ydinp = 10**(-0.4 * ydinp)\n",
    "            ydinp = (4.8481E-3 * distance)**(-2) * ydinp\n",
    "            \n",
    "        if units == 'KPC,MAG/ARCSEC**2':\n",
    "            mudata = np.loadtxt(raddens)\n",
    "            if np.shape(np.loadtxt(raddens))[1] == 2:\n",
    "                xdinp, ydinp = mudata.T\n",
    "            if np.shape(np.loadtxt(raddens))[1] == 4:\n",
    "                xdinp, ydinp, xerror, yerror = mudata.T\n",
    "\n",
    "            # Conversion\n",
    "            # MAG/ARCSEC^2 to MSUN/PC^2\n",
    "            ydinp = 10**(-0.4 * ydinp)\n",
    "            ydinp = (4.8481E-3 * distance)**(-2) * ydinp\n",
    "            \n",
    "        LEN1 = len(xdinp)                   # GUESS: defined as length of radius array\n",
    "        LEN2 = len(ydinp)                   # GUESS: defined as lenght of density array\n",
    "        ndinp = LEN2                        # number of surface densities. GUESS: length of density array again\n",
    "        rcut = xdinp[ndinp-1]               # takes second to last radius value\n",
    "        delta = rcut - xdinp[ndinp-2]       # difference between the second to last radius value and the third to last radius value\n",
    "    \n",
    "    \n",
    "    #####################################\n",
    "    # Case 2: Calculate density profile #\n",
    "    #####################################\n",
    "    \n",
    "    if user == False:\n",
    "    \n",
    "        # User need to provide dens0 (in MSUN/PC^2) and h (in KPC)\n",
    "        dens0 = dens0           # central density of exponential DISK\n",
    "        # convert disk central surface brightness from MAG/ARCSEC^2 to MSUN/KPC^2\n",
    "        #dens0 = 10**(-0.4 * dens0)       \n",
    "        #dens0 = (4.8481E-3 * distance)**(-2) * dens0\n",
    "        #dens0 = dens0 * 1.0e6        \n",
    "        #print(\"dens0 = {:.4}\".format(dens0))\n",
    "\n",
    "        h = h                   # radial scale length\n",
    "        z0 = 0.2*h              # scale height of DISK in kpc [0.0]. \n",
    "                                  # note: The integration in Z is the most time consuming part\n",
    "                                  # of the calculation. For example it takes about 0.2 seconds\n",
    "                                  # to calculate a point on the rotation curve for a disk with zero\n",
    "                                  # thickness, and about 2 seconds for a disk with non-zero thickness.\n",
    "        rcut = 4*h              # cutoff radius\n",
    "        delta = 0.2*h           # softening parameter of DISK in kpc [0.0]. It may be wise\n",
    "                                  # to have a non-zero softening in case of a truncated disk, \n",
    "                                  # because then the sharp features in the calculated rotation \n",
    "                                  # curve will be smoothed out. A softening parameter of about \n",
    "                                  # 0.2 scale lengths would be sufficient.\n",
    "\n",
    "        # Now calculate the surface densities\n",
    "        LEN1 = 1000\n",
    "        LEN2 = 1000\n",
    "        xdinp = np.zeros(LEN2-1)    # radii surface density\n",
    "        ydinp = np.zeros(LEN2-1)    # surface densities\n",
    "        rdinp = rcut + delta      # max radius, where galaxy ends\n",
    "        ndinp = LEN2 - 1          # number of surface densities\n",
    "        xstep = rdinp / (ndinp - 1)        # step in radius\n",
    "\n",
    "        i = 0                              # counter \n",
    "        while i < ndinp:\n",
    "            # Casertano's piecewise function (Eq.3)\n",
    "            xdinp[i] = x = xstep * i\n",
    "            if x >= rcut and delta > 0.0:\n",
    "                y = dens0 * np.exp(-rcut/h)*(rcut+delta-x)/delta\n",
    "            elif x >= rdinp:\n",
    "                y = 0.0                    # end of disk\n",
    "            else:\n",
    "                y = dens0 * np.exp(-x/h)\n",
    "            ydinp[i] = y\n",
    "            i += 1\n",
    "    return xdinp, ydinp, ndinp, rcut, delta, LEN1, LEN2"
   ]
  },
  {
   "cell_type": "code",
   "execution_count": 5,
   "metadata": {},
   "outputs": [
    {
     "data": {
      "image/png": "[encoded data removed]",
      "text/plain": [
       "<Figure size 576x432 with 1 Axes>"
      ]
     },
     "metadata": {
      "needs_background": "light"
     },
     "output_type": "display_data"
    }
   ],
   "source": [
    "# Plot \n",
    "plt.figure(figsize=(8,6))\n",
    "xdinp_imported = DensityProfile(user=True)[0]\n",
    "ydinp_imported = DensityProfile(user=True)[1]\n",
    "plt.scatter(xdinp_imported,ydinp_imported, label=\"Imported Density Profile\")\n",
    "\n",
    "xdinp_calculated = DensityProfile(user=False)[0]\n",
    "ydinp_calculated = DensityProfile(user=False)[1]\n",
    "plt.scatter(xdinp_calculated,ydinp_calculated, label=\"Calculated Density Profile\")\n",
    "plt.xlabel(\"Radius (KPC)\")\n",
    "plt.ylabel(\"Surface Density (MSUN/$PC^2$)\")\n",
    "plt.title(\"Difference between USER=TRUE and USER=FALSE\")\n",
    "plt.legend()\n",
    "plt.show()"
   ]
  },
  {
   "cell_type": "markdown",
   "metadata": {},
   "source": [
    "## Define some values"
   ]
  },
  {
   "cell_type": "code",
   "execution_count": 6,
   "metadata": {},
   "outputs": [],
   "source": [
    "# Radius\n",
    "xdinp = DensityProfile()[0]\n",
    "# Density\n",
    "ydinp = DensityProfile()[1]\n",
    "\n",
    "# Cutoff radius\n",
    "rcut = DensityProfile()[3]\n",
    "# Cutoff length\n",
    "delta = DensityProfile()[4]\n",
    "\n",
    "# Set the first value of sampling radius equal to the first value of measured radius\n",
    "radii[0] = xdinp[0]"
   ]
  },
  {
   "cell_type": "code",
   "execution_count": 7,
   "metadata": {},
   "outputs": [
    {
     "name": "stdout",
     "output_type": "stream",
     "text": [
      "0.0172\n",
      "[ 0.0172  0.2     0.3     0.4     0.5     0.6     0.7     0.8     0.9\n",
      "  1.      1.1     1.2     1.3     1.4     1.5     1.6     1.7     1.8\n",
      "  1.9     2.      2.1     2.2     2.3     2.4     2.5     2.6     2.7\n",
      "  2.8     2.9     3.      3.1     3.2     3.3     3.4     3.5     3.6\n",
      "  3.7     3.8     3.9     4.      4.1     4.2     4.3     4.4     4.5\n",
      "  4.6     4.7     4.8     4.9     5.      5.1     5.2     5.3     5.4\n",
      "  5.5     5.6     5.7     5.8     5.9     6.      6.1     6.2     6.3\n",
      "  6.4     6.5     6.6     6.7     6.8     6.9     7.      7.1     7.2\n",
      "  7.3     7.4     7.5     7.6     7.7     7.8     7.9     8.      8.1\n",
      "  8.2     8.3     8.4     8.5     8.6     8.7     8.8     8.9     9.\n",
      "  9.1     9.2     9.3     9.4     9.5     9.6     9.7     9.8     9.9\n",
      " 10.     10.1    10.2    10.3    10.4    10.5    10.6    10.7    10.8\n",
      " 10.9    11.     11.1   ]\n"
     ]
    }
   ],
   "source": [
    "print(xdinp[0])\n",
    "print(radii)"
   ]
  },
  {
   "cell_type": "markdown",
   "metadata": {},
   "source": [
    "## Interpolation"
   ]
  },
  {
   "cell_type": "code",
   "execution_count": 8,
   "metadata": {},
   "outputs": [],
   "source": [
    "# Define interpolation function\n",
    "def interpd(x,y):\n",
    "    #return lagrange(x,y)                # Lagrange interpolation didn't work well so I used Univariate Spline\n",
    "    #return InterpolatedUnivariateSpline(x,y,k=4)   \n",
    "    return InterpolatedUnivariateSpline(x,y,k=2)   \n",
    "\n",
    "# Spline the given radius and density pairs and define the polynomial that's calculated\n",
    "spline_rhor = interpd(xdinp,ydinp)"
   ]
  },
  {
   "cell_type": "code",
   "execution_count": 9,
   "metadata": {},
   "outputs": [
    {
     "name": "stderr",
     "output_type": "stream",
     "text": [
      "C:\\Users\\JB\\AppData\\Local\\Continuum\\anaconda3\\lib\\site-packages\\scipy\\signal\\_arraytools.py:45: FutureWarning: Using a non-tuple sequence for multidimensional indexing is deprecated; use `arr[tuple(seq)]` instead of `arr[seq]`. In the future this will be interpreted as an array index, `arr[np.array(seq)]`, which will result either in an error or a different result.\n",
      "  b = a[a_slice]\n"
     ]
    }
   ],
   "source": [
    "# Smoothing: Savitzky-Golay filter: https://riptutorial.com/scipy/example/15878/using-a-savitzky-golay-filter\n",
    "smooth_rhor = savgol_filter(spline_rhor(radii), 11, 3)  # window size 11, polynomial order 5\n",
    "# Interpolate smoothed density\n",
    "spline_smooth_rhor = interpd(radii,spline_rhor(radii))"
   ]
  },
  {
   "cell_type": "code",
   "execution_count": 10,
   "metadata": {},
   "outputs": [
    {
     "name": "stdout",
     "output_type": "stream",
     "text": [
      "563.63766\n",
      "563.63766\n"
     ]
    },
    {
     "data": {
      "image/png": "[encoded data removed]",
      "text/plain": [
       "<Figure size 576x432 with 1 Axes>"
      ]
     },
     "metadata": {
      "needs_background": "light"
     },
     "output_type": "display_data"
    }
   ],
   "source": [
    "# Just for plotting: evaluate density values at the sampling radii \n",
    "density = spline_rhor(radii)\n",
    "print(density[0])\n",
    "print(ydinp[0])\n",
    "\n",
    "# Plot \n",
    "plt.figure(figsize=(8,6))\n",
    "plt.scatter(xdinp,ydinp, label=\"Given radius and density data\", s=100)\n",
    "plt.scatter(radii,density, label=\"Sampling radius and density data\")\n",
    "plt.plot(radii,smooth_rhor, label=\"Smoothed density\")\n",
    "plt.plot(radii,density, label=\"Sampling radius and density data\")\n",
    "plt.title(\"Interpolation\")\n",
    "plt.xlabel(\"Radius (KPC)\")\n",
    "plt.ylabel(\"Surface Density (MSUN/$PC^2$)\")\n",
    "plt.legend()\n",
    "plt.show()"
   ]
  },
  {
   "cell_type": "markdown",
   "metadata": {},
   "source": [
    "## Partial derivative / Smoothing"
   ]
  },
  {
   "cell_type": "code",
   "execution_count": 11,
   "metadata": {},
   "outputs": [],
   "source": [
    "# Partial derivative of rho(u,z) with respect to u\n",
    "# Taking the derivative of the splined polynomial (radius and density values, rho(r) or rho(u))\n",
    "#drho_du = spline_rhor.derivative()\n",
    "drho_du = spline_smooth_rhor.derivative()\n",
    "\n",
    "# Evaluating at given radii\n",
    "drho_du_values = drho_du(radii)\n",
    "\n",
    "# Smoothing: Savitzky-Golay filter: https://riptutorial.com/scipy/example/15878/using-a-savitzky-golay-filter\n",
    "drho_du_smooth = savgol_filter(drho_du_values, 11, 3)  # window size 11, polynomial order 5\n",
    "\n",
    "# Spline the smoothed derivative\n",
    "spline_drhor = interpd(radii,drho_du_smooth)"
   ]
  },
  {
   "cell_type": "code",
   "execution_count": 12,
   "metadata": {},
   "outputs": [
    {
     "data": {
      "image/png": "[encoded data removed]",
      "text/plain": [
       "<Figure size 576x504 with 1 Axes>"
      ]
     },
     "metadata": {
      "needs_background": "light"
     },
     "output_type": "display_data"
    }
   ],
   "source": [
    "# Plot \n",
    "plt.figure(figsize=(8,7))\n",
    "plt.plot(radii,drho_du_values, label=\"Before smoothing drho/du\", c=\"blue\")\n",
    "plt.plot(radii,drho_du_smooth, label=\"After smoothing drho/du\", c=\"red\")\n",
    "plt.scatter(radii,spline_drhor(radii), label=\"After smoothing and splining drho/du\", c=\"purple\")\n",
    "plt.title(\"Partial Derivative of Density\")\n",
    "plt.xlabel(\"Radius (KPC)\")\n",
    "plt.ylabel(\"drho/du\")\n",
    "plt.legend()\n",
    "plt.show()"
   ]
  },
  {
   "cell_type": "markdown",
   "metadata": {},
   "source": [
    "## Functions"
   ]
  },
  {
   "cell_type": "code",
   "execution_count": 13,
   "metadata": {},
   "outputs": [
    {
     "name": "stdout",
     "output_type": "stream",
     "text": [
      "-91.6419095779949\n"
     ]
    }
   ],
   "source": [
    "# Casertano Eq 2\n",
    "def drho_du(u,z,z0,mode):\n",
    "    return spline_drhor(u) * denzed(z,z0,mode)\n",
    "\n",
    "print(drho_du(1,1,z0,mode))"
   ]
  },
  {
   "cell_type": "code",
   "execution_count": 14,
   "metadata": {},
   "outputs": [
    {
     "data": {
      "image/png": "[encoded data removed]",
      "text/plain": [
       "<Figure size 576x504 with 1 Axes>"
      ]
     },
     "metadata": {
      "needs_background": "light"
     },
     "output_type": "display_data"
    }
   ],
   "source": [
    "# Plot \n",
    "plt.figure(figsize=(8,7))\n",
    "plt.plot(radii,drho_du(radii,0,z0,mode), label=\"z=0\")\n",
    "plt.plot(radii,drho_du(radii,1,z0,mode), label=\"z=1\")\n",
    "plt.title(\"Casertano Eq 2\")\n",
    "plt.xlabel(\"Radius (KPC)\")\n",
    "plt.ylabel(\"drho/du\")\n",
    "plt.legend()\n",
    "plt.show()"
   ]
  },
  {
   "cell_type": "code",
   "execution_count": 15,
   "metadata": {},
   "outputs": [
    {
     "name": "stdout",
     "output_type": "stream",
     "text": [
      "0.3819660112501051\n"
     ]
    }
   ],
   "source": [
    "# Casertano Eq 5\n",
    "def px(r,u,z):\n",
    "    x = (r**2 + u**2 + z**2)/(2*r*u)\n",
    "    return x - (np.sqrt((x**2)-1))\n",
    "\n",
    "print(px(1,1,1))"
   ]
  },
  {
   "cell_type": "code",
   "execution_count": 16,
   "metadata": {},
   "outputs": [],
   "source": [
    "# Rotmod elliptic integral and p function (Casertano: Eq A.16)\n",
    "def func(x,y,z):\n",
    "    if( x == y ) & ( z == 0):\n",
    "        r = 0\n",
    "    elif( x == 0 ) | ( y == 0):\n",
    "        r = 0\n",
    "    else:\n",
    "        xxx = (x*x + y*y + z*z) / (2.0 * x * y)\n",
    "        rrr = (xxx*xxx - 1.0)\n",
    "        ppp = 1.0 / (xxx + np.sqrt(rrr))\n",
    "        fm = 1.0 - ppp*ppp\n",
    "        el1 = (1.3862944 + fm * (0.1119723 + fm * 0.0725296)) - (0.5 + fm * (0.1213478 + fm * 0.0288729)) * np.log(fm)\n",
    "        el2 = (1.0 + fm * ( 0.4630151 + fm * 0.1077812 ) ) - (fm * (0.2452727 + fm * 0.0412496)) * np.log(fm)\n",
    "        r = ((1.0 - xxx * y/x) * el2 / (rrr) + (y/x - ppp) * el1 / np.sqrt(rrr)) / np.pi\n",
    "        r *= np.sqrt(x / (y * ppp))\n",
    "    return r"
   ]
  },
  {
   "cell_type": "code",
   "execution_count": 17,
   "metadata": {},
   "outputs": [
    {
     "name": "stdout",
     "output_type": "stream",
     "text": [
      "0.35734399698214614\n"
     ]
    }
   ],
   "source": [
    "# Complete elliptic integral\n",
    "def K(r,u,z):\n",
    "    return ellipk(px(r,u,z)) - ellipe(px(r,u,z))\n",
    "\n",
    "print(K(1,1,1))"
   ]
  },
  {
   "cell_type": "code",
   "execution_count": 18,
   "metadata": {},
   "outputs": [
    {
     "name": "stdout",
     "output_type": "stream",
     "text": [
      "-1.1972997891376324e-05\n"
     ]
    }
   ],
   "source": [
    "# Integrand, using built-in functions\n",
    "def integrand(z,r,u,z0,G,mode):\n",
    "    return ((4 * np.pi * G) * drho_du(u,z,z0,mode) * K(r,u,z) * 2 * np.sqrt(u)) / (np.pi * np.sqrt(r * px(r,u,z)))\n",
    "    \n",
    "print(integrand(3,2,1,z0,G,mode))"
   ]
  },
  {
   "cell_type": "code",
   "execution_count": 19,
   "metadata": {},
   "outputs": [
    {
     "data": {
      "image/png": "[encoded data removed]",
      "text/plain": [
       "<Figure size 576x504 with 1 Axes>"
      ]
     },
     "metadata": {
      "needs_background": "light"
     },
     "output_type": "display_data"
    }
   ],
   "source": [
    "# Plot \n",
    "plt.figure(figsize=(8,7))\n",
    "plt.plot(radii,integrand(2,radii,2,z0,G,mode), label=\"z=2,u=2\")\n",
    "plt.plot(radii,integrand(1,radii,1,z0,G,mode), label=\"z=1,u=1\")\n",
    "plt.plot(radii,integrand(0,radii,1,z0,G,mode), label=\"z=0,u=1\")\n",
    "plt.title(\"Integrand\")\n",
    "plt.xlabel(\"Radius (KPC)\")\n",
    "plt.legend()\n",
    "plt.show()"
   ]
  },
  {
   "cell_type": "raw",
   "metadata": {},
   "source": [
    "# Integrand, using ROTMOD's function\n",
    "def integrand(r,u,z,z0,G,mode):\n",
    "    return (4 * np.pi * G) * drho_du(u,z,z0,mode) * func(r,u,z)\n",
    "    \n",
    "print(integrand(1,2,3,z0,G,mode))"
   ]
  },
  {
   "cell_type": "markdown",
   "metadata": {},
   "source": [
    "## Integration"
   ]
  },
  {
   "cell_type": "code",
   "execution_count": 20,
   "metadata": {},
   "outputs": [],
   "source": [
    "# Define minimum and maximum values of radius for integration\n",
    "intmin = np.min(radii)\n",
    "#intmax = np.max(radii)\n",
    "intmax = np.inf"
   ]
  },
  {
   "cell_type": "markdown",
   "metadata": {},
   "source": [
    "### Integration, using built-in python functions: scipy quad"
   ]
  },
  {
   "cell_type": "code",
   "execution_count": 21,
   "metadata": {},
   "outputs": [
    {
     "name": "stderr",
     "output_type": "stream",
     "text": [
      "C:\\Users\\JB\\AppData\\Local\\Continuum\\anaconda3\\lib\\site-packages\\ipykernel_launcher.py:12: RuntimeWarning: overflow encountered in double_scalars\n",
      "  if sys.path[0] == '':\n",
      "C:\\Users\\JB\\AppData\\Local\\Continuum\\anaconda3\\lib\\site-packages\\ipykernel_launcher.py:11: RuntimeWarning: overflow encountered in cosh\n",
      "  # This is added back by InteractiveShellApp.init_path()\n"
     ]
    },
    {
     "name": "stdout",
     "output_type": "stream",
     "text": [
      "-4.19540585466304e-05\n"
     ]
    },
    {
     "name": "stderr",
     "output_type": "stream",
     "text": [
      "C:\\Users\\JB\\AppData\\Local\\Continuum\\anaconda3\\lib\\site-packages\\scipy\\integrate\\quadpack.py:385: IntegrationWarning: The maximum number of subdivisions (50) has been achieved.\n",
      "  If increasing the limit yields no improvement it is advised to analyze \n",
      "  the integrand in order to determine the difficulties.  If the position of a \n",
      "  local difficulty can be determined (singularity, discontinuity) one will \n",
      "  probably gain from splitting up the interval and calling the integrator \n",
      "  on the subranges.  Perhaps a special-purpose integrator should be used.\n",
      "  warnings.warn(msg, IntegrationWarning)\n"
     ]
    },
    {
     "name": "stdout",
     "output_type": "stream",
     "text": [
      "134541027412.1368\n"
     ]
    }
   ],
   "source": [
    "# Reverse order of variables to setup for integration\n",
    "#integrand2 = lambda z,u,r,z0,G,mode: integrand(r,u,z,z0,G,mode)\n",
    "\n",
    "# Inner integral, integral over z\n",
    "integrand2 = lambda u,r,z0,G,mode: quad(integrand, intmin, intmax, args=(r,u,z0,G,mode))[0]\n",
    "print(integrand2(2,1,z0,G,mode))\n",
    "\n",
    "# Outer integral, integral over u\n",
    "radialforce = lambda r,z0,G,mode: quad(integrand2, intmin,intmax, args=(r,z0,G,mode))[0]\n",
    "\n",
    "# Calculate radial force\n",
    "radialforce = np.vectorize(radialforce)\n",
    "print(radialforce(1,z0,G,mode))"
   ]
  },
  {
   "cell_type": "markdown",
   "metadata": {},
   "source": [
    "### Integration, using ROTMOD functions"
   ]
  },
  {
   "cell_type": "code",
   "execution_count": 22,
   "metadata": {},
   "outputs": [],
   "source": [
    "# Inner integral, integral over z\n",
    "\"\"\"intzed computes the integral over Z that defines the kernel of the integral formula for the rotation velocity. \n",
    "This is done for an arbitrary vertical density profile, specified in the function denzed.\n",
    "The interval of integration is divided into several subintervals, in each of which Simpson's rule is used. \n",
    "It is thus possible to have different steps in different regions of the interval of integration, \n",
    "and to compute the integral more accurately. An attempt has been made at optimizing the subdivision. \n",
    "It is still possible that the kernel is not accurate, especially when R is very close to U. \n",
    "It is NOT recommended that the programme is used with very small, but non-zero, values of the thickness. \n",
    "On the other hand, the situation with an infinitely thin disk is dealt with properly, the density profile in \n",
    "Z being then treated as a Dirac delta function.\"\"\"\n",
    "def intzed(r,u,z,z0,mode):\n",
    "    zeds = np.array([0.02, 0.50, 1.00, 3.00, 10.00])\n",
    "    \n",
    "    if (z0 != 0.0):\n",
    "        n = 10\n",
    "        \n",
    "        if (np.abs(r - u) <= (0.2 * z0)):\n",
    "            n = 200\n",
    "        \n",
    "        zne = 0.0\n",
    "        res = 0.0\n",
    "        i = 0\n",
    "        while i < 5: \n",
    "            zol = zne\n",
    "            zne = zeds[i] * z0\n",
    "            step = (zne - zol) / n\n",
    "            z = zol\n",
    "            res += step * func(r,u,z) * drho_du(u,z,z0,mode) / 3.0\n",
    "            w = 4.0 / 3.0         \n",
    "            j = 0.0\n",
    "            while j < n:\n",
    "                z += step\n",
    "                res += step * func(r,u,z) * drho_du(u,z,z0,mode) * w\n",
    "                w = 2.0 - w\n",
    "                j += 1\n",
    "            res -= step * func(r,u,z) * drho_du(u,z,z0,mode) / 3.0\n",
    "            i += 1\n",
    "    else:\n",
    "        res = func(r,u,z0)\n",
    "    return res\n",
    "\n",
    "# Outer integral, integral over u\n",
    "def interg(xd,yd,nd,r,rstart,z0,step,ndens,mode):\n",
    "    vsq = 0.0\n",
    "    i = 1\n",
    "    k = 0\n",
    "    while k < ndens:\n",
    "        if (k == 0 or k == (ndens - 1)):\n",
    "            iw = 1\n",
    "        else:\n",
    "            iw = 4 - 2 * ((k + 1) % 2)\n",
    "        \n",
    "        x = rstart + step * k\n",
    "        y = 0.0\n",
    "\n",
    "        if (x < xd[nd-1]): \n",
    "            done = False\n",
    "            while (done == False) & (i < (nd - 1)):\n",
    "                #if i==1:\n",
    "                    #print(\"            Checking xd...\") #This if (xd...) loop is entered many times in quick succession; doesn't seem to be hanging so much as running too much. Not seeing the \"increased i for the first time\" as frequently as I would have expected, but this if statement IS completing quickly.\n",
    "                if (xd[i-1] <= x) & (xd[i+1] >= x):\n",
    "                    k1 = i - 1\n",
    "                    while k1 <= (i + 1):\n",
    "                        f = 1.0\n",
    "                        k2 = i - 1\n",
    "                        while k2 <= (i + 1):\n",
    "                            if (k1 != k2):\n",
    "                                f *= (x - xd[k2]) / (xd[k1] - xd[k2])\n",
    "                            k2 += 1\n",
    "                        y += f * yd[k1]\n",
    "                        done = True\n",
    "                        k1 += 1\n",
    "                else:\n",
    "                    i += 1\n",
    "            if (y > 0.0):\n",
    "                res = intzed(r,x,y,z0,mode)\n",
    "                vsq += CONSTANT * res * y * step * iw\n",
    "        k += 1\n",
    "    return vsq"
   ]
  },
  {
   "cell_type": "code",
   "execution_count": 23,
   "metadata": {},
   "outputs": [
    {
     "name": "stdout",
     "output_type": "stream",
     "text": [
      "Loop variables set. Setting variable j...\n",
      "Initial value of j set to 0. Setting additional variables...\n",
      "r1 = 0.0\n",
      "r2 = 0.0\n",
      "vsq = 0.0002900767614857283\n",
      "r1 = 0.0\n",
      "r2 = 0.0\n",
      "vsq = 0.018398333723552575\n",
      "r1 = 0.0\n",
      "r2 = 0.0\n",
      "vsq = 0.016895546628777267\n",
      "r1 = 0.0\n",
      "r2 = 0.0\n",
      "vsq = 0.010502572522669998\n",
      "r1 = 0.0\n",
      "r2 = 0.0\n",
      "vsq = 0.005659500413500334\n",
      "r1 = 0.0\n",
      "r2 = 0.0\n",
      "vsq = 0.003061470356805653\n",
      "r1 = 0.0\n",
      "r2 = 0.0\n",
      "vsq = 0.0018284030561943807\n",
      "r1 = 0.0\n",
      "r2 = 0.0\n",
      "vsq = 0.0012128922956240594\n",
      "r1 = 0.0\n",
      "r2 = 0.0\n",
      "vsq = 0.0009448853636995978\n",
      "r1 = 0.0\n",
      "r2 = 0.0\n",
      "vsq = 0.0009340470099377031\n",
      "r1 = 0.0\n",
      "r2 = 0.0\n",
      "vsq = 0.0011880975127783577\n",
      "r1 = 0.0\n",
      "r2 = 0.0\n",
      "vsq = 0.001521497886221869\n",
      "r1 = 0.0\n",
      "r2 = 0.0\n",
      "vsq = 0.0018276128039815633\n",
      "r1 = 0.0\n",
      "r2 = 0.0\n",
      "vsq = 0.0019405644354418554\n",
      "r1 = 0.0\n",
      "r2 = 0.0\n",
      "vsq = 0.001762484475684831\n",
      "r1 = 0.0\n",
      "r2 = 0.0\n",
      "vsq = 0.0013694755393469705\n",
      "r1 = 0.0\n",
      "r2 = 0.0\n",
      "vsq = 0.0009317144621116074\n",
      "r1 = 0.0600000000000005\n",
      "r2 = 0.0\n"
     ]
    },
    {
     "name": "stderr",
     "output_type": "stream",
     "text": [
      "C:\\Users\\JB\\AppData\\Local\\Continuum\\anaconda3\\lib\\site-packages\\ipykernel_launcher.py:12: RuntimeWarning: divide by zero encountered in log\n",
      "  if sys.path[0] == '':\n",
      "C:\\Users\\JB\\AppData\\Local\\Continuum\\anaconda3\\lib\\site-packages\\ipykernel_launcher.py:13: RuntimeWarning: divide by zero encountered in log\n",
      "  del sys.path[0]\n",
      "C:\\Users\\JB\\AppData\\Local\\Continuum\\anaconda3\\lib\\site-packages\\ipykernel_launcher.py:13: RuntimeWarning: invalid value encountered in double_scalars\n",
      "  del sys.path[0]\n"
     ]
    },
    {
     "name": "stdout",
     "output_type": "stream",
     "text": [
      "vsq = nan\n",
      "r1 = 0.16000000000000036\n",
      "r2 = 0.0\n",
      "vsq = -0.8162303887188832\n",
      "r1 = 0.26000000000000023\n",
      "r2 = 0.0\n",
      "vsq = nan\n",
      "r1 = 0.3600000000000003\n",
      "r2 = 0.0\n",
      "vsq = nan\n",
      "r1 = 0.4600000000000004\n",
      "r2 = 0.0\n",
      "vsq = -0.46851972070707837\n",
      "r1 = 0.5600000000000005\n",
      "r2 = 0.0\n",
      "vsq = nan\n",
      "r1 = 0.6600000000000006\n",
      "r2 = 0.0\n",
      "vsq = -0.23626844861996904\n",
      "r1 = 0.7600000000000007\n",
      "r2 = 0.0\n",
      "vsq = -0.15684228839446496\n",
      "r1 = 0.8600000000000003\n",
      "r2 = 0.0\n",
      "vsq = -0.10074608520333633\n",
      "r1 = 0.9600000000000004\n",
      "r2 = 0.0\n",
      "vsq = -0.06254260729520862\n",
      "r1 = 1.0600000000000005\n",
      "r2 = 0.0\n",
      "vsq = nan\n",
      "r1 = 1.1600000000000006\n",
      "r2 = 0.0\n",
      "vsq = -0.025637672038826376\n",
      "r1 = 1.2600000000000007\n",
      "r2 = 0.0\n",
      "vsq = nan\n",
      "r1 = 1.3600000000000003\n",
      "r2 = 0.0\n",
      "vsq = nan\n",
      "r1 = 1.4600000000000004\n",
      "r2 = 0.0\n",
      "vsq = -0.017407638587195077\n",
      "r1 = 1.5600000000000005\n",
      "r2 = 0.0\n",
      "vsq = nan\n",
      "r1 = 1.6600000000000006\n",
      "r2 = 0.0\n",
      "vsq = -0.022074142041289897\n",
      "r1 = 1.7600000000000007\n",
      "r2 = 0.0\n",
      "vsq = nan\n",
      "r1 = 1.8600000000000003\n",
      "r2 = 0.0\n",
      "vsq = nan\n",
      "r1 = 1.9600000000000004\n",
      "r2 = 0.0\n",
      "vsq = -0.02682575112949975\n",
      "r1 = 2.0600000000000005\n",
      "r2 = 0.0\n",
      "vsq = -0.02794588908167723\n",
      "r1 = 2.1600000000000006\n",
      "r2 = 0.0\n",
      "vsq = -0.02866538982572168\n",
      "r1 = 2.2600000000000002\n",
      "r2 = 0.0\n",
      "vsq = -0.028903975287519732\n",
      "r1 = 2.36\n",
      "r2 = 0.0\n",
      "vsq = -0.0288793035528023\n",
      "r1 = 2.4600000000000004\n",
      "r2 = 0.0\n",
      "vsq = -0.028528912373633485\n",
      "r1 = 2.56\n",
      "r2 = 0.0\n",
      "vsq = -0.02783451727637403\n",
      "r1 = 2.6599999999999997\n",
      "r2 = 0.0\n",
      "vsq = -0.026870903073944564\n",
      "r1 = 2.7600000000000002\n",
      "r2 = 0.0\n",
      "vsq = -0.025363071939173337\n",
      "r1 = 2.86\n",
      "r2 = 0.0\n",
      "vsq = -0.023257757914275527\n",
      "r1 = 2.9600000000000004\n",
      "r2 = 0.0\n",
      "vsq = -0.020953713850885115\n",
      "r1 = 3.06\n",
      "r2 = 0.0\n",
      "vsq = -0.018508431031706993\n",
      "r1 = 3.1600000000000006\n",
      "r2 = 0.0\n",
      "vsq = -0.0157793690305757\n",
      "r1 = 3.2600000000000002\n",
      "r2 = 0.0\n",
      "vsq = -0.013075549373168916\n",
      "r1 = 3.36\n",
      "r2 = 0.0\n",
      "vsq = -0.010685300623902423\n",
      "r1 = 3.4600000000000004\n",
      "r2 = 0.0\n",
      "vsq = -0.008612080595136138\n",
      "r1 = 3.56\n",
      "r2 = 0.0\n",
      "vsq = -0.006905988819089065\n",
      "r1 = 3.6600000000000006\n",
      "r2 = 0.0\n",
      "vsq = -0.005539261512217161\n",
      "r1 = 3.7600000000000002\n",
      "r2 = 0.0\n",
      "vsq = -0.004424910531972633\n",
      "r1 = 3.86\n",
      "r2 = 0.0\n",
      "vsq = -0.0035528209415096415\n",
      "r1 = 3.9600000000000004\n",
      "r2 = 0.0\n",
      "vsq = -0.0028919931703866577\n",
      "r1 = 4.0600000000000005\n",
      "r2 = 0.0\n",
      "vsq = -0.002405798290438207\n",
      "r1 = 4.16\n",
      "r2 = 0.0\n",
      "vsq = -0.0020595957215809274\n",
      "r1 = 4.26\n",
      "r2 = 0.0\n",
      "vsq = -0.001806768535252817\n",
      "r1 = 4.359999999999999\n",
      "r2 = 0.0\n",
      "vsq = -0.001601266283780318\n",
      "r1 = 4.460000000000001\n",
      "r2 = 0.0\n",
      "vsq = -0.001417809127894524\n",
      "r1 = 4.5600000000000005\n",
      "r2 = 0.0\n",
      "vsq = -0.0012496399210451487\n",
      "r1 = 4.66\n",
      "r2 = 0.0\n",
      "vsq = -0.0010880201595281443\n",
      "r1 = 4.76\n",
      "r2 = 0.0\n",
      "vsq = -0.0009375527770745585\n",
      "r1 = 4.859999999999999\n",
      "r2 = 0.0\n",
      "vsq = -0.0008010915086874654\n",
      "r1 = 4.960000000000001\n",
      "r2 = 0.0\n",
      "vsq = -0.0006781490503468909\n",
      "r1 = 5.0600000000000005\n",
      "r2 = 0.0\n",
      "vsq = -0.0005779366481819234\n",
      "r1 = 5.16\n",
      "r2 = 0.0\n",
      "vsq = -0.0005038811038062738\n",
      "r1 = 5.26\n",
      "r2 = 0.0\n",
      "vsq = -0.00044968490080748665\n",
      "r1 = 5.359999999999999\n",
      "r2 = 0.0\n",
      "vsq = -0.00040272163878888353\n",
      "r1 = 5.460000000000001\n",
      "r2 = 0.0\n",
      "vsq = -0.00035618699321426364\n",
      "r1 = 5.5600000000000005\n",
      "r2 = 0.0\n",
      "vsq = -0.00030926653293176685\n",
      "r1 = 5.66\n",
      "r2 = 0.0\n",
      "vsq = -0.0002681529031934411\n",
      "r1 = 5.76\n",
      "r2 = 0.0\n",
      "vsq = -0.00023653781430006535\n",
      "r1 = 5.859999999999999\n",
      "r2 = 0.0\n",
      "vsq = -0.00020661827000852603\n",
      "r1 = 5.960000000000001\n",
      "r2 = 0.0\n",
      "vsq = -0.00017813035636231184\n",
      "r1 = 6.0600000000000005\n",
      "r2 = 0.0\n",
      "vsq = -0.00015905977577571542\n",
      "r1 = 6.16\n",
      "r2 = 0.0\n",
      "vsq = -0.0001556173912255181\n",
      "r1 = 6.26\n",
      "r2 = 0.0\n",
      "vsq = -0.0001681444812847841\n",
      "r1 = 6.359999999999999\n",
      "r2 = 0.0\n",
      "vsq = -0.0001880605954771578\n",
      "r1 = 6.459999999999999\n",
      "r2 = 0.0\n",
      "vsq = -0.00020994226746775505\n",
      "r1 = 6.5600000000000005\n",
      "r2 = 0.0\n",
      "vsq = -0.000237738239790199\n",
      "r1 = 6.66\n",
      "r2 = 0.0\n",
      "vsq = -0.00026858797102055415\n",
      "r1 = 6.76\n",
      "r2 = 0.0\n",
      "vsq = -0.0002980038624530756\n",
      "r1 = 6.859999999999999\n",
      "r2 = 0.0\n",
      "vsq = -0.00032465825948766087\n",
      "r1 = 6.959999999999999\n",
      "r2 = 0.0\n",
      "vsq = -0.0003471498132873611\n",
      "r1 = 7.0600000000000005\n",
      "r2 = 0.0\n",
      "vsq = -0.0003679100335687084\n",
      "r1 = 7.16\n",
      "r2 = 0.0\n",
      "vsq = -0.0003899708609761702\n",
      "r1 = 7.26\n",
      "r2 = 0.0\n",
      "vsq = -0.00041202693457377776\n",
      "r1 = 7.359999999999999\n",
      "r2 = 0.0\n",
      "vsq = -0.00043274453596750886\n",
      "r1 = 7.459999999999999\n",
      "r2 = 0.0\n",
      "vsq = -0.00045053619078976265\n",
      "r1 = 7.5600000000000005\n",
      "r2 = 0.0\n",
      "vsq = -0.00046401948534646357\n",
      "r1 = 7.66\n",
      "r2 = 0.0\n",
      "vsq = -0.00047198708912475564\n",
      "r1 = 7.76\n",
      "r2 = 0.0\n",
      "vsq = -0.0004735978658416848\n",
      "r1 = 7.859999999999999\n",
      "r2 = 0.0\n",
      "vsq = -0.00046939605024951913\n",
      "r1 = 7.960000000000001\n",
      "r2 = 0.0\n",
      "vsq = -0.00045851235481767123\n",
      "r1 = 8.06\n",
      "r2 = 0.0\n",
      "vsq = -0.0004437929591145047\n",
      "r1 = 8.16\n",
      "r2 = 0.0\n",
      "vsq = -0.00042769142659182193\n",
      "r1 = 8.26\n",
      "r2 = 0.0\n",
      "vsq = -0.00040980303654208406\n",
      "r1 = 8.36\n",
      "r2 = 0.0\n",
      "vsq = -0.00038994631671128676\n",
      "r1 = 8.46\n",
      "r2 = 0.0\n",
      "vsq = -0.00036914005736246537\n",
      "r1 = 8.56\n",
      "r2 = 0.0\n",
      "vsq = -0.0003469931438042024\n",
      "r1 = 8.66\n",
      "r2 = 0.0\n",
      "vsq = -0.00032463436730513224\n",
      "r1 = 8.76\n",
      "r2 = 0.0\n",
      "vsq = -0.00030269660530231394\n",
      "r1 = 8.86\n",
      "r2 = 0.0\n",
      "vsq = -0.0002797827997448048\n",
      "r1 = 8.96\n",
      "r2 = 0.0\n",
      "vsq = -0.0002566991743412583\n",
      "r1 = 9.06\n",
      "r2 = 0.0\n",
      "vsq = -0.00023355872913758714\n",
      "r1 = 9.16\n",
      "r2 = 0.0\n",
      "vsq = -0.0002104837063223934\n",
      "r1 = 9.26\n",
      "r2 = 0.0\n",
      "vsq = -0.0001879657348353497\n",
      "r1 = 9.36\n",
      "r2 = 0.0\n",
      "vsq = -0.00016632654487601711\n"
     ]
    }
   ],
   "source": [
    "velocs_rotmod = np.zeros(len(radii))\n",
    "nradii = len(radii)\n",
    "rings = xdinp\n",
    "nring = len(rings)              # number of sampling radii\n",
    "ntimes = len(xdinp)             # number of items\n",
    "ndinp = len(ydinp)\n",
    "naccur = 10\n",
    "z1 = 0.58\n",
    "\n",
    "i = 0\n",
    "j = 0\n",
    "\n",
    "while i < nradii:\n",
    "    r = radii[i]\n",
    "    vsq = 0.0\n",
    "\n",
    "    if i == 0:\n",
    "        print(\"Loop variables set. Setting variable j...\")\n",
    "    \n",
    "    while j < nring and rings[j] < r:\n",
    "        j += 1\n",
    "\n",
    "    if i == 0:\n",
    "        print(\"Initial value of j set to \"+str(j)+\". Setting additional variables...\")\n",
    "    \n",
    "    skip = rings[j] != r\n",
    "    #z1 = z0\n",
    "    \n",
    "    r1 = r - 3.0 * z1\n",
    "    if r1 < 0.0:\n",
    "        r1 = 0.0\n",
    "    \n",
    "    r2 = 0.0\n",
    "    \n",
    "    print(\"r1 = {}\".format(r1))\n",
    "    print(\"r2 = {}\".format(r2))\n",
    "\n",
    "    if r1 < (rcut + 2.0 * delta):\n",
    "        r2 = r + (r - r1)\n",
    "        ndens = 6 * ntimes + 1\n",
    "        step = (r2 - r1) / (ndens - 1)\n",
    "        rstart = r1\n",
    "        vsq += interg(xdinp,ydinp,ndinp,r,rstart,z0,step,ndens,mode)\n",
    "        \n",
    "        if r1 > 0.0:\n",
    "            ndens = r1 * ntimes / h\n",
    "            ndens = 2 * (ndens / 2) + 3       # multiplies and devides by 2, it's unnecessary\n",
    "            step = r1 / (ndens - 1)\n",
    "            rstart = 0.0\n",
    "            vsq += interg(xdinp,ydinp,ndinp,r,rstart,z0,step,ndens,mode)\n",
    "    \n",
    "    if r2 < (rcut + 2.0 * delta):\n",
    "        ndens = (rcut + 2.0 * delta - r2) * ntimes / h\n",
    "        ndens = 2 * (ndens / 2) + 3\n",
    "        step = (rcut + 2.0 * delta - r2) / (ndens - 1)\n",
    "        rstart = r2\n",
    "        vsq += interg(xdinp,ydinp,ndinp,r,rstart,z0,step,ndens,mode)\n",
    "    \n",
    "    print(\"vsq = {}\".format(vsq))\n",
    "    if vsq < 0.0:\n",
    "           velocs_rotmod[i] = (-np.sqrt(-vsq))\n",
    "    else:\n",
    "           velocs_rotmod[i] = (np.sqrt(vsq))\n",
    "    i += 1"
   ]
  },
  {
   "cell_type": "markdown",
   "metadata": {},
   "source": [
    "### Integration, using built-in python functions: scipy simps"
   ]
  },
  {
   "cell_type": "raw",
   "metadata": {},
   "source": [
    "# Reverse order of variables to setup for integration\n",
    "integrand2 = lambda z,u,r,z0,G,mode: integrand(r,u,z,z0,G,mode)\n",
    "\n",
    "# Points at which the function is sampled\n",
    "points = np.linspace(intmin,intmax,100)\n",
    "\n",
    "# Inner integral, integral over z\n",
    "integrand2_simps = lambda u,r,z0,G,mode: simps(integrand2, points, dx=0.1)\n",
    "print(integrand2_simps(2,1,z0,G,mode))\n",
    "\n",
    "# Outer integral, integral over u\n",
    "radialforce_simps = lambda r,z0,G,mode: simps(integrand2_simps, points, dx=0.1)\n",
    "\n",
    "# Calculate radial force\n",
    "radialforce_simps = np.vectorize(radialforce_simps)\n",
    "print(radialforce_simps(1,z0,G,mode))\n",
    "\n",
    "# Velocity\n",
    "velocs_simps = np.sqrt(-radii*radialforce_simps(radii,z0,G,mode))"
   ]
  },
  {
   "cell_type": "markdown",
   "metadata": {},
   "source": [
    "### Integration, using manual simpson's rule"
   ]
  },
  {
   "cell_type": "raw",
   "metadata": {},
   "source": [
    "\"\"\"def simpson(f,a,b,n):\n",
    "    h = (b - a) / (n - 1)\n",
    "    x = np.linspace(a, b, n)\n",
    "    print(type(f))\n",
    "    simpson = (h/3) * (f[0] + 2*sum(f[:n-2:2]) + 4*sum(f[1:n-1:2]) + f[n-1])\n",
    "    return simpson\"\"\"\n",
    "\n",
    "def simpson(f, a, b, n, args):\n",
    "    h=(b-a)/n\n",
    "    k=0.0\n",
    "    x=a\n",
    "    nhalf = int(n/2) #Workaround for type handling issue\n",
    "    for i in range(1,nhalf):\n",
    "        x += 2*h\n",
    "        k += 4*f(x,*args)\n",
    "    for i in range(2,nhalf-1):\n",
    "        x += 2*h\n",
    "        k += 2*f(x,*args)\n",
    "    return (h/3)*(f(a,*args)+f(b,*args)+k)\n",
    "\n",
    "z = np.array([0.02, 0.50, 1.00, 3.00, 10.00])\n",
    "u = np.array([0.02, 0.50, 1.00, 3.00, 10.00])\n",
    "\n",
    "# Reverse order of variables to setup for integration\n",
    "# Changed the name of this because it interfered with radialforce function\n",
    "integrand3 = lambda z,u,r,z0,G,mode: integrand(z,r,u,z0,G,mode)\n",
    "\n",
    "# Inner integral, integral over z\n",
    "integrand3_simps2 = lambda u,r,z0,G,mode: simpson(integrand3, 0, np.inf, 100,args=(u,r,z0,G,mode))\n",
    "print(integrand3_simps2)\n",
    "print(integrand3_simps2(2,1,z0,G,mode))\n",
    "\n",
    "# Outer integral, integral over u\n",
    "radialforce_simps2 = lambda r,z0,G,mode: simpson(integrand3_simps2, 1e-20, np.inf, 100,args=(r,z0,G,mode))\n",
    "\n",
    "# Calculate radial force\n",
    "radialforce_simps2 = np.vectorize(radialforce_simps2)\n",
    "print(radialforce_simps2(1,z0,G,mode))\n",
    "\n",
    "# Velocity\n",
    "velocs_simps2 = np.sqrt(-radii*radialforce_simps2(radii,z0,G,mode))"
   ]
  },
  {
   "cell_type": "raw",
   "metadata": {},
   "source": [
    "a = 0\n",
    "b = np.pi\n",
    "n = 11\n",
    "h = (b - a) / (n - 1)\n",
    "x = np.linspace(a, b, n)\n",
    "f = np.sin(x)\n",
    "print(type(f))\n",
    "print(f)\n",
    "I_simp = (h/3) * (f[0] + 2*sum(f[:n-2:2]) \\\n",
    "            + 4*sum(f[1:n-1:2]) + f[n-1])\n",
    "err_simp = 2 - I_simp\n",
    "\n",
    "print(I_simp)\n",
    "print(err_simp)"
   ]
  },
  {
   "cell_type": "markdown",
   "metadata": {},
   "source": [
    "## Velocity"
   ]
  },
  {
   "cell_type": "raw",
   "metadata": {},
   "source": [
    "print(radii)\n",
    "\n",
    "forces = radialforce(radii,z0,G,mode)\n",
    "print(forces)\n",
    "\n",
    "velocs = np.sqrt(-radii*radialforce(radii,z0,G,mode))\n",
    "print(velocs)\n",
    "\n",
    "velocs_smooth = savgol_filter(velocs[np.isnan(velocs) == False], 11, 4)"
   ]
  },
  {
   "cell_type": "code",
   "execution_count": null,
   "metadata": {},
   "outputs": [],
   "source": []
  },
  {
   "cell_type": "markdown",
   "metadata": {},
   "source": [
    "## Comparison"
   ]
  },
  {
   "cell_type": "code",
   "execution_count": 24,
   "metadata": {},
   "outputs": [],
   "source": [
    "# Gas\n",
    "tracedgas = np.loadtxt(\"../NGC_5005/traced_data/ngc5005_gas.txt\")\n",
    "tracedgas_r, tracedgas_v = tracedgas.T\n",
    "tracedgas_r = tracedgas_r[1:]\n",
    "tracedgas_v = tracedgas_v[1:]\n",
    "\n",
    "# Disk\n",
    "traceddisk = np.loadtxt(\"../NGC_5005/traced_data/ngc5005_disk.txt\")\n",
    "traceddisk_r, traceddisk_v = traceddisk.T\n",
    "traceddisk_r = traceddisk_r[1:]\n",
    "traceddisk_v = traceddisk_v[1:]"
   ]
  },
  {
   "cell_type": "markdown",
   "metadata": {},
   "source": [
    "## Plot"
   ]
  },
  {
   "cell_type": "code",
   "execution_count": 25,
   "metadata": {},
   "outputs": [
    {
     "data": {
      "image/png": "[encoded data removed]",
      "text/plain": [
       "<Figure size 576x432 with 1 Axes>"
      ]
     },
     "metadata": {
      "needs_background": "light"
     },
     "output_type": "display_data"
    }
   ],
   "source": [
    "scale = 5e2\n",
    "plt.figure(figsize=(8,6))             \n",
    "#plt.scatter(radii, scale*velocs, linestyle='solid', label='Scaled calculated gas velocity by {}'.format(scale))\n",
    "#plt.plot(radii, scale*velocs, linestyle='solid', label='Scaled calculated gas velocity by {}'.format(scale))\n",
    "#plt.plot(radii[np.isnan(velocs)==False], scale*velocs_smooth, linestyle='solid', label='Smoothed Gas Velocity')\n",
    "#plt.scatter(radii, velocs, linestyle='solid', label='Scaled calculated gas velocity by {}'.format(scale))\n",
    "#plt.plot(radii, velocs, linestyle='solid', label='Scaled calculated gas velocity by {}'.format(scale))\n",
    "#plt.plot(radii[np.isnan(velocs)==False], velocs_smooth, linestyle='solid', label='Smoothed Gas Velocity')\n",
    "plt.plot(radii, scale*velocs_rotmod, linestyle='solid', label='Rotmod functions')\n",
    "#plt.plot(radii, scale*velocs_simps, linestyle='solid', label='Scipy Simpson rule')\n",
    "plt.scatter(tracedgas_r, tracedgas_v, label='Expected Gas Velocity', c='red')\n",
    "plt.axis('tight');\n",
    "plt.title('NGC 5005')\n",
    "plt.xlabel('Radius (KPC)', fontsize=10)\n",
    "plt.ylabel('Velocity (KM/S)', fontsize=10)\n",
    "#plt.xlim(0,12)\n",
    "plt.legend(fontsize=10)\n",
    "plt.show()"
   ]
  },
  {
   "cell_type": "code",
   "execution_count": 26,
   "metadata": {},
   "outputs": [
    {
     "name": "stdout",
     "output_type": "stream",
     "text": [
      "[ 0.0172  0.2     0.3     0.4     0.5     0.6     0.7     0.8     0.9\n",
      "  1.      1.1     1.2     1.3     1.4     1.5     1.6     1.7     1.8\n",
      "  1.9     2.      2.1     2.2     2.3     2.4     2.5     2.6     2.7\n",
      "  2.8     2.9     3.      3.1     3.2     3.3     3.4     3.5     3.6\n",
      "  3.7     3.8     3.9     4.      4.1     4.2     4.3     4.4     4.5\n",
      "  4.6     4.7     4.8     4.9     5.      5.1     5.2     5.3     5.4\n",
      "  5.5     5.6     5.7     5.8     5.9     6.      6.1     6.2     6.3\n",
      "  6.4     6.5     6.6     6.7     6.8     6.9     7.      7.1     7.2\n",
      "  7.3     7.4     7.5     7.6     7.7     7.8     7.9     8.      8.1\n",
      "  8.2     8.3     8.4     8.5     8.6     8.7     8.8     8.9     9.\n",
      "  9.1     9.2     9.3     9.4     9.5     9.6     9.7     9.8     9.9\n",
      " 10.     10.1    10.2    10.3    10.4    10.5    10.6    10.7    10.8\n",
      " 10.9    11.     11.1   ]\n"
     ]
    },
    {
     "ename": "NameError",
     "evalue": "name 'velocs' is not defined",
     "output_type": "error",
     "traceback": [
      "\u001b[1;31m---------------------------------------------------------------------------\u001b[0m",
      "\u001b[1;31mNameError\u001b[0m                                 Traceback (most recent call last)",
      "\u001b[1;32m<ipython-input-26-10b596128d78>\u001b[0m in \u001b[0;36m<module>\u001b[1;34m\u001b[0m\n\u001b[0;32m      1\u001b[0m \u001b[0mprint\u001b[0m\u001b[1;33m(\u001b[0m\u001b[0mradii\u001b[0m\u001b[1;33m)\u001b[0m\u001b[1;33m\u001b[0m\u001b[1;33m\u001b[0m\u001b[0m\n\u001b[1;32m----> 2\u001b[1;33m \u001b[0mprint\u001b[0m\u001b[1;33m(\u001b[0m\u001b[0mvelocs\u001b[0m\u001b[1;33m)\u001b[0m\u001b[1;33m\u001b[0m\u001b[1;33m\u001b[0m\u001b[0m\n\u001b[0m",
      "\u001b[1;31mNameError\u001b[0m: name 'velocs' is not defined"
     ]
    }
   ],
   "source": [
    "print(radii)\n",
    "print(velocs)"
   ]
  }
 ],
 "metadata": {
  "kernelspec": {
   "display_name": "Python 3",
   "language": "python",
   "name": "python3"
  },
  "language_info": {
   "codemirror_mode": {
    "name": "ipython",
    "version": 3
   },
   "file_extension": ".py",
   "mimetype": "text/x-python",
   "name": "python",
   "nbconvert_exporter": "python",
   "pygments_lexer": "ipython3",
   "version": "3.7.1"
  }
 },
 "nbformat": 4,
 "nbformat_minor": 4
}
