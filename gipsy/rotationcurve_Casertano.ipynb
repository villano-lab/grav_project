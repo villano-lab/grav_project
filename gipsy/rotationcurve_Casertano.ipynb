{
 "cells": [
  {
   "cell_type": "code",
   "execution_count": 1,
   "metadata": {},
   "outputs": [],
   "source": [
    "import numpy as np\n",
    "import matplotlib.pyplot as plt\n",
    "from scipy.integrate import quad, nquad, simps\n",
    "from scipy.special import ellipe, ellipk\n",
    "from scipy.interpolate import lagrange, InterpolatedUnivariateSpline\n",
    "from scipy.signal import savgol_filter"
   ]
  },
  {
   "cell_type": "markdown",
   "metadata": {},
   "source": [
    "## Notes"
   ]
  },
  {
   "cell_type": "markdown",
   "metadata": {},
   "source": [
    "__From rotmod.c:__ <br>\n",
    "For the  sampling radii you should use an increment of about 0.2 times the disk scale length, and the maximum sampling radius should at least be larger than the radius of the last measured point on your observed rotation curve. <br>\n",
    "If the user wants to enter a measured density profile, and the central density is not given (density at R=0), the program will use linear extrapolation to obtain the central density."
   ]
  },
  {
   "cell_type": "markdown",
   "metadata": {},
   "source": [
    "## User input"
   ]
  },
  {
   "cell_type": "code",
   "execution_count": 2,
   "metadata": {},
   "outputs": [],
   "source": [
    "# Gas:\n",
    "# Conversion to linear scale was made in the notebook: grav_project/NGC_5005/Gas_from_mass_surface_density.ipynb\n",
    "#raddens = \"../data/gasmsd_kpc_linear.txt\"      # Gas density with 2 columns, units: KPC, MSUN/PC^2\n",
    "#raddens = \"../data/nord-mu.txt\"\n",
    "#units = 'KPC,MSUN/PC**2'\n",
    "\n",
    "# Disk:\n",
    "# See for more: grav_project/NGC_5005/Disk_from_surface_brightness_profile.ipynb\n",
    "raddens = \"../data/NGC5005-disk_arcsec.txt\"    # Disk surface brightness with 4 colums, units: ARCSEC, MAG/ARCSEC^2\n",
    "units = 'ARCSEC,MAG/ARCSEC**2'\n",
    "\n",
    "# Parameters\n",
    "G = 0.00000431158                   # Gravitational constant (KPC/MSUN*(KM/S)^2)  \n",
    "z0 = 0.93\n",
    "distance = 16.5                     # Distance in MPC\n",
    "h = 2.5     #5                          # GUESS: radial scale-length (KPC)\n",
    "\n",
    "# Smoothing parameters\n",
    "windowsize = 13   #7\n",
    "polynomial_order = 4\n",
    "degree = 3\n",
    "\n",
    "# Starting point of sampling radii\n",
    "start = 0.975 #0.38  #0.1"
   ]
  },
  {
   "cell_type": "markdown",
   "metadata": {},
   "source": [
    "## Density profile"
   ]
  },
  {
   "cell_type": "code",
   "execution_count": 3,
   "metadata": {},
   "outputs": [],
   "source": [
    "def DensityProfile(raddens=raddens,units=units,h=h):\n",
    "    \n",
    "    if units == 'KPC,MSUN/PC**2':\n",
    "        mudata = np.loadtxt(raddens)\n",
    "        if np.shape(np.loadtxt(raddens))[1] == 2:     # this just checks if the file has 2 or 4 columns\n",
    "            xdinp, ydinp = mudata.T\n",
    "        if np.shape(np.loadtxt(raddens))[1] == 4:\n",
    "            xdinp, ydinp, xerror, yerror = mudata.T\n",
    "\n",
    "    if units == 'ARCSEC,MAG/ARCSEC**2':\n",
    "        mudata = np.loadtxt(raddens)\n",
    "        if np.shape(np.loadtxt(raddens))[1] == 2:\n",
    "            xdinp, ydinp = mudata.T\n",
    "        if np.shape(np.loadtxt(raddens))[1] == 4:\n",
    "            xdinp, ydinp, xerror, yerror = mudata.T\n",
    "\n",
    "        # Conversion\n",
    "        # ARCSEC to KPC\n",
    "        xdinp = (np.pi/648000) * distance * 1e3 * xdinp\n",
    "\n",
    "        # MAG/ARCSEC^2 to MSUN/PC^2\n",
    "        #ydinp = ((np.pi/648000) * distance * 1e6)**(-2) * ydinp\n",
    "        ydinp = 10**(-0.4 * ydinp)\n",
    "            \n",
    "    if units == 'KPC,MAG/ARCSEC**2':\n",
    "        mudata = np.loadtxt(raddens)\n",
    "        if np.shape(np.loadtxt(raddens))[1] == 2:\n",
    "            xdinp, ydinp = mudata.T\n",
    "        if np.shape(np.loadtxt(raddens))[1] == 4:\n",
    "            xdinp, ydinp, xerror, yerror = mudata.T\n",
    "\n",
    "        # Conversion\n",
    "        # MAG/ARCSEC^2 to MSUN/PC^2\n",
    "        #ydinp = ((np.pi/648000) * distance * 1e6)**(-2) * ydinp\n",
    "        ydinp = 10**(-0.4 * ydinp)\n",
    "            \n",
    "    LEN1 = len(xdinp)                   # GUESS: defined as length of radius array\n",
    "    LEN2 = len(ydinp)                   # GUESS: defined as lenght of density array\n",
    "    ndinp = LEN2                        # number of surface densities. GUESS: length of density array again\n",
    "    rcut = xdinp[ndinp-1]               # takes second to last radius value\n",
    "    delta = rcut - xdinp[ndinp-2]       # difference between the second to last radius value and the third to last radius value\n",
    "    \n",
    "    return xdinp, ydinp, rcut, delta"
   ]
  },
  {
   "cell_type": "markdown",
   "metadata": {},
   "source": [
    "## Define some values"
   ]
  },
  {
   "cell_type": "code",
   "execution_count": 4,
   "metadata": {},
   "outputs": [],
   "source": [
    "# Radius\n",
    "xdinp = DensityProfile()[0]\n",
    "# Density\n",
    "ydinp = DensityProfile()[1]\n",
    "\n",
    "# Cutoff radius\n",
    "rcut = DensityProfile()[2]\n",
    "# Cutoff length\n",
    "delta = DensityProfile()[3]\n",
    "\n",
    "# Sampling radii\n",
    "radii = np.arange(start,np.max(xdinp)+1,0.2*h)               # Sampling radii\n",
    "# Note from rotmod.c: \n",
    "# For the sampling radii you should use an increment of about 0.2 times the disk scale length, \n",
    "# and the maximum sampling radius should at least be larger than the radius of the last measured point \n",
    "# on your observed rotation curve. "
   ]
  },
  {
   "cell_type": "code",
   "execution_count": 5,
   "metadata": {},
   "outputs": [
    {
     "name": "stdout",
     "output_type": "stream",
     "text": [
      "[ 0.16757997  0.3245447   0.5056597   0.80466224  1.09128966  1.42536968\n",
      "  1.74770654  2.0936177   2.40404342  2.97747425  3.59863766  4.21907312\n",
      "  4.80369515  5.3643909   6.00852866  6.5929747   7.18957188  7.21349816\n",
      "  7.77446589  8.3830702   8.97957138  9.58831168 10.22080227 10.79373714\n",
      " 11.40219746 12.01090576 12.60758293 13.2042281  13.76496384 14.40923759\n",
      " 15.29204622 16.21048428 17.08114978 17.99953185 18.89389965 19.78845143\n",
      " 20.68304321 21.57727501 22.49561709 23.36618659 24.29649581 25.19067961\n",
      " 26.10870171 26.96726408 27.88543016 28.76768683 29.68576492 30.58030071\n",
      " 31.4983308  32.38041948 33.28643444 34.18075424 35.08699318 35.94546755]\n",
      "[ 0.975  1.475  1.975  2.475  2.975  3.475  3.975  4.475  4.975  5.475\n",
      "  5.975  6.475  6.975  7.475  7.975  8.475  8.975  9.475  9.975 10.475\n",
      " 10.975 11.475 11.975 12.475 12.975 13.475 13.975 14.475 14.975 15.475\n",
      " 15.975 16.475 16.975 17.475 17.975 18.475 18.975 19.475 19.975 20.475\n",
      " 20.975 21.475 21.975 22.475 22.975 23.475 23.975 24.475 24.975 25.475\n",
      " 25.975 26.475 26.975 27.475 27.975 28.475 28.975 29.475 29.975 30.475\n",
      " 30.975 31.475 31.975 32.475 32.975 33.475 33.975 34.475 34.975 35.475\n",
      " 35.975 36.475]\n"
     ]
    }
   ],
   "source": [
    "print(xdinp)\n",
    "print(radii)"
   ]
  },
  {
   "cell_type": "markdown",
   "metadata": {},
   "source": [
    "## Interpolation"
   ]
  },
  {
   "cell_type": "code",
   "execution_count": 6,
   "metadata": {},
   "outputs": [],
   "source": [
    "# Define interpolation function\n",
    "def interpd(x,y):\n",
    "    #return lagrange(x,y)                # Lagrange interpolation didn't work well so I used Univariate Spline\n",
    "    return InterpolatedUnivariateSpline(x,y,k=degree)   \n",
    "\n",
    "# Spline the given radius and density pairs and define the polynomial that's calculated\n",
    "spline_rhor = interpd(xdinp,ydinp)"
   ]
  },
  {
   "cell_type": "code",
   "execution_count": 7,
   "metadata": {},
   "outputs": [
    {
     "name": "stderr",
     "output_type": "stream",
     "text": [
      "C:\\Users\\JB\\AppData\\Local\\Continuum\\anaconda3\\lib\\site-packages\\scipy\\signal\\_arraytools.py:45: FutureWarning: Using a non-tuple sequence for multidimensional indexing is deprecated; use `arr[tuple(seq)]` instead of `arr[seq]`. In the future this will be interpreted as an array index, `arr[np.array(seq)]`, which will result either in an error or a different result.\n",
      "  b = a[a_slice]\n"
     ]
    }
   ],
   "source": [
    "# Smoothing: Savitzky-Golay filter: https://riptutorial.com/scipy/example/15878/using-a-savitzky-golay-filter\n",
    "smooth_rhor = savgol_filter(spline_rhor(radii), windowsize, polynomial_order)  # window size 11, polynomial order 5\n",
    "# Interpolate smoothed density\n",
    "#spline_smooth_rhor = interpd(radii,spline_rhor(radii))\n",
    "spline_smooth_rhor = interpd(radii,smooth_rhor)"
   ]
  },
  {
   "cell_type": "code",
   "execution_count": 8,
   "metadata": {},
   "outputs": [
    {
     "name": "stdout",
     "output_type": "stream",
     "text": [
      "5.277211782364065e-07\n",
      "3.7865177761489306e-06\n"
     ]
    },
    {
     "data": {
      "image/png": "[encoded data removed]",
      "text/plain": [
       "<Figure size 576x432 with 1 Axes>"
      ]
     },
     "metadata": {
      "needs_background": "light"
     },
     "output_type": "display_data"
    }
   ],
   "source": [
    "# Just for plotting: evaluate density values at the sampling radii \n",
    "density = spline_rhor(radii)\n",
    "print(density[0])\n",
    "print(ydinp[0])\n",
    "\n",
    "# Plot \n",
    "plt.figure(figsize=(8,6))\n",
    "plt.scatter(xdinp,ydinp, label=\"Given radius and density data\", s=100)\n",
    "plt.scatter(radii,density, label=\"Sampling radius and density data\")\n",
    "plt.plot(radii,smooth_rhor, label=\"Smoothed density\")\n",
    "plt.plot(radii,density, label=\"Sampling radius and density data\")\n",
    "plt.title(\"Interpolation\")\n",
    "plt.xlabel(\"Radius (KPC)\")\n",
    "plt.ylabel(\"Surface Density (MSUN/$PC^2$)\")\n",
    "plt.legend()\n",
    "plt.show()"
   ]
  },
  {
   "cell_type": "markdown",
   "metadata": {},
   "source": [
    "## Partial derivative / Smoothing"
   ]
  },
  {
   "cell_type": "code",
   "execution_count": 9,
   "metadata": {},
   "outputs": [
    {
     "name": "stderr",
     "output_type": "stream",
     "text": [
      "C:\\Users\\JB\\AppData\\Local\\Continuum\\anaconda3\\lib\\site-packages\\scipy\\signal\\_arraytools.py:45: FutureWarning: Using a non-tuple sequence for multidimensional indexing is deprecated; use `arr[tuple(seq)]` instead of `arr[seq]`. In the future this will be interpreted as an array index, `arr[np.array(seq)]`, which will result either in an error or a different result.\n",
      "  b = a[a_slice]\n"
     ]
    }
   ],
   "source": [
    "# Partial derivative of rho(u,z) with respect to u\n",
    "# Taking the derivative of the splined polynomial (radius and density values, rho(r) or rho(u))\n",
    "#drho_du = spline_rhor.derivative()\n",
    "drho_du = spline_smooth_rhor.derivative()\n",
    "\n",
    "# Evaluating at given radii\n",
    "drho_du_values = drho_du(radii)\n",
    "\n",
    "# Smoothing: Savitzky-Golay filter: https://riptutorial.com/scipy/example/15878/using-a-savitzky-golay-filter\n",
    "drho_du_smooth = savgol_filter(drho_du_values, windowsize, polynomial_order)  # window size 11, polynomial order 5\n",
    "\n",
    "# Spline the smoothed derivative\n",
    "spline_drhor = interpd(radii,drho_du_smooth)"
   ]
  },
  {
   "cell_type": "code",
   "execution_count": 10,
   "metadata": {},
   "outputs": [
    {
     "data": {
      "image/png": "[encoded data removed]",
      "text/plain": [
       "<Figure size 576x504 with 1 Axes>"
      ]
     },
     "metadata": {
      "needs_background": "light"
     },
     "output_type": "display_data"
    }
   ],
   "source": [
    "# Plot \n",
    "plt.figure(figsize=(8,7))\n",
    "plt.plot(radii,drho_du_values, label=\"Before smoothing drho/du\", c=\"blue\")\n",
    "plt.plot(radii-1,drho_du_smooth+2e-12, label=\"After smoothing drho/du\", c=\"red\")\n",
    "plt.plot(radii-2,spline_drhor(radii)+4e-12, label=\"After smoothing and splining drho/du\", c=\"purple\")\n",
    "plt.title(\"Partial Derivative of Density - Shifted for better visualization\")\n",
    "plt.xlabel(\"Radius (KPC)\")\n",
    "plt.ylabel(\"drho/du\")\n",
    "plt.legend()\n",
    "plt.show()"
   ]
  },
  {
   "cell_type": "markdown",
   "metadata": {},
   "source": [
    "## Functions"
   ]
  },
  {
   "cell_type": "code",
   "execution_count": 11,
   "metadata": {},
   "outputs": [],
   "source": [
    "# Density Distribution: Sech-squared law\n",
    "def denzed(z,z0): \n",
    "    r = np.cosh(z / z0)\n",
    "    #r = r * r * z0    # In the GIPSY rotmod.c, this is multiplied by z0 but in Caserano Eq 2 there isn't any z0\n",
    "    r = r * r\n",
    "    r = 1.0 / r\n",
    "    return r           # calling this r is kind of misleading but Rotmod is calling it r\n",
    "                       # returns: density as a function of z (I think)"
   ]
  },
  {
   "cell_type": "code",
   "execution_count": 12,
   "metadata": {},
   "outputs": [
    {
     "name": "stdout",
     "output_type": "stream",
     "text": [
      "-7.736434244936585e-08\n"
     ]
    }
   ],
   "source": [
    "# Casertano Eq 2\n",
    "def drho_du(u,z,z0):\n",
    "    return spline_drhor(u) * denzed(z,z0)\n",
    "\n",
    "print(drho_du(1,1,z0))"
   ]
  },
  {
   "cell_type": "code",
   "execution_count": 13,
   "metadata": {},
   "outputs": [
    {
     "data": {
      "image/png": "[encoded data removed]",
      "text/plain": [
       "<Figure size 576x504 with 1 Axes>"
      ]
     },
     "metadata": {
      "needs_background": "light"
     },
     "output_type": "display_data"
    }
   ],
   "source": [
    "# Plot \n",
    "plt.figure(figsize=(8,7))\n",
    "plt.plot(radii,drho_du(radii,0,z0), label=\"z=0\")\n",
    "plt.plot(radii,drho_du(radii,1,z0), label=\"z=1\")\n",
    "plt.plot(radii,drho_du(radii,2,z0), label=\"z=2\")\n",
    "plt.plot(radii,drho_du(radii,3,z0), label=\"z=3\")\n",
    "plt.title(\"Casertano Eq 2\")\n",
    "plt.xlabel(\"Radius (KPC)\")\n",
    "plt.ylabel(\"drho/du\")\n",
    "plt.legend()\n",
    "plt.show()"
   ]
  },
  {
   "cell_type": "code",
   "execution_count": 14,
   "metadata": {},
   "outputs": [
    {
     "name": "stdout",
     "output_type": "stream",
     "text": [
      "0.3819660112501051\n"
     ]
    }
   ],
   "source": [
    "# Casertano Eq 5\n",
    "def px(r,u,xi):\n",
    "    x = (r**2 + u**2 + xi**2)/(2*r*u)\n",
    "    return x - (np.sqrt((x**2)-1))\n",
    "\n",
    "print(px(1,1,1))"
   ]
  },
  {
   "cell_type": "code",
   "execution_count": 15,
   "metadata": {},
   "outputs": [
    {
     "name": "stdout",
     "output_type": "stream",
     "text": [
      "0.3680901991747202\n"
     ]
    }
   ],
   "source": [
    "# Complete elliptic integral\n",
    "def K(r,u,xi):\n",
    "    elliptical = (2/(np.pi*np.sqrt(r*u*px(r,u,xi)))) * (ellipk(px(r,u,xi)) - ellipe(px(r,u,xi)))\n",
    "    return elliptical\n",
    "\n",
    "print(K(1,1,1))"
   ]
  },
  {
   "cell_type": "code",
   "execution_count": 16,
   "metadata": {},
   "outputs": [
    {
     "name": "stdout",
     "output_type": "stream",
     "text": [
      "-1.4752871138972284e-12\n"
     ]
    }
   ],
   "source": [
    "# Integrand, using built-in functions\n",
    "def integrand(r,u,z,z0,G):\n",
    "    return (4 * np.pi * G) * u * K(r,u,z) * drho_du(u,z,z0)\n",
    "    \n",
    "print(integrand(3,2,1,z0,G))"
   ]
  },
  {
   "cell_type": "code",
   "execution_count": 17,
   "metadata": {},
   "outputs": [
    {
     "name": "stderr",
     "output_type": "stream",
     "text": [
      "C:\\Users\\JB\\AppData\\Local\\Continuum\\anaconda3\\lib\\site-packages\\ipykernel_launcher.py:3: RuntimeWarning: divide by zero encountered in true_divide\n",
      "  This is separate from the ipykernel package so we can avoid doing imports until\n",
      "C:\\Users\\JB\\AppData\\Local\\Continuum\\anaconda3\\lib\\site-packages\\ipykernel_launcher.py:4: RuntimeWarning: invalid value encountered in subtract\n",
      "  after removing the cwd from sys.path.\n"
     ]
    },
    {
     "data": {
      "image/png": "[encoded data removed]",
      "text/plain": [
       "<Figure size 576x504 with 1 Axes>"
      ]
     },
     "metadata": {
      "needs_background": "light"
     },
     "output_type": "display_data"
    }
   ],
   "source": [
    "# Plot \n",
    "plt.figure(figsize=(8,7))\n",
    "plt.plot(radii,integrand(2,radii,2,z0,G), label=\"z=2,u=2\")\n",
    "plt.plot(radii,integrand(1,radii,1,z0,G), label=\"z=1,u=1\")\n",
    "plt.plot(radii,integrand(0,radii,1,z0,G), label=\"z=0,u=1\")\n",
    "plt.title(\"Integrand\")\n",
    "plt.xlabel(\"Radius (KPC)\")\n",
    "plt.legend()\n",
    "plt.show()"
   ]
  },
  {
   "cell_type": "markdown",
   "metadata": {},
   "source": [
    "## Integration"
   ]
  },
  {
   "cell_type": "code",
   "execution_count": 18,
   "metadata": {},
   "outputs": [
    {
     "name": "stdout",
     "output_type": "stream",
     "text": [
      "0.01\n",
      "36.47500000000001\n"
     ]
    }
   ],
   "source": [
    "# Define minimum and maximum values of radius for integration\n",
    "intmin = 0.01 #np.min(radii)\n",
    "intmax = np.max(radii)\n",
    "\n",
    "print(intmin)\n",
    "print(intmax)\n",
    "#intmax = np.inf\n",
    "#intmax = rcut+delta"
   ]
  },
  {
   "cell_type": "markdown",
   "metadata": {},
   "source": [
    "### Integration, using built-in python functions: scipy quad"
   ]
  },
  {
   "cell_type": "code",
   "execution_count": 19,
   "metadata": {},
   "outputs": [
    {
     "name": "stdout",
     "output_type": "stream",
     "text": [
      "-2.9502514742980774e-12\n",
      "[-1.71445361e-11 -1.72030588e-11 -1.73222918e-11 -1.58095700e-11\n",
      " -1.52673201e-11 -1.34325649e-11 -1.25624815e-11 -1.10846292e-11\n",
      " -1.01127706e-11 -9.30516736e-12 -8.65601038e-12 -8.22797774e-12\n",
      " -7.64841789e-12 -7.26440833e-12 -6.88452231e-12 -6.42906021e-12\n",
      " -6.10866056e-12 -5.74259289e-12 -5.40952655e-12 -5.15774719e-12\n",
      " -4.85669998e-12 -4.61410325e-12 -4.39731568e-12 -4.17439719e-12\n",
      " -3.98903689e-12 -3.80578133e-12 -3.64224646e-12 -3.49280637e-12\n",
      " -3.35199343e-12 -3.22476595e-12 -3.10494624e-12 -2.99489457e-12\n",
      " -2.89259904e-12 -2.79659950e-12 -2.70737820e-12 -2.62377057e-12\n",
      " -2.54519101e-12 -2.47143703e-12 -2.40116888e-12 -2.33504572e-12\n",
      " -2.27245951e-12 -2.21301405e-12 -2.15684429e-12 -2.10340758e-12\n",
      " -2.05240191e-12 -2.00432235e-12 -1.95739098e-12 -1.91318251e-12\n",
      " -1.87079072e-12 -1.83024561e-12 -1.79180236e-12 -1.75457020e-12\n",
      " -1.71913239e-12 -1.68522223e-12 -1.65228456e-12 -1.62088405e-12\n",
      " -1.59057563e-12 -1.56131328e-12 -1.53335944e-12 -1.50593091e-12\n",
      " -1.47956239e-12 -1.45416204e-12 -1.42954491e-12 -1.40585935e-12\n",
      " -1.38299677e-12 -1.36097423e-12 -1.33954480e-12 -1.31887031e-12\n",
      " -1.29861554e-12 -1.27896425e-12 -1.25981920e-12 -1.24122655e-12]\n"
     ]
    }
   ],
   "source": [
    "# Reverse order of variables to setup for integration\n",
    "integrand_mixvar = lambda z,r,u,z0,G: integrand(r,u,z,z0,G)\n",
    "\n",
    "# Inner integral, integral over z\n",
    "integrand2 = lambda r,u,z0,G: quad(integrand_mixvar, intmin, intmax, args=(r,u,z0,G))[0]\n",
    "print(integrand2(2,1,z0,G))\n",
    "\n",
    "# Reverse order of variables to setup for integration\n",
    "integrand_mixvar2 = lambda u,r,z0,G: integrand2(r,u,z0,G)\n",
    "\n",
    "# Outer integral, integral over u\n",
    "radialforce = lambda r,z0,G: quad(integrand_mixvar2, intmin, intmax, args=(r,z0,G))[0]\n",
    "\n",
    "# Calculate radial force\n",
    "radialforce = np.vectorize(radialforce)\n",
    "print(radialforce(radii,z0,G))"
   ]
  },
  {
   "cell_type": "markdown",
   "metadata": {},
   "source": [
    "## Velocity"
   ]
  },
  {
   "cell_type": "code",
   "execution_count": 20,
   "metadata": {},
   "outputs": [
    {
     "name": "stdout",
     "output_type": "stream",
     "text": [
      "[4.08851106e-06 5.03731195e-06 5.84906200e-06 6.25529261e-06\n",
      " 6.73945676e-06 6.83214190e-06 7.06653125e-06 7.04299055e-06\n",
      " 7.09302714e-06 7.13763205e-06 7.19163834e-06 7.29905171e-06\n",
      " 7.30395200e-06 7.36895191e-06 7.40972776e-06 7.38148259e-06\n",
      " 7.40440602e-06 7.37638581e-06 7.34574893e-06 7.35033345e-06\n",
      " 7.30084120e-06 7.27645757e-06 7.25657325e-06 7.21634290e-06\n",
      " 7.19428618e-06 7.16120824e-06 7.13445122e-06 7.11044107e-06\n",
      " 7.08492072e-06 7.06422346e-06 7.04283438e-06 7.02430695e-06\n",
      " 7.00727255e-06 6.99074933e-06 6.97603922e-06 6.96233878e-06\n",
      " 6.94946037e-06 6.93766791e-06 6.92555763e-06 6.91448198e-06\n",
      " 6.90397264e-06 6.89379987e-06 6.88452273e-06 6.87561528e-06\n",
      " 6.86687221e-06 6.85940720e-06 6.85043420e-06 6.84288988e-06\n",
      " 6.83542232e-06 6.82828726e-06 6.82217461e-06 6.81558846e-06\n",
      " 6.80981616e-06 6.80451914e-06 6.79872493e-06 6.79372309e-06\n",
      " 6.78873544e-06 6.78378278e-06 6.77956113e-06 6.77445529e-06\n",
      " 6.76974484e-06 6.76533445e-06 6.76089480e-06 6.75686927e-06\n",
      " 6.75309696e-06 6.74971202e-06 6.74618667e-06 6.74300036e-06\n",
      " 6.73936781e-06 6.73581894e-06 6.73216129e-06 6.72857627e-06]\n",
      "[4.08454975e-06 5.06107980e-06 5.78964238e-06 6.33451877e-06\n",
      " 6.65523870e-06 6.91005039e-06 7.00580361e-06 7.07861860e-06\n",
      " 7.08071052e-06 7.13407298e-06 7.20781923e-06 7.27559007e-06\n",
      " 7.32239209e-06 7.36546699e-06 7.39862931e-06 7.39793345e-06\n",
      " 7.39285474e-06 7.37734427e-06 7.35467246e-06 7.33812786e-06\n",
      " 7.30871646e-06 7.27585243e-06 7.25227281e-06 7.22165310e-06\n",
      " 7.19035318e-06 7.16310621e-06 7.13425729e-06 7.10971137e-06\n",
      " 7.08585914e-06 7.06346790e-06 7.04325212e-06 7.02423310e-06\n",
      " 7.00713649e-06 6.99090323e-06 6.97597676e-06 6.96229646e-06\n",
      " 6.94960200e-06 6.93747308e-06 6.92570128e-06 6.91444931e-06\n",
      " 6.90392017e-06 6.89387085e-06 6.88451392e-06 6.87548071e-06\n",
      " 6.86719345e-06 6.85898223e-06 6.85077852e-06 6.84273686e-06\n",
      " 6.83539101e-06 6.82845152e-06 6.82197161e-06 6.81570537e-06\n",
      " 6.80985737e-06 6.80436274e-06 6.79888070e-06 6.79365836e-06\n",
      " 6.78867347e-06 6.78396011e-06 6.77935603e-06 6.77457240e-06\n",
      " 6.76974194e-06 6.76528286e-06 6.76094407e-06 6.75682909e-06\n",
      " 6.75315380e-06 6.74962671e-06 6.74629169e-06 6.74290041e-06\n",
      " 6.73943564e-06 6.73576806e-06 6.73218163e-06 6.72857287e-06]\n"
     ]
    },
    {
     "name": "stderr",
     "output_type": "stream",
     "text": [
      "C:\\Users\\JB\\AppData\\Local\\Continuum\\anaconda3\\lib\\site-packages\\scipy\\signal\\_arraytools.py:45: FutureWarning: Using a non-tuple sequence for multidimensional indexing is deprecated; use `arr[tuple(seq)]` instead of `arr[seq]`. In the future this will be interpreted as an array index, `arr[np.array(seq)]`, which will result either in an error or a different result.\n",
      "  b = a[a_slice]\n"
     ]
    }
   ],
   "source": [
    "velocs = np.sqrt(-radii*radialforce(radii,z0,G))\n",
    "print(velocs)\n",
    "\n",
    "velocs_smooth = savgol_filter(velocs[np.isnan(velocs) == False], 7, 5)\n",
    "print(velocs_smooth)"
   ]
  },
  {
   "cell_type": "markdown",
   "metadata": {},
   "source": [
    "## Comparison"
   ]
  },
  {
   "cell_type": "code",
   "execution_count": 21,
   "metadata": {},
   "outputs": [],
   "source": [
    "# Gas\n",
    "tracedgas = np.loadtxt(\"../NGC_5005/traced_data/ngc5005_gas.txt\")\n",
    "tracedgas_r, tracedgas_v = tracedgas.T\n",
    "tracedgas_r = tracedgas_r[1:]\n",
    "tracedgas_v = tracedgas_v[1:]\n",
    "\n",
    "# Disk\n",
    "traceddisk = np.loadtxt(\"../NGC_5005/traced_data/ngc5005_disk.txt\")\n",
    "traceddisk_r, traceddisk_v = traceddisk.T\n",
    "traceddisk_r = traceddisk_r[1:]\n",
    "traceddisk_v = traceddisk_v[1:]"
   ]
  },
  {
   "cell_type": "markdown",
   "metadata": {},
   "source": [
    "## Plot"
   ]
  },
  {
   "cell_type": "code",
   "execution_count": 27,
   "metadata": {},
   "outputs": [
    {
     "data": {
      "image/png": "[encoded data removed]",
      "text/plain": [
       "<Figure size 576x432 with 1 Axes>"
      ]
     },
     "metadata": {
      "needs_background": "light"
     },
     "output_type": "display_data"
    }
   ],
   "source": [
    "scale = 2.5e7 #1e3 \n",
    "plt.figure(figsize=(8,6))             \n",
    "plt.scatter(radii, scale*velocs, linestyle='solid', label='Scaled calculated disk velocity by {}'.format(scale))\n",
    "plt.plot(radii, scale*velocs, linestyle='solid', label='Scaled calculated disk velocity by {}'.format(scale))\n",
    "#plt.plot(radii[np.isnan(velocs)==False], scale*velocs_smooth, linestyle='solid', label='Smoothed Gas Velocity')\n",
    "#plt.scatter(tracedgas_r, tracedgas_v, label='Expected Gas Velocity', c='red')\n",
    "plt.scatter(traceddisk_r, traceddisk_v, label='Expected Disk Velocity', c='red')\n",
    "plt.axis('tight');\n",
    "plt.title('NGC 5005')\n",
    "plt.xlabel('Radius (KPC)', fontsize=10)\n",
    "plt.ylabel('Velocity (KM/S)', fontsize=10)\n",
    "plt.xlim(0,12)\n",
    "plt.ylim(0,330)\n",
    "plt.legend(fontsize=10)\n",
    "plt.show()"
   ]
  },
  {
   "cell_type": "code",
   "execution_count": 23,
   "metadata": {},
   "outputs": [
    {
     "name": "stdout",
     "output_type": "stream",
     "text": [
      "[ 0.975  1.475  1.975  2.475  2.975  3.475  3.975  4.475  4.975  5.475\n",
      "  5.975  6.475  6.975  7.475  7.975  8.475  8.975  9.475  9.975 10.475\n",
      " 10.975 11.475 11.975 12.475 12.975 13.475 13.975 14.475 14.975 15.475\n",
      " 15.975 16.475 16.975 17.475 17.975 18.475 18.975 19.475 19.975 20.475\n",
      " 20.975 21.475 21.975 22.475 22.975 23.475 23.975 24.475 24.975 25.475\n",
      " 25.975 26.475 26.975 27.475 27.975 28.475 28.975 29.475 29.975 30.475\n",
      " 30.975 31.475 31.975 32.475 32.975 33.475 33.975 34.475 34.975 35.475\n",
      " 35.975 36.475]\n",
      "[4.08851106e-06 5.03731195e-06 5.84906200e-06 6.25529261e-06\n",
      " 6.73945676e-06 6.83214190e-06 7.06653125e-06 7.04299055e-06\n",
      " 7.09302714e-06 7.13763205e-06 7.19163834e-06 7.29905171e-06\n",
      " 7.30395200e-06 7.36895191e-06 7.40972776e-06 7.38148259e-06\n",
      " 7.40440602e-06 7.37638581e-06 7.34574893e-06 7.35033345e-06\n",
      " 7.30084120e-06 7.27645757e-06 7.25657325e-06 7.21634290e-06\n",
      " 7.19428618e-06 7.16120824e-06 7.13445122e-06 7.11044107e-06\n",
      " 7.08492072e-06 7.06422346e-06 7.04283438e-06 7.02430695e-06\n",
      " 7.00727255e-06 6.99074933e-06 6.97603922e-06 6.96233878e-06\n",
      " 6.94946037e-06 6.93766791e-06 6.92555763e-06 6.91448198e-06\n",
      " 6.90397264e-06 6.89379987e-06 6.88452273e-06 6.87561528e-06\n",
      " 6.86687221e-06 6.85940720e-06 6.85043420e-06 6.84288988e-06\n",
      " 6.83542232e-06 6.82828726e-06 6.82217461e-06 6.81558846e-06\n",
      " 6.80981616e-06 6.80451914e-06 6.79872493e-06 6.79372309e-06\n",
      " 6.78873544e-06 6.78378278e-06 6.77956113e-06 6.77445529e-06\n",
      " 6.76974484e-06 6.76533445e-06 6.76089480e-06 6.75686927e-06\n",
      " 6.75309696e-06 6.74971202e-06 6.74618667e-06 6.74300036e-06\n",
      " 6.73936781e-06 6.73581894e-06 6.73216129e-06 6.72857627e-06]\n"
     ]
    }
   ],
   "source": [
    "print(radii)\n",
    "print(velocs)"
   ]
  },
  {
   "cell_type": "code",
   "execution_count": 24,
   "metadata": {},
   "outputs": [
    {
     "name": "stdout",
     "output_type": "stream",
     "text": [
      "[ 0.975   1.4655  1.9139  2.4041  2.8662  3.3563  3.8321  4.3498  4.8117\n",
      "  5.5954  6.4072  7.205   8.0167  8.7864  9.612  10.3957 11.1934]\n"
     ]
    }
   ],
   "source": [
    "print(traceddisk_r)"
   ]
  },
  {
   "cell_type": "code",
   "execution_count": null,
   "metadata": {},
   "outputs": [],
   "source": []
  }
 ],
 "metadata": {
  "kernelspec": {
   "display_name": "Python 3",
   "language": "python",
   "name": "python3"
  },
  "language_info": {
   "codemirror_mode": {
    "name": "ipython",
    "version": 3
   },
   "file_extension": ".py",
   "mimetype": "text/x-python",
   "name": "python",
   "nbconvert_exporter": "python",
   "pygments_lexer": "ipython3",
   "version": "3.7.1"
  }
 },
 "nbformat": 4,
 "nbformat_minor": 4
}
