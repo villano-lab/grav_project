{
 "cells": [
  {
   "cell_type": "code",
   "execution_count": 1,
   "metadata": {},
   "outputs": [],
   "source": [
    "import numpy as np\n",
    "import matplotlib.pyplot as plt\n",
    "from scipy.integrate import quad, nquad, simps\n",
    "from scipy.special import ellipe, ellipk\n",
    "from scipy.interpolate import lagrange, InterpolatedUnivariateSpline\n",
    "from scipy.signal import savgol_filter"
   ]
  },
  {
   "cell_type": "markdown",
   "metadata": {},
   "source": [
    "## Notes"
   ]
  },
  {
   "cell_type": "markdown",
   "metadata": {},
   "source": [
    "__From rotmod.c:__ <br>\n",
    "For the  sampling radii you should use an increment of about 0.2 times the disk scale length, and the maximum sampling radius should at least be larger than the radius of the last measured point on your observed rotation curve. <br>\n",
    "If the user wants to enter a measured density profile, and the central density is not given (density at R=0), the program will use linear extrapolation to obtain the central density."
   ]
  },
  {
   "cell_type": "markdown",
   "metadata": {},
   "source": [
    "## User input"
   ]
  },
  {
   "cell_type": "code",
   "execution_count": 2,
   "metadata": {},
   "outputs": [],
   "source": [
    "user = True  # use imported data\n",
    "\n",
    "# Gas:\n",
    "# Conversion to linear scale was made in the notebook: grav_project/NGC_5005/Gas_from_mass_surface_density.ipynb\n",
    "#raddens = \"../data/gasmsd_kpc_linear.txt\"      # Gas density with 2 columns, units: KPC, MSUN/PC^2\n",
    "#raddens = \"../data/nord-mu.txt\"\n",
    "#units = 'KPC,MSUN/PC**2'\n",
    "\n",
    "# Disk:\n",
    "# See for more: grav_project/NGC_5005/Disk_from_surface_brightness_profile.ipynb\n",
    "raddens = \"../data/NGC5005-disk_arcsec.txt\"    # Disk surface brightness with 4 colums, units: ARCSEC, MAG/ARCSEC^2\n",
    "units = 'ARCSEC,MAG/ARCSEC**2'\n",
    "\n",
    "# Parameters\n",
    "G = 0.00000431158                   # Gravitational constant (KPC/MSUN*(KM/S)^2)  \n",
    "z0 = 0.93\n",
    "distance = 16.5                     # Distance in MPC\n",
    "h = 5                             # GUESS: radial scale-length (KPC)\n",
    "\n",
    "# Smoothing parameters\n",
    "windowsize = 13\n",
    "polynomial_order = 4\n",
    "degree = 3"
   ]
  },
  {
   "cell_type": "markdown",
   "metadata": {},
   "source": [
    "## Density profile"
   ]
  },
  {
   "cell_type": "code",
   "execution_count": 3,
   "metadata": {},
   "outputs": [],
   "source": [
    "def DensityProfile(user=user,raddens=raddens,units=units,h=h):\n",
    "    \n",
    "    if units == 'KPC,MSUN/PC**2':\n",
    "        mudata = np.loadtxt(raddens)\n",
    "        if np.shape(np.loadtxt(raddens))[1] == 2:     # this just checks if the file has 2 or 4 columns\n",
    "            xdinp, ydinp = mudata.T\n",
    "        if np.shape(np.loadtxt(raddens))[1] == 4:\n",
    "            xdinp, ydinp, xerror, yerror = mudata.T\n",
    "\n",
    "    if units == 'ARCSEC,MAG/ARCSEC**2':\n",
    "        mudata = np.loadtxt(raddens)\n",
    "        if np.shape(np.loadtxt(raddens))[1] == 2:\n",
    "            xdinp, ydinp = mudata.T\n",
    "        if np.shape(np.loadtxt(raddens))[1] == 4:\n",
    "            xdinp, ydinp, xerror, yerror = mudata.T\n",
    "\n",
    "        # Conversion\n",
    "        # ARCSEC to KPC\n",
    "        xdinp = (np.pi/648000) * distance * 1e3 * xdinp\n",
    "\n",
    "        # MAG/ARCSEC^2 to MSUN/PC^2\n",
    "        ydinp = 10**(-0.4 * ydinp)\n",
    "        ydinp = ((np.pi/648000) * distance * 1e6)**(-2) * ydinp\n",
    "            \n",
    "    if units == 'KPC,MAG/ARCSEC**2':\n",
    "        mudata = np.loadtxt(raddens)\n",
    "        if np.shape(np.loadtxt(raddens))[1] == 2:\n",
    "            xdinp, ydinp = mudata.T\n",
    "        if np.shape(np.loadtxt(raddens))[1] == 4:\n",
    "            xdinp, ydinp, xerror, yerror = mudata.T\n",
    "\n",
    "        # Conversion\n",
    "        # MAG/ARCSEC^2 to MSUN/PC^2\n",
    "        ydinp = 10**(-0.4 * ydinp)\n",
    "        ydinp = ((np.pi/648000) * distance * 1e6)**(-2) * ydinp\n",
    "            \n",
    "    LEN1 = len(xdinp)                   # GUESS: defined as length of radius array\n",
    "    LEN2 = len(ydinp)                   # GUESS: defined as lenght of density array\n",
    "    ndinp = LEN2                        # number of surface densities. GUESS: length of density array again\n",
    "    rcut = xdinp[ndinp-1]               # takes second to last radius value\n",
    "    delta = rcut - xdinp[ndinp-2]       # difference between the second to last radius value and the third to last radius value\n",
    "    \n",
    "    return xdinp, ydinp, rcut, delta"
   ]
  },
  {
   "cell_type": "markdown",
   "metadata": {},
   "source": [
    "## Define some values"
   ]
  },
  {
   "cell_type": "code",
   "execution_count": 4,
   "metadata": {},
   "outputs": [],
   "source": [
    "# Radius\n",
    "xdinp = DensityProfile()[0]\n",
    "# Density\n",
    "ydinp = DensityProfile()[1]\n",
    "\n",
    "# Cutoff radius\n",
    "rcut = DensityProfile()[2]\n",
    "# Cutoff length\n",
    "delta = DensityProfile()[3]\n",
    "\n",
    "# Sampling radii\n",
    "radii = np.arange(0.38,np.max(xdinp)+1,0.2*h)               # Sampling radii\n",
    "#radii = np.arange(0.3,np.max(xdinp)+1,0.2*h)               # Sampling radii\n",
    "# Note from rotmod.c: \n",
    "# For the sampling radii you should use an increment of about 0.2 times the disk scale length, \n",
    "# and the maximum sampling radius should at least be larger than the radius of the last measured point \n",
    "# on your observed rotation curve. "
   ]
  },
  {
   "cell_type": "code",
   "execution_count": 5,
   "metadata": {},
   "outputs": [
    {
     "name": "stdout",
     "output_type": "stream",
     "text": [
      "0.16757996979180054\n",
      "[ 0.16757997  0.3245447   0.5056597   0.80466224  1.09128966  1.42536968\n",
      "  1.74770654  2.0936177   2.40404342  2.97747425  3.59863766  4.21907312\n",
      "  4.80369515  5.3643909   6.00852866  6.5929747   7.18957188  7.21349816\n",
      "  7.77446589  8.3830702   8.97957138  9.58831168 10.22080227 10.79373714\n",
      " 11.40219746 12.01090576 12.60758293 13.2042281  13.76496384 14.40923759\n",
      " 15.29204622 16.21048428 17.08114978 17.99953185 18.89389965 19.78845143\n",
      " 20.68304321 21.57727501 22.49561709 23.36618659 24.29649581 25.19067961\n",
      " 26.10870171 26.96726408 27.88543016 28.76768683 29.68576492 30.58030071\n",
      " 31.4983308  32.38041948 33.28643444 34.18075424 35.08699318 35.94546755]\n",
      "[ 0.38  1.38  2.38  3.38  4.38  5.38  6.38  7.38  8.38  9.38 10.38 11.38\n",
      " 12.38 13.38 14.38 15.38 16.38 17.38 18.38 19.38 20.38 21.38 22.38 23.38\n",
      " 24.38 25.38 26.38 27.38 28.38 29.38 30.38 31.38 32.38 33.38 34.38 35.38\n",
      " 36.38]\n"
     ]
    }
   ],
   "source": [
    "print(xdinp[0])\n",
    "print(xdinp)\n",
    "print(radii)"
   ]
  },
  {
   "cell_type": "markdown",
   "metadata": {},
   "source": [
    "## Interpolation"
   ]
  },
  {
   "cell_type": "code",
   "execution_count": 6,
   "metadata": {},
   "outputs": [],
   "source": [
    "# Define interpolation function\n",
    "def interpd(x,y):\n",
    "    #return lagrange(x,y)                # Lagrange interpolation didn't work well so I used Univariate Spline\n",
    "    return InterpolatedUnivariateSpline(x,y,k=degree)   \n",
    "\n",
    "# Spline the given radius and density pairs and define the polynomial that's calculated\n",
    "spline_rhor = interpd(xdinp,ydinp)"
   ]
  },
  {
   "cell_type": "code",
   "execution_count": 7,
   "metadata": {},
   "outputs": [
    {
     "name": "stderr",
     "output_type": "stream",
     "text": [
      "C:\\Users\\JB\\AppData\\Local\\Continuum\\anaconda3\\lib\\site-packages\\scipy\\signal\\_arraytools.py:45: FutureWarning: Using a non-tuple sequence for multidimensional indexing is deprecated; use `arr[tuple(seq)]` instead of `arr[seq]`. In the future this will be interpreted as an array index, `arr[np.array(seq)]`, which will result either in an error or a different result.\n",
      "  b = a[a_slice]\n"
     ]
    }
   ],
   "source": [
    "# Smoothing: Savitzky-Golay filter: https://riptutorial.com/scipy/example/15878/using-a-savitzky-golay-filter\n",
    "smooth_rhor = savgol_filter(spline_rhor(radii), windowsize, polynomial_order)  # window size 11, polynomial order 5\n",
    "# Interpolate smoothed density\n",
    "#spline_smooth_rhor = interpd(radii,spline_rhor(radii))\n",
    "spline_smooth_rhor = interpd(radii,smooth_rhor)"
   ]
  },
  {
   "cell_type": "code",
   "execution_count": 8,
   "metadata": {},
   "outputs": [
    {
     "name": "stdout",
     "output_type": "stream",
     "text": [
      "2.2412623936301497e-10\n",
      "5.917283512053767e-10\n"
     ]
    },
    {
     "data": {
      "image/png": "[encoded data removed]",
      "text/plain": [
       "<Figure size 576x432 with 1 Axes>"
      ]
     },
     "metadata": {
      "needs_background": "light"
     },
     "output_type": "display_data"
    }
   ],
   "source": [
    "# Just for plotting: evaluate density values at the sampling radii \n",
    "density = spline_rhor(radii)\n",
    "print(density[0])\n",
    "print(ydinp[0])\n",
    "\n",
    "# Plot \n",
    "plt.figure(figsize=(8,6))\n",
    "plt.scatter(xdinp,ydinp, label=\"Given radius and density data\", s=100)\n",
    "plt.scatter(radii,density, label=\"Sampling radius and density data\")\n",
    "plt.plot(radii,smooth_rhor, label=\"Smoothed density\")\n",
    "plt.plot(radii,density, label=\"Sampling radius and density data\")\n",
    "plt.title(\"Interpolation\")\n",
    "plt.xlabel(\"Radius (KPC)\")\n",
    "plt.ylabel(\"Surface Density (MSUN/$PC^2$)\")\n",
    "plt.legend()\n",
    "plt.show()"
   ]
  },
  {
   "cell_type": "markdown",
   "metadata": {},
   "source": [
    "## Partial derivative / Smoothing"
   ]
  },
  {
   "cell_type": "code",
   "execution_count": 9,
   "metadata": {},
   "outputs": [
    {
     "name": "stderr",
     "output_type": "stream",
     "text": [
      "C:\\Users\\JB\\AppData\\Local\\Continuum\\anaconda3\\lib\\site-packages\\scipy\\signal\\_arraytools.py:45: FutureWarning: Using a non-tuple sequence for multidimensional indexing is deprecated; use `arr[tuple(seq)]` instead of `arr[seq]`. In the future this will be interpreted as an array index, `arr[np.array(seq)]`, which will result either in an error or a different result.\n",
      "  b = a[a_slice]\n"
     ]
    }
   ],
   "source": [
    "# Partial derivative of rho(u,z) with respect to u\n",
    "# Taking the derivative of the splined polynomial (radius and density values, rho(r) or rho(u))\n",
    "#drho_du = spline_rhor.derivative()\n",
    "drho_du = spline_smooth_rhor.derivative()\n",
    "\n",
    "# Evaluating at given radii\n",
    "drho_du_values = drho_du(radii)\n",
    "\n",
    "# Smoothing: Savitzky-Golay filter: https://riptutorial.com/scipy/example/15878/using-a-savitzky-golay-filter\n",
    "drho_du_smooth = savgol_filter(drho_du_values, windowsize, polynomial_order)  # window size 11, polynomial order 5\n",
    "\n",
    "# Spline the smoothed derivative\n",
    "spline_drhor = interpd(radii,drho_du_smooth)"
   ]
  },
  {
   "cell_type": "code",
   "execution_count": 10,
   "metadata": {},
   "outputs": [
    {
     "data": {
      "image/png": "[encoded data removed]",
      "text/plain": [
       "<Figure size 576x504 with 1 Axes>"
      ]
     },
     "metadata": {
      "needs_background": "light"
     },
     "output_type": "display_data"
    }
   ],
   "source": [
    "# Plot \n",
    "plt.figure(figsize=(8,7))\n",
    "plt.plot(radii,drho_du_values, label=\"Before smoothing drho/du\", c=\"blue\")\n",
    "plt.plot(radii-1,drho_du_smooth+2e-12, label=\"After smoothing drho/du\", c=\"red\")\n",
    "plt.plot(radii-2,spline_drhor(radii)+4e-12, label=\"After smoothing and splining drho/du\", c=\"purple\")\n",
    "plt.title(\"Partial Derivative of Density - Shifted for better visualization\")\n",
    "plt.xlabel(\"Radius (KPC)\")\n",
    "plt.ylabel(\"drho/du\")\n",
    "plt.legend()\n",
    "plt.show()"
   ]
  },
  {
   "cell_type": "markdown",
   "metadata": {},
   "source": [
    "## Functions"
   ]
  },
  {
   "cell_type": "code",
   "execution_count": 11,
   "metadata": {},
   "outputs": [],
   "source": [
    "# Density Distribution: Sech-squared law\n",
    "def denzed(z,z0): \n",
    "    r = np.cosh(z / z0)\n",
    "    #r = r * r * z0    # In the GIPSY rotmod.c, this is multiplied by z0 but in Caserano Eq 2 there isn't any z0\n",
    "    r = r * r\n",
    "    r = 1.0 / r\n",
    "    return r           # calling this r is kind of misleading but Rotmod is calling it r\n",
    "                       # returns: density as a function of z (I think)"
   ]
  },
  {
   "cell_type": "code",
   "execution_count": 12,
   "metadata": {},
   "outputs": [
    {
     "name": "stdout",
     "output_type": "stream",
     "text": [
      "-3.787057013650413e-11\n"
     ]
    }
   ],
   "source": [
    "# Casertano Eq 2\n",
    "def drho_du(u,z,z0):\n",
    "    return spline_drhor(u) * denzed(z,z0)\n",
    "\n",
    "print(drho_du(1,1,z0))"
   ]
  },
  {
   "cell_type": "code",
   "execution_count": 13,
   "metadata": {},
   "outputs": [
    {
     "data": {
      "image/png": "[encoded data removed]",
      "text/plain": [
       "<Figure size 576x504 with 1 Axes>"
      ]
     },
     "metadata": {
      "needs_background": "light"
     },
     "output_type": "display_data"
    }
   ],
   "source": [
    "# Plot \n",
    "plt.figure(figsize=(8,7))\n",
    "plt.plot(radii,drho_du(radii,0,z0), label=\"z=0\")\n",
    "plt.plot(radii,drho_du(radii,1,z0), label=\"z=1\")\n",
    "plt.plot(radii,drho_du(radii,2,z0), label=\"z=2\")\n",
    "plt.plot(radii,drho_du(radii,3,z0), label=\"z=3\")\n",
    "plt.title(\"Casertano Eq 2\")\n",
    "plt.xlabel(\"Radius (KPC)\")\n",
    "plt.ylabel(\"drho/du\")\n",
    "plt.legend()\n",
    "plt.show()"
   ]
  },
  {
   "cell_type": "code",
   "execution_count": 14,
   "metadata": {},
   "outputs": [
    {
     "name": "stdout",
     "output_type": "stream",
     "text": [
      "0.3819660112501051\n"
     ]
    }
   ],
   "source": [
    "# Casertano Eq 5\n",
    "def px(r,u,xi):\n",
    "    x = (r**2 + u**2 + xi**2)/(2*r*u)\n",
    "    return x - (np.sqrt((x**2)-1))\n",
    "\n",
    "print(px(1,1,1))"
   ]
  },
  {
   "cell_type": "code",
   "execution_count": 15,
   "metadata": {},
   "outputs": [
    {
     "name": "stdout",
     "output_type": "stream",
     "text": [
      "0.3680901991747202\n"
     ]
    }
   ],
   "source": [
    "# Complete elliptic integral\n",
    "def K(r,u,xi):\n",
    "    elliptical = (2/(np.pi*np.sqrt(r*u*px(r,u,xi)))) * (ellipk(px(r,u,xi)) - ellipe(px(r,u,xi)))\n",
    "    return elliptical\n",
    "\n",
    "print(K(1,1,1))"
   ]
  },
  {
   "cell_type": "code",
   "execution_count": 16,
   "metadata": {},
   "outputs": [
    {
     "name": "stdout",
     "output_type": "stream",
     "text": [
      "-4.421306454869979e-16\n"
     ]
    }
   ],
   "source": [
    "# Integrand, using built-in functions\n",
    "def integrand(r,u,z,z0,G):\n",
    "    return (4 * np.pi * G) * u * K(r,u,z) * drho_du(u,z,z0)\n",
    "    \n",
    "print(integrand(3,2,1,z0,G))"
   ]
  },
  {
   "cell_type": "code",
   "execution_count": 17,
   "metadata": {},
   "outputs": [
    {
     "name": "stderr",
     "output_type": "stream",
     "text": [
      "C:\\Users\\JB\\AppData\\Local\\Continuum\\anaconda3\\lib\\site-packages\\ipykernel_launcher.py:3: RuntimeWarning: divide by zero encountered in true_divide\n",
      "  This is separate from the ipykernel package so we can avoid doing imports until\n",
      "C:\\Users\\JB\\AppData\\Local\\Continuum\\anaconda3\\lib\\site-packages\\ipykernel_launcher.py:4: RuntimeWarning: invalid value encountered in subtract\n",
      "  after removing the cwd from sys.path.\n"
     ]
    },
    {
     "data": {
      "image/png": "[encoded data removed]",
      "text/plain": [
       "<Figure size 576x504 with 1 Axes>"
      ]
     },
     "metadata": {
      "needs_background": "light"
     },
     "output_type": "display_data"
    }
   ],
   "source": [
    "# Plot \n",
    "plt.figure(figsize=(8,7))\n",
    "plt.plot(radii,integrand(2,radii,2,z0,G), label=\"z=2,u=2\")\n",
    "plt.plot(radii,integrand(1,radii,1,z0,G), label=\"z=1,u=1\")\n",
    "plt.plot(radii,integrand(0,radii,1,z0,G), label=\"z=0,u=1\")\n",
    "plt.title(\"Integrand\")\n",
    "plt.xlabel(\"Radius (KPC)\")\n",
    "plt.legend()\n",
    "plt.show()"
   ]
  },
  {
   "cell_type": "markdown",
   "metadata": {},
   "source": [
    "## Integration"
   ]
  },
  {
   "cell_type": "code",
   "execution_count": 18,
   "metadata": {},
   "outputs": [
    {
     "name": "stdout",
     "output_type": "stream",
     "text": [
      "0.01\n",
      "36.379999999999995\n"
     ]
    }
   ],
   "source": [
    "# Define minimum and maximum values of radius for integration\n",
    "intmin = 0.01 #np.min(radii)\n",
    "intmax = np.max(radii)\n",
    "\n",
    "print(intmin)\n",
    "print(intmax)\n",
    "#intmax = np.inf\n",
    "#intmax = rcut+delta"
   ]
  },
  {
   "cell_type": "markdown",
   "metadata": {},
   "source": [
    "### Integration, using built-in python functions: scipy quad"
   ]
  },
  {
   "cell_type": "code",
   "execution_count": 19,
   "metadata": {},
   "outputs": [
    {
     "name": "stdout",
     "output_type": "stream",
     "text": [
      "-1.4441757092198498e-15\n",
      "[-5.39009991e-15 -5.18653085e-15 -4.15593841e-15 -3.17133362e-15\n",
      " -2.40614403e-15 -1.88529384e-15 -1.58144566e-15 -1.44846285e-15\n",
      " -1.33714309e-15 -1.23788223e-15 -1.11210466e-15 -9.77655537e-16\n",
      " -8.82988564e-16 -8.09791375e-16 -7.43358091e-16 -6.89231766e-16\n",
      " -6.41257404e-16 -5.99672636e-16 -5.63503966e-16 -5.31573073e-16\n",
      " -5.02947290e-16 -4.77256865e-16 -4.54080613e-16 -4.33053334e-16\n",
      " -4.13813927e-16 -3.96235894e-16 -3.80134834e-16 -3.65331307e-16\n",
      " -3.51606062e-16 -3.38878198e-16 -3.27051645e-16 -3.16022503e-16\n",
      " -3.05704130e-16 -2.96034608e-16 -2.86970105e-16 -2.78442252e-16\n",
      " -2.70384706e-16]\n"
     ]
    }
   ],
   "source": [
    "# Reverse order of variables to setup for integration\n",
    "integrand_mixvar = lambda z,r,u,z0,G: integrand(r,u,z,z0,G)\n",
    "\n",
    "# Inner integral, integral over z\n",
    "integrand2 = lambda r,u,z0,G: quad(integrand_mixvar, intmin, intmax, args=(r,u,z0,G))[0]\n",
    "print(integrand2(2,1,z0,G))\n",
    "\n",
    "# Reverse order of variables to setup for integration\n",
    "integrand_mixvar2 = lambda u,r,z0,G: integrand2(r,u,z0,G)\n",
    "\n",
    "# Outer integral, integral over u\n",
    "radialforce = lambda r,z0,G: quad(integrand_mixvar2, intmin, intmax, args=(r,z0,G))[0]\n",
    "\n",
    "# Calculate radial force\n",
    "radialforce = np.vectorize(radialforce)\n",
    "print(radialforce(radii,z0,G))"
   ]
  },
  {
   "cell_type": "markdown",
   "metadata": {},
   "source": [
    "## Velocity"
   ]
  },
  {
   "cell_type": "code",
   "execution_count": 20,
   "metadata": {},
   "outputs": [
    {
     "name": "stdout",
     "output_type": "stream",
     "text": [
      "[4.52574631e-08 8.46014927e-08 9.94541774e-08 1.03533123e-07\n",
      " 1.02659198e-07 1.00711871e-07 1.00447117e-07 1.03390792e-07\n",
      " 1.05854896e-07 1.07755906e-07 1.07441362e-07 1.05478529e-07\n",
      " 1.04553328e-07 1.04091347e-07 1.03389987e-07 1.02958169e-07\n",
      " 1.02488030e-07 1.02089717e-07 1.01770344e-07 1.01498208e-07\n",
      " 1.01242608e-07 1.01013622e-07 1.00808353e-07 1.00622000e-07\n",
      " 1.00442937e-07 1.00281937e-07 1.00139687e-07 1.00013855e-07\n",
      " 9.98928427e-08 9.97809674e-08 9.96786284e-08 9.95830616e-08\n",
      " 9.94922094e-08 9.94064143e-08 9.93279025e-08 9.92536493e-08\n",
      " 9.91796128e-08]\n",
      "[4.52630231e-08 8.45681327e-08 9.95375775e-08 1.03421923e-07\n",
      " 1.02639186e-07 1.00627950e-07 1.00724218e-07 1.03087940e-07\n",
      " 1.06048880e-07 1.07671713e-07 1.07327121e-07 1.05662753e-07\n",
      " 1.04514531e-07 1.04018447e-07 1.03460617e-07 1.02920164e-07\n",
      " 1.02500698e-07 1.02089189e-07 1.01770343e-07 1.01496183e-07\n",
      " 1.01244011e-07 1.01013276e-07 1.00809092e-07 1.00620665e-07\n",
      " 1.00443793e-07 1.00281649e-07 1.00140368e-07 1.00012881e-07\n",
      " 9.98932884e-08 9.97810348e-08 9.96785813e-08 9.95830137e-08\n",
      " 9.94920661e-08 9.94066604e-08 9.93277180e-08 9.92537231e-08\n",
      " 9.91796005e-08]\n"
     ]
    },
    {
     "name": "stderr",
     "output_type": "stream",
     "text": [
      "C:\\Users\\JB\\AppData\\Local\\Continuum\\anaconda3\\lib\\site-packages\\scipy\\signal\\_arraytools.py:45: FutureWarning: Using a non-tuple sequence for multidimensional indexing is deprecated; use `arr[tuple(seq)]` instead of `arr[seq]`. In the future this will be interpreted as an array index, `arr[np.array(seq)]`, which will result either in an error or a different result.\n",
      "  b = a[a_slice]\n"
     ]
    }
   ],
   "source": [
    "velocs = np.sqrt(-radii*radialforce(radii,z0,G))\n",
    "print(velocs)\n",
    "\n",
    "velocs_smooth = savgol_filter(velocs[np.isnan(velocs) == False], 7, 5)\n",
    "print(velocs_smooth)"
   ]
  },
  {
   "cell_type": "markdown",
   "metadata": {},
   "source": [
    "## Comparison"
   ]
  },
  {
   "cell_type": "code",
   "execution_count": 21,
   "metadata": {},
   "outputs": [],
   "source": [
    "# Gas\n",
    "tracedgas = np.loadtxt(\"../NGC_5005/traced_data/ngc5005_gas.txt\")\n",
    "tracedgas_r, tracedgas_v = tracedgas.T\n",
    "tracedgas_r = tracedgas_r[1:]\n",
    "tracedgas_v = tracedgas_v[1:]\n",
    "\n",
    "# Disk\n",
    "traceddisk = np.loadtxt(\"../NGC_5005/traced_data/ngc5005_disk.txt\")\n",
    "traceddisk_r, traceddisk_v = traceddisk.T\n",
    "traceddisk_r = traceddisk_r[1:]\n",
    "traceddisk_v = traceddisk_v[1:]"
   ]
  },
  {
   "cell_type": "markdown",
   "metadata": {},
   "source": [
    "## Plot"
   ]
  },
  {
   "cell_type": "code",
   "execution_count": 22,
   "metadata": {},
   "outputs": [
    {
     "data": {
      "image/png": "[encoded data removed]",
      "text/plain": [
       "<Figure size 576x432 with 1 Axes>"
      ]
     },
     "metadata": {
      "needs_background": "light"
     },
     "output_type": "display_data"
    }
   ],
   "source": [
    "scale = 1.7e9\n",
    "plt.figure(figsize=(8,6))             \n",
    "plt.scatter(radii, scale*velocs, linestyle='solid', label='Scaled calculated disk velocity by {}'.format(scale))\n",
    "plt.plot(radii, scale*velocs, linestyle='solid', label='Scaled calculated disk velocity by {}'.format(scale))\n",
    "#plt.plot(radii[np.isnan(velocs)==False], scale*velocs_smooth, linestyle='solid', label='Smoothed Gas Velocity')\n",
    "#plt.scatter(tracedgas_r, tracedgas_v, label='Expected Gas Velocity', c='red')\n",
    "plt.scatter(traceddisk_r, traceddisk_v, label='Expected Disk Velocity', c='red')\n",
    "plt.axis('tight');\n",
    "plt.title('NGC 5005')\n",
    "plt.xlabel('Radius (KPC)', fontsize=10)\n",
    "plt.ylabel('Velocity (KM/S)', fontsize=10)\n",
    "plt.xlim(0,12)\n",
    "plt.ylim(0,330)\n",
    "plt.legend(fontsize=10)\n",
    "plt.show()"
   ]
  },
  {
   "cell_type": "code",
   "execution_count": 23,
   "metadata": {},
   "outputs": [
    {
     "name": "stdout",
     "output_type": "stream",
     "text": [
      "[ 0.38  1.38  2.38  3.38  4.38  5.38  6.38  7.38  8.38  9.38 10.38 11.38\n",
      " 12.38 13.38 14.38 15.38 16.38 17.38 18.38 19.38 20.38 21.38 22.38 23.38\n",
      " 24.38 25.38 26.38 27.38 28.38 29.38 30.38 31.38 32.38 33.38 34.38 35.38\n",
      " 36.38]\n",
      "[4.52574631e-08 8.46014927e-08 9.94541774e-08 1.03533123e-07\n",
      " 1.02659198e-07 1.00711871e-07 1.00447117e-07 1.03390792e-07\n",
      " 1.05854896e-07 1.07755906e-07 1.07441362e-07 1.05478529e-07\n",
      " 1.04553328e-07 1.04091347e-07 1.03389987e-07 1.02958169e-07\n",
      " 1.02488030e-07 1.02089717e-07 1.01770344e-07 1.01498208e-07\n",
      " 1.01242608e-07 1.01013622e-07 1.00808353e-07 1.00622000e-07\n",
      " 1.00442937e-07 1.00281937e-07 1.00139687e-07 1.00013855e-07\n",
      " 9.98928427e-08 9.97809674e-08 9.96786284e-08 9.95830616e-08\n",
      " 9.94922094e-08 9.94064143e-08 9.93279025e-08 9.92536493e-08\n",
      " 9.91796128e-08]\n"
     ]
    }
   ],
   "source": [
    "print(radii)\n",
    "print(velocs)"
   ]
  },
  {
   "cell_type": "code",
   "execution_count": 24,
   "metadata": {},
   "outputs": [
    {
     "name": "stdout",
     "output_type": "stream",
     "text": [
      "[ 0.975   1.4655  1.9139  2.4041  2.8662  3.3563  3.8321  4.3498  4.8117\n",
      "  5.5954  6.4072  7.205   8.0167  8.7864  9.612  10.3957 11.1934]\n"
     ]
    }
   ],
   "source": [
    "print(traceddisk_r)"
   ]
  },
  {
   "cell_type": "code",
   "execution_count": null,
   "metadata": {},
   "outputs": [],
   "source": []
  }
 ],
 "metadata": {
  "kernelspec": {
   "display_name": "Python 3",
   "language": "python",
   "name": "python3"
  },
  "language_info": {
   "codemirror_mode": {
    "name": "ipython",
    "version": 3
   },
   "file_extension": ".py",
   "mimetype": "text/x-python",
   "name": "python",
   "nbconvert_exporter": "python",
   "pygments_lexer": "ipython3",
   "version": "3.7.1"
  }
 },
 "nbformat": 4,
 "nbformat_minor": 4
}
