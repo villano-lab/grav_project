{
 "cells": [
  {
   "cell_type": "code",
   "execution_count": 1,
   "metadata": {},
   "outputs": [],
   "source": [
    "import numpy as np\n",
    "import matplotlib.pyplot as plt\n",
    "from scipy.integrate import quad, nquad, dblquad, simps\n",
    "from scipy.special import ellipe, ellipk\n",
    "from scipy.interpolate import lagrange, InterpolatedUnivariateSpline\n",
    "from scipy.signal import savgol_filter\n",
    "import math as math"
   ]
  },
  {
   "cell_type": "markdown",
   "metadata": {},
   "source": [
    "## User input"
   ]
  },
  {
   "cell_type": "code",
   "execution_count": 2,
   "metadata": {},
   "outputs": [],
   "source": [
    "# Gas:\n",
    "# Conversion to linear scale was made in the notebook: grav_project/NGC_5005/Gas_from_mass_surface_density.ipynb\n",
    "raddens = \"../data/gasmsd_kpc_linear.txt\"      # Gas density with 2 columns, units: KPC, MSUN/PC^2\n",
    "maxkpc=11.0\n",
    "\n",
    "# Parameters\n",
    "z0 = 0.93\n",
    "# Constants\n",
    "G = 0.00000431158                   # Gravitational constant (KPC/MSUN*(KM/S)^2)  \n",
    "CONSTANT = 2.0 * np.pi * G / 3.0"
   ]
  },
  {
   "cell_type": "markdown",
   "metadata": {},
   "source": [
    "## Density profile, outputs: radii (array), densities (array), rcut (one #), delta (one #)"
   ]
  },
  {
   "cell_type": "code",
   "execution_count": 3,
   "metadata": {},
   "outputs": [],
   "source": [
    "def DensityProfile(raddens=raddens):\n",
    "    mudata = np.loadtxt(raddens)     \n",
    "    xdinp, ydinp = mudata.T\n",
    "    rcut = xdinp[len(xdinp)-1]               # rcut is the LAST radius value (?)\n",
    "    delta = rcut - xdinp[len(xdinp)-2]       # difference between the last two radius values\n",
    "    \n",
    "    return xdinp, ydinp, rcut, delta\n",
    "\n",
    "#defining these output values:\n",
    "# Radius\n",
    "xdinp = DensityProfile()[0]\n",
    "# Density\n",
    "ydinp = DensityProfile()[1]\n",
    "# Cutoff radius\n",
    "rcut = DensityProfile()[2]\n",
    "# Cutoff length\n",
    "delta = DensityProfile()[3]"
   ]
  },
  {
   "cell_type": "markdown",
   "metadata": {},
   "source": [
    "## Interpolation"
   ]
  },
  {
   "cell_type": "code",
   "execution_count": 4,
   "metadata": {},
   "outputs": [],
   "source": [
    "def interpd(x,y):\n",
    "    #return lagrange(x,y)                # Lagrange interpolation didn't work well so I used Univariate Spline\n",
    "    return InterpolatedUnivariateSpline(x,y,k=4)\n",
    "    \n",
    "# Calculate the density values at the sampling radii\n",
    "spline_rhor = interpd(xdinp,ydinp)        # define the polynomial that's calculated"
   ]
  },
  {
   "cell_type": "markdown",
   "metadata": {},
   "source": [
    "radii = np.arange(0.001,11,0.1)                # Sampling radii\n",
    "## Partial derivative / Smoothing"
   ]
  },
  {
   "cell_type": "code",
   "execution_count": 5,
   "metadata": {},
   "outputs": [
    {
     "name": "stdout",
     "output_type": "stream",
     "text": [
      "[1.0000e-03 1.0100e-01 2.0100e-01 3.0100e-01 4.0100e-01 5.0100e-01\n",
      " 6.0100e-01 7.0100e-01 8.0100e-01 9.0100e-01 1.0010e+00 1.1010e+00\n",
      " 1.2010e+00 1.3010e+00 1.4010e+00 1.5010e+00 1.6010e+00 1.7010e+00\n",
      " 1.8010e+00 1.9010e+00 2.0010e+00 2.1010e+00 2.2010e+00 2.3010e+00\n",
      " 2.4010e+00 2.5010e+00 2.6010e+00 2.7010e+00 2.8010e+00 2.9010e+00\n",
      " 3.0010e+00 3.1010e+00 3.2010e+00 3.3010e+00 3.4010e+00 3.5010e+00\n",
      " 3.6010e+00 3.7010e+00 3.8010e+00 3.9010e+00 4.0010e+00 4.1010e+00\n",
      " 4.2010e+00 4.3010e+00 4.4010e+00 4.5010e+00 4.6010e+00 4.7010e+00\n",
      " 4.8010e+00 4.9010e+00 5.0010e+00 5.1010e+00 5.2010e+00 5.3010e+00\n",
      " 5.4010e+00 5.5010e+00 5.6010e+00 5.7010e+00 5.8010e+00 5.9010e+00\n",
      " 6.0010e+00 6.1010e+00 6.2010e+00 6.3010e+00 6.4010e+00 6.5010e+00\n",
      " 6.6010e+00 6.7010e+00 6.8010e+00 6.9010e+00 7.0010e+00 7.1010e+00\n",
      " 7.2010e+00 7.3010e+00 7.4010e+00 7.5010e+00 7.6010e+00 7.7010e+00\n",
      " 7.8010e+00 7.9010e+00 8.0010e+00 8.1010e+00 8.2010e+00 8.3010e+00\n",
      " 8.4010e+00 8.5010e+00 8.6010e+00 8.7010e+00 8.8010e+00 8.9010e+00\n",
      " 9.0010e+00 9.1010e+00 9.2010e+00 9.3010e+00 9.4010e+00 9.5010e+00\n",
      " 9.6010e+00 9.7010e+00 9.8010e+00 9.9010e+00 1.0001e+01 1.0101e+01\n",
      " 1.0201e+01 1.0301e+01 1.0401e+01 1.0501e+01 1.0601e+01 1.0701e+01\n",
      " 1.0801e+01 1.0901e+01]\n"
     ]
    },
    {
     "name": "stderr",
     "output_type": "stream",
     "text": [
      "C:\\Users\\JB\\AppData\\Local\\Continuum\\anaconda3\\lib\\site-packages\\scipy\\signal\\_arraytools.py:45: FutureWarning: Using a non-tuple sequence for multidimensional indexing is deprecated; use `arr[tuple(seq)]` instead of `arr[seq]`. In the future this will be interpreted as an array index, `arr[np.array(seq)]`, which will result either in an error or a different result.\n",
      "  b = a[a_slice]\n"
     ]
    }
   ],
   "source": [
    "#radii = np.linspace(0.001,maxkpc,100)                # Sampling radii\n",
    "radii = np.arange(0.001,11,0.1)                # Sampling radii\n",
    "print(radii)\n",
    "\n",
    "# Partial derivative of rho(u,z) with respect to u\n",
    "# Taking the derivative of the splined polynomial (radius and density values, rho(r) or rho(u))\n",
    "drho_du = spline_rhor.derivative()\n",
    "\n",
    "# Evaluating at given radii\n",
    "drho_du_values = drho_du(radii)\n",
    "\n",
    "# Smoothing: Savitzky-Golay filter: https://riptutorial.com/scipy/example/15878/using-a-savitzky-golay-filter\n",
    "drho_du_smooth = savgol_filter(drho_du_values, 11, 1)  # window size 11, polynomial order 5\n",
    "\n",
    "# Spline the smoothed derivative\n",
    "spline_drhor = interpd(radii,drho_du_smooth)"
   ]
  },
  {
   "cell_type": "code",
   "execution_count": 6,
   "metadata": {},
   "outputs": [
    {
     "data": {
      "image/png": "[encoded data removed]",
      "text/plain": [
       "<Figure size 576x504 with 1 Axes>"
      ]
     },
     "metadata": {
      "needs_background": "light"
     },
     "output_type": "display_data"
    }
   ],
   "source": [
    "# Plot \n",
    "plt.figure(figsize=(8,7))\n",
    "plt.plot(radii,drho_du_values, label=\"Before smoothing drho/du\", c=\"blue\")\n",
    "plt.plot(radii,drho_du_smooth, label=\"After smoothing drho/du\", c=\"red\")\n",
    "#plt.plot(radii,spline_drhor(radii), label=\"After smoothing and splining drho/du\", c=\"purple\")\n",
    "plt.title(\"Partial Derivative of Density\")\n",
    "plt.xlabel(\"Radius (KPC)\")\n",
    "plt.ylabel(\"drho/du\")\n",
    "plt.legend()\n",
    "plt.show()"
   ]
  },
  {
   "cell_type": "markdown",
   "metadata": {},
   "source": [
    "## Functions"
   ]
  },
  {
   "cell_type": "code",
   "execution_count": 7,
   "metadata": {},
   "outputs": [
    {
     "name": "stdout",
     "output_type": "stream",
     "text": [
      "-99.54623763121893\n"
     ]
    }
   ],
   "source": [
    "#from casertano http://articles.adsabs.harvard.edu/pdf/1983MNRAS.203..735C\n",
    "# Casertano Eq 2\n",
    "def drho_du(u,z,z0):\n",
    "    return spline_drhor(u) * np.cosh(z / z0)**(-2)\n",
    "\n",
    "print(drho_du(1,1,z0))"
   ]
  },
  {
   "cell_type": "code",
   "execution_count": 8,
   "metadata": {},
   "outputs": [
    {
     "data": {
      "image/png": "[encoded data removed]",
      "text/plain": [
       "<Figure size 576x504 with 1 Axes>"
      ]
     },
     "metadata": {
      "needs_background": "light"
     },
     "output_type": "display_data"
    }
   ],
   "source": [
    "# Plot \n",
    "plt.figure(figsize=(8,7))\n",
    "plt.plot(radii,drho_du(radii,0,z0), label=\"z=0\")\n",
    "plt.plot(radii,drho_du(radii,1,z0), label=\"z=1\")\n",
    "plt.title(\"Casertano Eq 2\")\n",
    "plt.xlabel(\"Radius (KPC)\")\n",
    "plt.ylabel(\"drho/du\")\n",
    "plt.legend()\n",
    "plt.show()"
   ]
  },
  {
   "cell_type": "code",
   "execution_count": 9,
   "metadata": {},
   "outputs": [
    {
     "name": "stdout",
     "output_type": "stream",
     "text": [
      "0.3819660112501051\n"
     ]
    }
   ],
   "source": [
    "# Casertano Eq 5\n",
    "def px(r,u,z):\n",
    "    x = (r**2 + u**2 + z**2)/(2*r*u)\n",
    "    return x - np.sqrt((x**2)-1)\n",
    "\n",
    "print(px(1,1,1))"
   ]
  },
  {
   "cell_type": "code",
   "execution_count": 10,
   "metadata": {},
   "outputs": [],
   "source": [
    "# Rotmod elliptic integral and p function (Casertano: Eq A.16)\n",
    "def func(x,y,z):\n",
    "    if( x == y ) & ( z == 0):\n",
    "        r = 0\n",
    "    elif( x == 0 ) | ( y == 0):\n",
    "        r = 0\n",
    "    else:\n",
    "        xxx = (x*x + y*y + z*z) / (2.0 * x * y)\n",
    "        \n",
    "        # Added these 4 lines to fix the \"dividing by zero\" issue\n",
    "        if xxx == 1.0:\n",
    "            rrr = (xxx*xxx - 1.0) + 0.01\n",
    "        else: \n",
    "            rrr = (xxx*xxx - 1.0)\n",
    "            \n",
    "        #rrr = (xxx*xxx - 1.0)\n",
    "        ppp = 1.0 / (xxx + np.sqrt(rrr))\n",
    "        fm = 1.0 - ppp*ppp\n",
    "        el1 = (1.3862944 + fm * (0.1119723 + fm * 0.0725296)) - (0.5 + fm * (0.1213478 + fm * 0.0288729)) * np.log(fm)\n",
    "        el2 = (1.0 + fm * ( 0.4630151 + fm * 0.1077812 ) ) - (fm * (0.2452727 + fm * 0.0412496)) * np.log(fm)\n",
    "        r = ((1.0 - xxx * y/x) * el2 / (rrr) + (y/x - ppp) * el1 / np.sqrt(rrr)) / np.pi\n",
    "        r *= np.sqrt(x / (y * ppp))\n",
    "    return r"
   ]
  },
  {
   "cell_type": "code",
   "execution_count": 11,
   "metadata": {},
   "outputs": [
    {
     "name": "stdout",
     "output_type": "stream",
     "text": [
      "0.35734399698214614\n"
     ]
    }
   ],
   "source": [
    "# Complete elliptic integral\n",
    "def K_E(r,u,z):\n",
    "    return ellipk(px(r,u,z)) - ellipe(px(r,u,z))\n",
    "\n",
    "print(K_E(1,1,1))"
   ]
  },
  {
   "cell_type": "code",
   "execution_count": 12,
   "metadata": {},
   "outputs": [
    {
     "name": "stdout",
     "output_type": "stream",
     "text": [
      "-8.650475905891877e-05\n"
     ]
    }
   ],
   "source": [
    "# Casertano eq 4, simplified\n",
    "def integrand(z,r,u,z0,G):\n",
    "    return (8 * G) * drho_du(u,z,z0) * K_E(r,u,z) / np.sqrt(u * r * px(r,u,z))\n",
    "\n",
    "print(integrand(1,2,3,z0,G))"
   ]
  },
  {
   "cell_type": "raw",
   "metadata": {},
   "source": [
    "# Integrand, using ROTMOD's function\n",
    "def integrand(r,u,z,z0,G,mode):\n",
    "    return (8 * G) * drho_du(u,z,z0,mode) * func(r,u,z)\n",
    "    \n",
    "print(integrand(1,2,3,z0,G,mode))"
   ]
  },
  {
   "cell_type": "markdown",
   "metadata": {},
   "source": [
    "## Integration"
   ]
  },
  {
   "cell_type": "code",
   "execution_count": 13,
   "metadata": {},
   "outputs": [
    {
     "name": "stdout",
     "output_type": "stream",
     "text": [
      "0.001\n",
      "inf\n"
     ]
    }
   ],
   "source": [
    "# Define minimum and maximum values of radius for integration\n",
    "intmin = np.min(radii) #0 causes runtime issues but this gets very close\n",
    "#intmax = 1e2 #np.max(radii) #Integration is from 0 to infinity but infinity gives overflow errors so we just pick the largest we can without causing errors\n",
    "intmax = np.inf\n",
    "print(intmin)\n",
    "print(intmax)"
   ]
  },
  {
   "cell_type": "markdown",
   "metadata": {},
   "source": [
    "### Integration, using built-in python functions: scipy quad"
   ]
  },
  {
   "cell_type": "code",
   "execution_count": 14,
   "metadata": {},
   "outputs": [
    {
     "name": "stdout",
     "output_type": "stream",
     "text": [
      "-0.0003884925303742863\n"
     ]
    },
    {
     "name": "stderr",
     "output_type": "stream",
     "text": [
      "C:\\Users\\JB\\AppData\\Local\\Continuum\\anaconda3\\lib\\site-packages\\ipykernel_launcher.py:4: RuntimeWarning: overflow encountered in cosh\n",
      "  after removing the cwd from sys.path.\n",
      "C:\\Users\\JB\\AppData\\Local\\Continuum\\anaconda3\\lib\\site-packages\\ipykernel_launcher.py:3: RuntimeWarning: invalid value encountered in double_scalars\n",
      "  This is separate from the ipykernel package so we can avoid doing imports until\n",
      "C:\\Users\\JB\\AppData\\Local\\Continuum\\anaconda3\\lib\\site-packages\\scipy\\integrate\\quadpack.py:385: IntegrationWarning: The occurrence of roundoff error is detected, which prevents \n",
      "  the requested tolerance from being achieved.  The error may be \n",
      "  underestimated.\n",
      "  warnings.warn(msg, IntegrationWarning)\n",
      "C:\\Users\\JB\\AppData\\Local\\Continuum\\anaconda3\\lib\\site-packages\\scipy\\integrate\\quadpack.py:385: IntegrationWarning: The maximum number of subdivisions (50) has been achieved.\n",
      "  If increasing the limit yields no improvement it is advised to analyze \n",
      "  the integrand in order to determine the difficulties.  If the position of a \n",
      "  local difficulty can be determined (singularity, discontinuity) one will \n",
      "  probably gain from splitting up the interval and calling the integrator \n",
      "  on the subranges.  Perhaps a special-purpose integrator should be used.\n",
      "  warnings.warn(msg, IntegrationWarning)\n"
     ]
    },
    {
     "name": "stdout",
     "output_type": "stream",
     "text": [
      "nan\n"
     ]
    },
    {
     "name": "stderr",
     "output_type": "stream",
     "text": [
      "C:\\Users\\JB\\AppData\\Local\\Continuum\\anaconda3\\lib\\site-packages\\numpy\\lib\\function_base.py:2167: RuntimeWarning: invalid value encountered in ? (vectorized)\n",
      "  outputs = ufunc(*inputs)\n"
     ]
    }
   ],
   "source": [
    "# Inner integral, integral over z\n",
    "integrand2 = lambda u,r,z0,G: u*quad(integrand, intmin, intmax, args=(r,u,z0,G))[0]\n",
    "print(integrand2(2,1,z0,G))\n",
    "\n",
    "# Calculate radial force\n",
    "# Outer integral, integral over u\n",
    "radialforce = lambda r,z0,G: quad(integrand2, intmin, intmax, args=(r,z0,G))[0]\n",
    "radialforce = np.vectorize(radialforce)\n",
    "print(radialforce(1,z0,G))"
   ]
  },
  {
   "cell_type": "code",
   "execution_count": 22,
   "metadata": {},
   "outputs": [
    {
     "name": "stderr",
     "output_type": "stream",
     "text": [
      "C:\\Users\\JB\\AppData\\Local\\Continuum\\anaconda3\\lib\\site-packages\\ipykernel_launcher.py:4: RuntimeWarning: overflow encountered in cosh\n",
      "  after removing the cwd from sys.path.\n",
      "C:\\Users\\JB\\AppData\\Local\\Continuum\\anaconda3\\lib\\site-packages\\ipykernel_launcher.py:3: RuntimeWarning: invalid value encountered in double_scalars\n",
      "  This is separate from the ipykernel package so we can avoid doing imports until\n",
      "No handles with labels found to put in legend.\n"
     ]
    },
    {
     "data": {
      "image/png": "[encoded data removed]",
      "text/plain": [
       "<Figure size 576x504 with 1 Axes>"
      ]
     },
     "metadata": {
      "needs_background": "light"
     },
     "output_type": "display_data"
    }
   ],
   "source": [
    "# Plot \n",
    "plt.figure(figsize=(8,7))\n",
    "plt.plot(radii,radialforce(radii,z0,G))\n",
    "plt.title(\"Radial Force\")\n",
    "plt.xlabel(\"Radius (KPC)\")\n",
    "plt.xlim(0,11)\n",
    "plt.legend()\n",
    "plt.show()"
   ]
  },
  {
   "cell_type": "markdown",
   "metadata": {},
   "source": [
    "### Integration, using ROTMOD functions"
   ]
  },
  {
   "cell_type": "code",
   "execution_count": 15,
   "metadata": {},
   "outputs": [],
   "source": [
    "# Inner integral, integral over z\n",
    "\"\"\"intzed computes the integral over Z that defines the kernel of the integral formula for the rotation velocity. \n",
    "This is done for an arbitrary vertical density profile, specified in the function denzed.\n",
    "The interval of integration is divided into several subintervals, in each of which Simpson's rule is used. \n",
    "It is thus possible to have different steps in different regions of the interval of integration, \n",
    "and to compute the integral more accurately. An attempt has been made at optimizing the subdivision. \n",
    "It is still possible that the kernel is not accurate, especially when R is very close to U. \n",
    "It is NOT recommended that the programme is used with very small, but non-zero, values of the thickness. \n",
    "On the other hand, the situation with an infinitely thin disk is dealt with properly, the density profile in \n",
    "Z being then treated as a Dirac delta function.\"\"\"\n",
    "def intzed(r,u,z,z0):\n",
    "    zeds = np.array([0.02, 0.50, 1.00, 3.00, 10.00])\n",
    "    \n",
    "    if (z0 != 0.0):\n",
    "        n = 10\n",
    "        \n",
    "        if (np.abs(r - u) <= (0.2 * z0)):\n",
    "            n = 200\n",
    "        \n",
    "        zne = 0.0\n",
    "        res = 0.0\n",
    "        i = 0\n",
    "        while i < 5: \n",
    "            zol = zne\n",
    "            zne = zeds[i] * z0\n",
    "            step = (zne - zol) / n\n",
    "            z = zol\n",
    "            res += step * func(r,u,z) * drho_du(u,z,z0) / 3.0\n",
    "            w = 4.0 / 3.0         \n",
    "            j = 0.0\n",
    "            while j < n:\n",
    "                z += step\n",
    "                res += step * func(r,u,z) * drho_du(u,z,z0) * w\n",
    "                w = 2.0 - w\n",
    "                j += 1\n",
    "            res -= step * func(r,u,z) * drho_du(u,z,z0) / 3.0\n",
    "            i += 1\n",
    "    else:\n",
    "        res = func(r,u,z0)\n",
    "    return res\n",
    "\n",
    "# Outer integral, integral over u\n",
    "def interg(xd,yd,nd,r,rstart,z0,step,ndens):\n",
    "    vsq = 0.0\n",
    "    i = 1\n",
    "    k = 0\n",
    "    while k < ndens:\n",
    "        if (k == 0 or k == (ndens - 1)):\n",
    "            iw = 1\n",
    "        else:\n",
    "            iw = 4 - 2 * ((k + 1) % 2)\n",
    "        \n",
    "        x = rstart + step * k\n",
    "        y = 0.0\n",
    "\n",
    "        if (x < xd[nd-1]): \n",
    "            done = 0\n",
    "            while (done == 0) & (i < (nd - 1)):\n",
    "                #if i==1:\n",
    "                    #print(\"            Checking xd...\") #This if (xd...) loop is entered many times in quick succession; doesn't seem to be hanging so much as running too much. Not seeing the \"increased i for the first time\" as frequently as I would have expected, but this if statement IS completing quickly.\n",
    "                if (xd[i-1] <= x) & (xd[i+1] >= x):\n",
    "                    k1 = i - 1\n",
    "                    while k1 <= (i + 1):\n",
    "                        f = 1.0\n",
    "                        k2 = i - 1\n",
    "                        while k2 <= (i + 1):\n",
    "                            if (k1 != k2):\n",
    "                                f *= (x - xd[k2]) / (xd[k1] - xd[k2])\n",
    "                            k2 += 1\n",
    "                        y += f * yd[k1]\n",
    "                        done = 1\n",
    "                        k1 += 1\n",
    "                else:\n",
    "                    i += 1\n",
    "            if (y > 0.0):\n",
    "                res = intzed(r,x,y,z0)\n",
    "                vsq += CONSTANT * res * y * step * iw\n",
    "                if math.isnan(vsq):\n",
    "                    print(\"vsq = {}\".format(vsq))\n",
    "        k += 1\n",
    "    return vsq"
   ]
  },
  {
   "cell_type": "code",
   "execution_count": 16,
   "metadata": {},
   "outputs": [
    {
     "name": "stdout",
     "output_type": "stream",
     "text": [
      "Starting 0/110...\n",
      "Starting 1/110...\n",
      "Starting 2/110...\n",
      "Starting 3/110...\n",
      "Starting 4/110...\n",
      "Starting 5/110...\n",
      "Starting 6/110...\n",
      "Starting 7/110...\n",
      "Starting 8/110...\n",
      "Starting 9/110...\n",
      "Starting 10/110...\n",
      "Starting 11/110...\n",
      "Starting 12/110...\n",
      "Starting 13/110...\n",
      "Starting 14/110...\n",
      "Starting 15/110...\n",
      "Starting 16/110...\n",
      "Starting 17/110...\n",
      "Starting 18/110...\n",
      "Starting 19/110...\n",
      "Starting 20/110...\n",
      "Starting 21/110...\n",
      "Starting 22/110...\n",
      "Starting 23/110...\n",
      "Starting 24/110...\n",
      "Starting 25/110...\n",
      "Starting 26/110...\n",
      "Starting 27/110...\n",
      "Starting 28/110...\n",
      "Starting 29/110...\n",
      "Starting 30/110...\n",
      "Starting 31/110...\n",
      "Starting 32/110...\n",
      "Starting 33/110...\n",
      "Starting 34/110...\n",
      "Starting 35/110...\n",
      "Starting 36/110...\n",
      "Starting 37/110...\n",
      "Starting 38/110...\n",
      "Starting 39/110...\n",
      "Starting 40/110...\n",
      "Starting 41/110...\n",
      "Starting 42/110...\n",
      "Starting 43/110...\n",
      "Starting 44/110...\n",
      "Starting 45/110...\n",
      "Starting 46/110...\n",
      "Starting 47/110...\n",
      "Starting 48/110...\n",
      "Starting 49/110...\n",
      "Starting 50/110...\n",
      "Starting 51/110...\n",
      "Starting 52/110...\n",
      "Starting 53/110...\n",
      "Starting 54/110...\n",
      "Starting 55/110...\n",
      "Starting 56/110...\n",
      "Starting 57/110...\n",
      "Starting 58/110...\n",
      "Starting 59/110...\n",
      "Starting 60/110...\n",
      "Starting 61/110...\n",
      "Starting 62/110...\n",
      "Starting 63/110...\n",
      "Starting 64/110...\n",
      "Starting 65/110...\n",
      "Starting 66/110...\n",
      "Starting 67/110...\n",
      "Starting 68/110...\n",
      "Starting 69/110...\n",
      "Starting 70/110...\n",
      "Starting 71/110...\n",
      "Starting 72/110...\n",
      "Starting 73/110...\n",
      "Starting 74/110...\n",
      "Starting 75/110...\n",
      "Starting 76/110...\n",
      "Starting 77/110...\n",
      "Starting 78/110...\n",
      "Starting 79/110...\n",
      "Starting 80/110...\n",
      "Starting 81/110...\n",
      "Starting 82/110...\n",
      "Starting 83/110...\n",
      "Starting 84/110...\n",
      "Starting 85/110...\n",
      "Starting 86/110...\n",
      "Starting 87/110...\n",
      "Starting 88/110...\n",
      "Starting 89/110...\n",
      "Starting 90/110...\n",
      "Starting 91/110...\n",
      "Starting 92/110...\n",
      "Starting 93/110...\n",
      "Starting 94/110...\n",
      "Starting 95/110...\n",
      "Starting 96/110...\n",
      "Starting 97/110...\n",
      "Starting 98/110...\n",
      "Starting 99/110...\n",
      "Starting 100/110...\n",
      "Starting 101/110...\n",
      "Starting 102/110...\n",
      "Starting 103/110...\n",
      "Starting 104/110...\n",
      "Starting 105/110...\n",
      "Starting 106/110...\n",
      "Starting 107/110...\n",
      "Starting 108/110...\n",
      "Starting 109/110...\n"
     ]
    }
   ],
   "source": [
    "velocs_rotmod = np.zeros(len(radii))\n",
    "nradii = len(radii)\n",
    "rings = xdinp\n",
    "nring = len(rings)              # number of sampling radii\n",
    "ntimes = len(xdinp)             # number of items\n",
    "ndinp = len(ydinp)\n",
    "naccur = 1\n",
    "z1 = 0.58  #guess\n",
    "h = 1      #guess\n",
    "\n",
    "i = 0\n",
    "j = 0\n",
    "\n",
    "while i < nradii:\n",
    "    print('Starting '+str(i)+'/'+str(nradii)+'...')\n",
    "    \n",
    "    r = radii[i]\n",
    "    vsq = 0.0\n",
    "    \n",
    "    while j < nring and rings[j] < r:\n",
    "        j += 1\n",
    "\n",
    "    skip = rings[j] != r\n",
    "    #z1 = z0\n",
    "    \n",
    "    r1 = r - 3.0 * z1\n",
    "    if r1 < 0.0:\n",
    "        r1 = 0.0\n",
    "    \n",
    "    r2 = 0.0\n",
    "\n",
    "    if r1 < (rcut + 2.0 * delta):\n",
    "        r2 = r + (r - r1)\n",
    "        ndens = 6 * ntimes + 1\n",
    "        step = (r2 - r1) / (ndens - 1)\n",
    "        rstart = r1\n",
    "        vsq += interg(xdinp,ydinp,ndinp,r,rstart,z0,step,ndens)\n",
    "        \n",
    "        if r1 > 0.0:\n",
    "            ndens = r1 * ntimes / h\n",
    "            ndens = 2 * (ndens / 2) + 3       # multiplies and devides by 2, it's unnecessary\n",
    "            step = r1 / (ndens - 1)\n",
    "            rstart = 0.0\n",
    "            vsq += interg(xdinp,ydinp,ndinp,r,rstart,z0,step,ndens)\n",
    "    \n",
    "    if r2 < (rcut + 2.0 * delta):\n",
    "        ndens = (rcut + 2.0 * delta - r2) * ntimes / h\n",
    "        ndens = 2 * (ndens / 2) + 3\n",
    "        step = (rcut + 2.0 * delta - r2) / (ndens - 1)\n",
    "        rstart = r2\n",
    "        vsq += interg(xdinp,ydinp,ndinp,r,rstart,z0,step,ndens)\n",
    "    \n",
    "    if vsq < 0.0:\n",
    "        #velocs_rotmod[i] = (-np.sqrt(-vsq))\n",
    "        velocs_rotmod[i] = (np.sqrt(-vsq))\n",
    "    else:\n",
    "        velocs_rotmod[i] = (np.sqrt(vsq))\n",
    "    i += 1"
   ]
  },
  {
   "cell_type": "markdown",
   "metadata": {},
   "source": [
    "### Integration, using built-in python functions: scipy simps"
   ]
  },
  {
   "cell_type": "raw",
   "metadata": {},
   "source": [
    "# Reverse order of variables to setup for integration\n",
    "integrand2 = lambda z,u,r,z0,G: integrand(r,u,z,z0,G)\n",
    "\n",
    "# Points at which the function is sampled\n",
    "points = np.linspace(intmin,intmax,100)\n",
    "\n",
    "# Inner integral, integral over z\n",
    "integrand2_simps = lambda u,r,z0,G: simps(integrand2, points, dx=0.1)\n",
    "print(integrand2_simps(2,1,z0,G))\n",
    "\n",
    "# Outer integral, integral over u\n",
    "radialforce_simps = lambda r,z0,G: simps(integrand2_simps, points, dx=0.1)\n",
    "\n",
    "# Calculate radial force\n",
    "radialforce_simps = np.vectorize(radialforce_simps)\n",
    "print(radialforce_simps(1,z0,G))\n",
    "\n",
    "# Velocity\n",
    "velocs_simps = np.sqrt(-radii*radialforce_simps(radii,z0,G))"
   ]
  },
  {
   "cell_type": "markdown",
   "metadata": {},
   "source": [
    "### Integration, using manual simpson's rule"
   ]
  },
  {
   "cell_type": "raw",
   "metadata": {},
   "source": [
    "\"\"\"def simpson(f,a,b,n):\n",
    "    h = (b - a) / (n - 1)\n",
    "    x = np.linspace(a, b, n)\n",
    "    print(type(f))\n",
    "    simpson = (h/3) * (f[0] + 2*sum(f[:n-2:2]) + 4*sum(f[1:n-1:2]) + f[n-1])\n",
    "    return simpson\"\"\"\n",
    "\n",
    "def simpson(f, a, b, n):\n",
    "    h=(b-a)/n\n",
    "    k=0.0\n",
    "    x=a\n",
    "    for i in range(1,n/2):\n",
    "        x += 2*h\n",
    "        k += 4*f(x)\n",
    "    for i in range(2,(n/2)-1):\n",
    "        x += 2*h\n",
    "        k += 2*f(x)\n",
    "    return (h/3)*(f(a)+f(b)+k)\n",
    "\n",
    "z = np.array([0.02, 0.50, 1.00, 3.00, 10.00])\n",
    "u = np.array([0.02, 0.50, 1.00, 3.00, 10.00])\n",
    "\n",
    "# Reverse order of variables to setup for integration\n",
    "integrand2 = lambda z,u,r,z0,G,mode: integrand(r,u,z,z0,G,mode)\n",
    "\n",
    "# Inner integral, integral over z\n",
    "integrand2_simps2 = lambda u,r,z0,G,mode: simpson(integrand2(z,u,r,z0,G,mode), 0, np.inf, 100)\n",
    "print(integrand2_simps2(2,1,z0,G,mode))\n",
    "\n",
    "# Outer integral, integral over u\n",
    "radialforce_simps2 = lambda r,z0,G,mode: simpson(integrand2_simps2(u,r,z0,G,mode), 0, np.inf, 100)\n",
    "\n",
    "# Calculate radial force\n",
    "radialforce_simps2 = np.vectorize(radialforce_simps2)\n",
    "print(radialforce_simps2(1,z0,G,mode))\n",
    "\n",
    "# Velocity\n",
    "velocs_simps2 = np.sqrt(-radii*radialforce_simps2(radii,z0,G,mode))"
   ]
  },
  {
   "cell_type": "markdown",
   "metadata": {},
   "source": [
    "## Velocity"
   ]
  },
  {
   "cell_type": "code",
   "execution_count": 17,
   "metadata": {},
   "outputs": [
    {
     "name": "stderr",
     "output_type": "stream",
     "text": [
      "C:\\Users\\JB\\AppData\\Local\\Continuum\\anaconda3\\lib\\site-packages\\ipykernel_launcher.py:4: RuntimeWarning: overflow encountered in cosh\n",
      "  after removing the cwd from sys.path.\n",
      "C:\\Users\\JB\\AppData\\Local\\Continuum\\anaconda3\\lib\\site-packages\\ipykernel_launcher.py:3: RuntimeWarning: invalid value encountered in double_scalars\n",
      "  This is separate from the ipykernel package so we can avoid doing imports until\n",
      "C:\\Users\\JB\\AppData\\Local\\Continuum\\anaconda3\\lib\\site-packages\\scipy\\integrate\\quadpack.py:385: IntegrationWarning: The algorithm does not converge.  Roundoff error is detected\n",
      "  in the extrapolation table.  It is assumed that the requested tolerance\n",
      "  cannot be achieved, and that the returned result (if full_output = 1) is \n",
      "  the best which can be obtained.\n",
      "  warnings.warn(msg, IntegrationWarning)\n"
     ]
    }
   ],
   "source": [
    "#casertano eq 6:\n",
    "velocs = (-radii*radialforce(radii,z0,G))**(0.5)\n",
    "\n",
    "#velocs_smooth = savgol_filter(velocs, 11, 4)"
   ]
  },
  {
   "cell_type": "markdown",
   "metadata": {},
   "source": [
    "## Comparison"
   ]
  },
  {
   "cell_type": "code",
   "execution_count": 18,
   "metadata": {},
   "outputs": [],
   "source": [
    "# Gas\n",
    "tracedgas = np.loadtxt(\"../NGC_5005/traced_data/ngc5005_gas.txt\")\n",
    "tracedgas_r, tracedgas_v = tracedgas.T\n",
    "tracedgas_r = tracedgas_r[1:]\n",
    "tracedgas_v = tracedgas_v[1:]\n",
    "\n",
    "# Disk\n",
    "traceddisk = np.loadtxt(\"../NGC_5005/traced_data/ngc5005_disk.txt\")\n",
    "traceddisk_r, traceddisk_v = traceddisk.T\n",
    "traceddisk_r = traceddisk_r[1:]\n",
    "traceddisk_v = traceddisk_v[1:]"
   ]
  },
  {
   "cell_type": "markdown",
   "metadata": {},
   "source": [
    "## Plot"
   ]
  },
  {
   "cell_type": "code",
   "execution_count": 19,
   "metadata": {},
   "outputs": [
    {
     "data": {
      "image/png": "[encoded data removed]",
      "text/plain": [
       "<Figure size 576x432 with 1 Axes>"
      ]
     },
     "metadata": {
      "needs_background": "light"
     },
     "output_type": "display_data"
    }
   ],
   "source": [
    "scale = 5e2\n",
    "plt.figure(figsize=(8,6))             \n",
    "#plt.scatter(radii, scale*velocs, linestyle='solid', label='Scaled calculated gas velocity (QUAD) by {}'.format(scale))\n",
    "plt.scatter(radii, scale*velocs_rotmod, linestyle='solid', label='Scaled calculated gas velocity (ROTMOD) by {}'.format(scale))\n",
    "plt.plot(radii, scale*velocs_rotmod, linestyle='solid', label='Scaled calculated gas velocity by (ROTMOD) {}'.format(scale))\n",
    "#plt.plot(radii, 1e3*velocs_smooth, linestyle='solid', label='Smoothed Gas Velocity')\n",
    "plt.scatter(tracedgas_r, tracedgas_v, label='Expected Gas Velocity', c='red')\n",
    "plt.axis('tight');\n",
    "plt.title('NGC 5005')\n",
    "plt.xlabel('Radius (KPC)', fontsize=10)\n",
    "plt.ylabel('Velocity (KM/S)', fontsize=10)\n",
    "#plt.xlim(0,12)\n",
    "plt.legend(fontsize=10)\n",
    "plt.show()"
   ]
  },
  {
   "cell_type": "code",
   "execution_count": 20,
   "metadata": {},
   "outputs": [
    {
     "name": "stdout",
     "output_type": "stream",
     "text": [
      "[           nan            nan            nan            nan\n",
      "            nan            nan            nan            nan\n",
      "            nan            nan            nan            nan\n",
      "            nan            nan            nan            nan\n",
      "            nan            nan            nan            nan\n",
      " 1.92873183e+08 1.97634345e+08 2.02283520e+08 2.06828260e+08\n",
      " 2.11275304e+08 2.15630699e+08 2.19899888e+08 2.24087800e+08\n",
      " 2.28198908e+08 2.32237293e+08 2.36206683e+08 2.40110502e+08\n",
      " 2.43951896e+08 2.47733769e+08 2.51458808e+08 2.55129501e+08\n",
      " 2.58748162e+08 2.62316943e+08 2.65837855e+08 2.69312773e+08\n",
      " 2.72743457e+08 2.76131554e+08 2.79478615e+08 2.82786095e+08\n",
      " 2.86055368e+08 2.89287729e+08 2.92484402e+08 2.95646545e+08\n",
      " 2.98775254e+08 3.01871568e+08 3.04936474e+08 3.07970911e+08\n",
      " 3.10975769e+08 3.13951899e+08 3.16900109e+08 3.19821173e+08\n",
      " 3.22715826e+08 3.25584773e+08 3.28428689e+08 3.31248217e+08\n",
      " 3.34043976e+08 3.36816557e+08 3.39566527e+08 3.42294433e+08\n",
      " 3.45000797e+08 3.47686122e+08 3.50350892e+08 3.52995573e+08\n",
      " 3.55620613e+08 3.58226443e+08 3.60813480e+08 1.19420907e+13\n",
      " 3.65932766e+08 3.68465776e+08 3.70981516e+08 3.73480336e+08\n",
      " 3.75962573e+08 3.78428553e+08 3.80878592e+08 3.83312996e+08\n",
      " 3.85732060e+08 3.88136072e+08 3.90525309e+08 3.92900041e+08\n",
      " 1.29893174e+13 3.97607029e+08 3.99939784e+08 4.02259034e+08\n",
      " 4.04565013e+08 4.06857944e+08 4.09138049e+08 4.11405539e+08\n",
      " 4.13660623e+08 4.15903502e+08 4.18134373e+08 4.20353426e+08\n",
      " 4.22560849e+08 4.24756822e+08 4.26941522e+08 4.29115121e+08\n",
      " 4.31277787e+08 4.33429684e+08 4.35570972e+08 4.37701805e+08\n",
      " 4.39822336e+08 4.41932714e+08 4.44033082e+08 4.46123583e+08\n",
      " 4.48204355e+08 4.50275532e+08]\n",
      "[0.         0.0854571  0.12096455 0.12150118 0.1071516  0.08461463\n",
      " 0.06405111 0.04895244 0.03993601 0.03531298 0.03435913 0.0352885\n",
      " 0.03768378 0.03964711 0.03980096 0.03760632 0.03398092 0.02927962\n",
      " 0.90098856 0.85696471 0.79551221 0.72317108 0.64540115 0.56730711\n",
      " 0.49762615 0.42836957 0.36171726 0.30354426 0.25462185 0.21430411\n",
      " 0.1861639  0.16709805 0.15637334 0.15195589 0.15177375 0.15351595\n",
      " 0.15593158 0.15804231 0.15894393 0.15916779 0.15911426 0.15843442\n",
      " 0.15691105 0.15453472 0.15082337 0.14622546 0.14056231 0.13347126\n",
      " 0.12547612 0.11747543 0.10907796 0.10018246 0.09144773 0.08301539\n",
      " 0.07508491 0.06807212 0.0617726  0.05630302 0.05136567 0.04701676\n",
      " 0.04322335 0.03995134 0.03704928 0.0344845  0.03223321 0.03019709\n",
      " 0.02820367 0.02631303 0.02454223 0.02283131 0.02123397 0.01980599\n",
      " 0.01850147 0.0173804  0.016293   0.01529199 0.01459809 0.01414586\n",
      " 0.01392989 0.01378664 0.01385826 0.01423021 0.01481096 0.01541118\n",
      " 0.01600549 0.0167092  0.01737636 0.01803439 0.01865688 0.01917736\n",
      " 0.01964346 0.02001411 0.0202694  0.02042589 0.02051874 0.02050856\n",
      " 0.02039525 0.02026893 0.02004338 0.01969138 0.01930441 0.01886881\n",
      " 0.0183777  0.01785616 0.01729359 0.01667026 0.0160223  0.01534798\n",
      " 0.01464688 0.01394731]\n"
     ]
    }
   ],
   "source": [
    "print(velocs)\n",
    "print(velocs_rotmod)"
   ]
  }
 ],
 "metadata": {
  "kernelspec": {
   "display_name": "Python 3",
   "language": "python",
   "name": "python3"
  },
  "language_info": {
   "codemirror_mode": {
    "name": "ipython",
    "version": 3
   },
   "file_extension": ".py",
   "mimetype": "text/x-python",
   "name": "python",
   "nbconvert_exporter": "python",
   "pygments_lexer": "ipython3",
   "version": "3.7.1"
  }
 },
 "nbformat": 4,
 "nbformat_minor": 4
}
