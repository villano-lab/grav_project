{
 "cells": [
  {
   "cell_type": "code",
   "execution_count": 1,
   "metadata": {},
   "outputs": [],
   "source": [
    "#Imports\n",
    "\n",
    "import numpy as np\n",
    "import matplotlib.pyplot as plt\n",
    "import scipy.optimize as opt\n",
    "import lmfit as lm\n",
    "import sys\n",
    "sys.path.append('../python')\n",
    "import dataPython as dp\n",
    "import scipy.interpolate as inter\n",
    "import NGC5533_functions as nf\n",
    "from datetime import datetime\n",
    "import scipy.integrate as si\n",
    "#import noordermeer as noord\n",
    "import time"
   ]
  },
  {
   "cell_type": "code",
   "execution_count": 2,
   "metadata": {},
   "outputs": [
    {
     "name": "stdout",
     "output_type": "stream",
     "text": [
      "18\n"
     ]
    },
    {
     "ename": "NameError",
     "evalue": "name 'thn_d' is not defined",
     "output_type": "error",
     "traceback": [
      "\u001b[1;31m---------------------------------------------------------------------------\u001b[0m",
      "\u001b[1;31mNameError\u001b[0m                                 Traceback (most recent call last)",
      "\u001b[1;32m<ipython-input-2-f7e83295000a>\u001b[0m in \u001b[0;36m<module>\u001b[1;34m\u001b[0m\n\u001b[0;32m     30\u001b[0m \u001b[1;33m\u001b[0m\u001b[0m\n\u001b[0;32m     31\u001b[0m \u001b[0mprint\u001b[0m\u001b[1;33m(\u001b[0m\u001b[0mlen\u001b[0m\u001b[1;33m(\u001b[0m\u001b[0mr\u001b[0m\u001b[1;33m)\u001b[0m\u001b[1;33m)\u001b[0m\u001b[1;33m\u001b[0m\u001b[1;33m\u001b[0m\u001b[0m\n\u001b[1;32m---> 32\u001b[1;33m \u001b[0mprint\u001b[0m\u001b[1;33m(\u001b[0m\u001b[0mlen\u001b[0m\u001b[1;33m(\u001b[0m\u001b[0mthn_d\u001b[0m\u001b[1;33m)\u001b[0m\u001b[1;33m)\u001b[0m\u001b[1;33m\u001b[0m\u001b[1;33m\u001b[0m\u001b[0m\n\u001b[0m\u001b[0;32m     33\u001b[0m \u001b[1;31m#print(len(g))\u001b[0m\u001b[1;33m\u001b[0m\u001b[1;33m\u001b[0m\u001b[1;33m\u001b[0m\u001b[0m\n\u001b[0;32m     34\u001b[0m \u001b[0mprint\u001b[0m\u001b[1;33m(\u001b[0m\u001b[0mlen\u001b[0m\u001b[1;33m(\u001b[0m\u001b[0mb\u001b[0m\u001b[1;33m)\u001b[0m\u001b[1;33m)\u001b[0m\u001b[1;33m\u001b[0m\u001b[1;33m\u001b[0m\u001b[0m\n",
      "\u001b[1;31mNameError\u001b[0m: name 'thn_d' is not defined"
     ]
    }
   ],
   "source": [
    "#importing text files\n",
    "#there's no need to import the radius for each component\n",
    "#data:\n",
    "\n",
    "\n",
    "\n",
    "data = dp.getXYdata_wXYerr('891_data')\n",
    "r = np.asarray(data['xx'])\n",
    "v_dat = np.asarray(data['yy'])\n",
    "v_err1 = np.asarray(data['ey'])\n",
    "\n",
    "#bulge\n",
    "bulge = dp.getXYZdata('891_bulge.dat')\n",
    "b = np.asarray(bulge['zz'])\n",
    "\n",
    "#disk\n",
    "thn_disk = dp.getXYZdata('891_thinDiskII')\n",
    "d= np.asarray(thn_disk['zz'])\n",
    "thk_disk = dp.getXYZdata('891_thickDisk2')\n",
    "thk_d = np.asarray(thk_disk['zz'])\n",
    "#d = np.add(thn_d,thk_d)\n",
    "\n",
    "#bulge\n",
    "thn_gas = dp.getXYZdata('891_thinGas.dat')\n",
    "g = np.asarray(thn_gas['zz'])\n",
    "thk_gas = dp.getXYZdata('891_thickGas.dat')\n",
    "thk_g = np.asarray(thk_gas['zz'])\n",
    "#g = np.add(thn_g,thk_g)\n",
    "\n",
    "\n",
    "print(len(r))\n",
    "print(len(thn_d))\n",
    "#print(len(g))\n",
    "print(len(b))"
   ]
  },
  {
   "cell_type": "code",
   "execution_count": null,
   "metadata": {},
   "outputs": [],
   "source": [
    "thnDiskLum = np.asarray(thn_disk['yy'])\n",
    "thkDiskLum = np.asarray(thk_disk['yy'])\n",
    "totalDiskLum = np.add(thnDiskLum,thkDiskLum)\n",
    "\n",
    "plt.figure(figsize=(12,8))\n",
    "plt.plot(r,thnDiskLum,'c')\n",
    "plt.plot(r,thkDiskLum, 'm')\n",
    "plt.plot(r,totalDiskLum, 'r')"
   ]
  },
  {
   "cell_type": "code",
   "execution_count": null,
   "metadata": {},
   "outputs": [],
   "source": [
    "def t(r,B,D,rc,tho00,G):\n",
    "    t_ =  np.sqrt((D*d)**2+(B*b)**2+(nf.h_v(r,rc,rho00))**2+(G*g)**2) \n",
    "    return(t_)\n",
    "#In 7814 code this^ is G*b\n",
    "\n",
    "plt.figure(figsize=(12,8))\n",
    "plt.plot(r,g,'c',label = 'gas unfitted')\n",
    "plt.plot(r,d,'m',label = 'disk unfitted')\n",
    "plt.plot(r,b,'r',label = 'bulge unfitted')\n",
    "\n",
    "plt.figure(figsize=(11,7))\n",
    "plt.errorbar(r,v_dat,yerr=v_err1,fmt='bo',label='Data')\n",
    "plt.plot(r,bestg,'k',label='Total Fit')\n",
    "plt.plot(r,g_b*b,'r',label='Fitted Bulge')\n",
    "plt.plot(r,g_g*g,'c',label='Static Gas')\n",
    "plt.plot(r,halo_curve,'g',label='Fitted Halo')\n",
    "plt.plot(r,g_d*d,'m',label='Fitted Disk')\n",
    "\n",
    "plt.legend(loc='lower right')\n",
    "plt.xlabel('r (kpc)')\n",
    "plt.ylabel('v (km/s)')\n",
    "plt.title('NGC7814 Fitted')\n",
    "plt.ylim([0,260])\n",
    "plt.xlim([0,20])\n",
    "plt.show()"
   ]
  },
  {
   "cell_type": "code",
   "execution_count": null,
   "metadata": {},
   "outputs": [],
   "source": []
  }
 ],
 "metadata": {
  "kernelspec": {
   "display_name": "Python 3",
   "language": "python",
   "name": "python3"
  },
  "language_info": {
   "codemirror_mode": {
    "name": "ipython",
    "version": 3
   },
   "file_extension": ".py",
   "mimetype": "text/x-python",
   "name": "python",
   "nbconvert_exporter": "python",
   "pygments_lexer": "ipython3",
   "version": "3.8.5"
  }
 },
 "nbformat": 4,
 "nbformat_minor": 4
}
