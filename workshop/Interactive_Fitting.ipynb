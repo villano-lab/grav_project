{
 "cells": [
  {
   "cell_type": "code",
   "execution_count": 1,
   "metadata": {},
   "outputs": [],
   "source": [
    "import sys\n",
    "sys.path.append('python/')\n",
    "\n",
    "import time\n",
    "startTime = time.time()\n",
    "\n",
    "import numpy as np\n",
    "import matplotlib.pyplot as plt \n",
    "import load_galaxies as lg\n",
    "import matplotlib.image as mpimg\n",
    "import lmfit as lm"
   ]
  },
  {
   "cell_type": "markdown",
   "metadata": {},
   "source": [
    "## Import data"
   ]
  },
  {
   "cell_type": "code",
   "execution_count": 2,
   "metadata": {},
   "outputs": [],
   "source": [
    "galaxy = lg.NGC5533                  # Change this value to select which galaxy you want\n",
    "\n",
    "# Measured data\n",
    "measured_data = galaxy['measured_data']\n",
    "\n",
    "# Separate the columns into arrays\n",
    "m_radii = galaxy['m_radii']\n",
    "m_velocities = galaxy['m_velocities']\n",
    "m_r_errors = galaxy['m_r_errors']\n",
    "m_v_errors = galaxy['m_v_errors']    # Errors in velocity\n",
    "\n",
    "# Central black hole\n",
    "massbh = 2.7e9                      # Mass of the central black hole in (solar mass)\n",
    "G = 4.300e-6                        # Gravitational constant (kpc/solar mass*(km/s)^2)\n",
    "def blackhole_v(r,massbh):\n",
    "    return np.sqrt((G*massbh)/r)\n",
    "\n",
    "# Bulge\n",
    "bulge_v = galaxy['bulge']['spline']\n",
    "# Disk\n",
    "disk_v = galaxy['disk']['spline']\n",
    "# Gas\n",
    "gas_v = galaxy['gas']['spline']\n",
    "# Dark matter halo\n",
    "halo_v = galaxy['halo']['spline']\n",
    "# Total velocity\n",
    "total_v = galaxy['total']['spline']"
   ]
  },
  {
   "cell_type": "markdown",
   "metadata": {},
   "source": [
    "## Define some values"
   ]
  },
  {
   "cell_type": "code",
   "execution_count": 3,
   "metadata": {},
   "outputs": [],
   "source": [
    "# Express weight\n",
    "weighdata = 1/m_v_errors\n",
    "\n",
    "# Define function for total velocity with prefactors\n",
    "def total_v_pref(r,massbh,bpref,dpref,gpref,hpref):\n",
    "    return np.sqrt(blackhole_v(r,massbh)**2\n",
    "                   + (bpref*bulge_v(r))**2 \n",
    "                   + (dpref*disk_v(r))**2 \n",
    "                   + (gpref*gas_v(r))**2\n",
    "                   + (hpref*halo_v(r))**2)"
   ]
  },
  {
   "cell_type": "markdown",
   "metadata": {},
   "source": [
    "## Fitting parameters"
   ]
  },
  {
   "cell_type": "code",
   "execution_count": 4,
   "metadata": {},
   "outputs": [],
   "source": [
    "# Setup\n",
    "f_mod = lm.Model(total_v_pref)\n",
    "f_params = f_mod.make_params()\n",
    "\n",
    "# Halo\n",
    "f_params.add('hpref',    vary=True,    value=1,   min=0.1)      # halo prefactor\n",
    "#f_params.add('rc',      vary=True,     value=rc,   min=0.1)         # core radius (kpc)\n",
    "#f_params.add('rho0',    vary=True,     value=rho0, min=0)           # central halo density (units)\n",
    "\n",
    "# Black Hole\n",
    "f_params.add('massbh',  vary=False,    value=massbh, min=1.0e8)   # mass of central black hole\n",
    "\n",
    "# Bulge\n",
    "f_params.add('bpref',   vary=False,    value=1,   min=0,max=100)  # bulge prefactor\n",
    "\n",
    "# Disk\n",
    "f_params.add('dpref',   vary=False,    value=1,   min=0,max=100)  # disk prefactor\n",
    "\n",
    "# Gas\n",
    "f_params.add('gpref',   vary=False,    value=1,   min=.8,max=1.2) # gas prefactor"
   ]
  },
  {
   "cell_type": "markdown",
   "metadata": {},
   "source": [
    "## Do the fitting"
   ]
  },
  {
   "cell_type": "code",
   "execution_count": 5,
   "metadata": {},
   "outputs": [],
   "source": [
    "f_fit = f_mod.fit(m_velocities,f_params,r=m_radii,weights=weighdata)"
   ]
  },
  {
   "cell_type": "markdown",
   "metadata": {},
   "source": [
    "## Define parameters for plotting"
   ]
  },
  {
   "cell_type": "code",
   "execution_count": 6,
   "metadata": {},
   "outputs": [],
   "source": [
    "bestf = f_fit.best_fit\n",
    "\n",
    "# Radius\n",
    "r = np.linspace(0.01,100,100)        # starting from zero results in a divide by zero error\n",
    "\n",
    "f_dict = f_fit.best_values\n",
    "f_hpref = f_dict['hpref']\n",
    "#f_rc = f_dict['rc']\n",
    "#f_rho0 = f_dict['rho0']\n",
    "f_massbh = f_dict['massbh']\n",
    "f_bpref = f_dict['bpref']\n",
    "f_dpref = f_dict['dpref']\n",
    "f_gpref = f_dict['gpref']\n",
    "\n",
    "f_curve = total_v_pref(r,f_massbh,f_bpref,f_dpref,f_gpref,f_hpref)"
   ]
  },
  {
   "cell_type": "markdown",
   "metadata": {},
   "source": [
    "## Plot result"
   ]
  },
  {
   "cell_type": "code",
   "execution_count": null,
   "metadata": {},
   "outputs": [],
   "source": []
  },
  {
   "cell_type": "markdown",
   "metadata": {},
   "source": [
    "## Calculate the total mass of the dark matter (bonus)"
   ]
  },
  {
   "cell_type": "code",
   "execution_count": 7,
   "metadata": {},
   "outputs": [],
   "source": [
    "# Equation for isothermal density\n",
    "\n",
    "# Equation for mass as a function of radius\n",
    "\n",
    "# Total mass\n"
   ]
  },
  {
   "cell_type": "code",
   "execution_count": 8,
   "metadata": {},
   "outputs": [
    {
     "name": "stdout",
     "output_type": "stream",
     "text": [
      "Execution time: 0.02 minutes\n"
     ]
    }
   ],
   "source": [
    "# Time\n",
    "executionTime = (time.time() - startTime)\n",
    "ttt=executionTime/60\n",
    "print(f'Execution time: {ttt:.2f} minutes')"
   ]
  },
  {
   "cell_type": "markdown",
   "metadata": {},
   "source": [
    "# References <br>\n",
    ">Casertano, Stefano. __\"Rotation curve of the edge-on spiral galaxy NGC 5907: disc and halo masses.\"__ _Monthly Notices of the Royal Astronomical Society_ 203, no. 3 (1983): 735-747.<br><br>\n",
    ">Jimenez, Raul, Licia Verde, and S. Peng Oh. __\"Dark halo properties from rotation curves.\"__ _Monthly Notices of the Royal Astronomical Society_ 339, no. 1 (2003): 243-259.<br><br>\n",
    ">Karukes, E. V., P. Salucci, and Gianfranco Gentile. __\"The dark matter distribution in the spiral NGC 3198 out to 0.22 $R_{vir}$.\"__ _Astronomy & Astrophysics_ 578 (2015): A13.<br><br>\n",
    ">Noordermeer, Edo. __\"The rotation curves of flattened Sérsic bulges.\"__ _Monthly Notices of the Royal Astronomical Society_ 385, no. 3 (2007): 1359-1364.\n",
    "***"
   ]
  }
 ],
 "metadata": {
  "kernelspec": {
   "display_name": "Python 3",
   "language": "python",
   "name": "python3"
  },
  "language_info": {
   "codemirror_mode": {
    "name": "ipython",
    "version": 3
   },
   "file_extension": ".py",
   "mimetype": "text/x-python",
   "name": "python",
   "nbconvert_exporter": "python",
   "pygments_lexer": "ipython3",
   "version": "3.7.1"
  }
 },
 "nbformat": 4,
 "nbformat_minor": 2
}
