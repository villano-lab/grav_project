{
 "cells": [
  {
   "cell_type": "code",
   "execution_count": 1,
   "metadata": {},
   "outputs": [],
   "source": [
    "import sys\n",
    "sys.path.append('python/')\n",
    "\n",
    "import time\n",
    "startTime = time.time()\n",
    "\n",
    "import numpy as np\n",
    "import matplotlib.pyplot as plt \n",
    "import load_galaxies as lg\n",
    "import matplotlib.image as mpimg\n",
    "import lmfit as lm"
   ]
  },
  {
   "cell_type": "markdown",
   "metadata": {},
   "source": [
    "_Python help: Running the notebook the first time, make sure to run all cells to be able to make changes in the notebook. Hit Shift+Enter to run the cell or click on the top menu: Kernel > Restart & Run All > Restart and Run All Cells to rerun the whole notebook. If you make any changes in a cell, rerun that cell._"
   ]
  },
  {
   "cell_type": "markdown",
   "metadata": {},
   "source": [
    "# Fitting"
   ]
  },
  {
   "cell_type": "markdown",
   "metadata": {},
   "source": [
    "In this notebook, you can select one of four galaxies, import the prepared curves of all components and find the scaling factors by fitting them to the measured data points. The dark matter component has two free parameters: one that changes the amplitude of the curve (rho0 - central mass density) and the other that changes the shape of the curve (rc - core radius). Let's import all the data and curves, and define some functions for the fitting. "
   ]
  },
  {
   "cell_type": "markdown",
   "metadata": {},
   "source": [
    "## Choose your galaxy"
   ]
  },
  {
   "cell_type": "code",
   "execution_count": 2,
   "metadata": {},
   "outputs": [],
   "source": [
    "galaxy = lg.NGC5533                  # Choose between NGC5533, NGC891, NGC7814 and NGC5005 galaxies"
   ]
  },
  {
   "cell_type": "markdown",
   "metadata": {},
   "source": [
    "## Import data and curves"
   ]
  },
  {
   "cell_type": "code",
   "execution_count": 3,
   "metadata": {},
   "outputs": [],
   "source": [
    "# Measured data\n",
    "measured_data = galaxy['measured_data']\n",
    "\n",
    "# Separate the columns into arrays\n",
    "m_radii = galaxy['m_radii']\n",
    "m_velocities = galaxy['m_velocities']\n",
    "m_r_errors = galaxy['m_r_errors']\n",
    "m_v_errors = galaxy['m_v_errors']    # Errors in velocity\n",
    "\n",
    "# Velocity equation for the central supermassive black hole\n",
    "massbh = galaxy['massbh']            # Mass of the central black hole in (solar mass)\n",
    "G = 4.300e-6                         # Gravitational constant (kpc/solar mass*(km/s)^2)\n",
    "def blackhole_v(r,massbh):\n",
    "    return np.sqrt((G*massbh)/r)\n",
    "\n",
    "# Import curves of each component\n",
    "# Bulge\n",
    "bulge_v = galaxy['bulge']['spline']\n",
    "# Disk\n",
    "disk_v = galaxy['disk']['spline']\n",
    "# Gas\n",
    "gas_v = galaxy['gas']['spline']"
   ]
  },
  {
   "cell_type": "markdown",
   "metadata": {},
   "source": [
    "## Calculate dark matter halo component"
   ]
  },
  {
   "cell_type": "code",
   "execution_count": 4,
   "metadata": {},
   "outputs": [],
   "source": [
    "# Set parameters\n",
    "rho0 = galaxy['rho0']   # central mass density (in solar mass/kpc^3)\n",
    "rc = galaxy['rc']       # core radius (in kpc)\n",
    "\n",
    "# Equation for dark matter halo velocity\n",
    "def halo_v(r,rho0,rc):\n",
    "    v = np.sqrt(4*np.pi*G*rho0*rc**2*(1 - rc/r * np.arctan(r/rc)))\n",
    "    return v"
   ]
  },
  {
   "cell_type": "markdown",
   "metadata": {},
   "source": [
    "## Define some values and functions"
   ]
  },
  {
   "cell_type": "code",
   "execution_count": 5,
   "metadata": {},
   "outputs": [],
   "source": [
    "# Express weight\n",
    "weighdata = 1/m_v_errors\n",
    "\n",
    "\"\"\"# Define function for total velocity with prefactors\n",
    "def total_v_pref(r,massbh,bpref,dpref,gpref,hpref):\n",
    "    return np.sqrt(blackhole_v(r,massbh)**2\n",
    "                   + (bpref*bulge_v(r))**2 \n",
    "                   + (dpref*disk_v(r))**2 \n",
    "                   + (gpref*gas_v(r))**2\n",
    "                   + (hpref*halo_v(r))**2)\"\"\"\n",
    "\n",
    "# Define function for total velocity with prefactors (scaling parameters)\n",
    "def total_v_pref(r,massbh,bpref,dpref,gpref,rho0,rc):\n",
    "    return np.sqrt(blackhole_v(r,massbh)**2\n",
    "                   + (bpref*bulge_v(r))**2 \n",
    "                   + (dpref*disk_v(r))**2 \n",
    "                   + (gpref*gas_v(r))**2\n",
    "                   + (halo_v(r,rho0,rc)**2))\n",
    "\n",
    "# Define function for total velocity with prefactors (scaling parameters), with no dark matter\n",
    "def total_v_pref_noDM(r,massbh,bpref,dpref,gpref):\n",
    "    return np.sqrt(blackhole_v(r,massbh)**2\n",
    "                   + (bpref*bulge_v(r))**2 \n",
    "                   + (dpref*disk_v(r))**2 \n",
    "                   + (gpref*gas_v(r))**2)"
   ]
  },
  {
   "cell_type": "markdown",
   "metadata": {},
   "source": [
    "## Fitting parameters"
   ]
  },
  {
   "cell_type": "markdown",
   "metadata": {},
   "source": [
    "1. Parameters can be varied during the fit. __Turn these off and on by changing 'vary=True' to 'vary=False' or 'vary=False' to 'vary=True' to see how your results of the fit change.__<br><br>\n",
    "\n",
    "2. __Now, use the total velocity equation without dark matter (total_v_pref_noDM equation) and find the fitting parameters. You can comment out (put a # in front of) the lines: \"f_params.add('rc'...\" and \"f_params.add('rho0'...\" so it won't confuse you.__ <br>\n",
    "_Python help: to use a different equation for the fitting, change the line: f_\\__mod = lm.Model(equation)._"
   ]
  },
  {
   "cell_type": "code",
   "execution_count": 6,
   "metadata": {},
   "outputs": [],
   "source": [
    "# Setup \n",
    "f_mod = lm.Model(total_v_pref)\n",
    "#f_mod = lm.Model(total_v_pref_noDM)\n",
    "f_params = f_mod.make_params()\n",
    "\n",
    "# Halo\n",
    "#f_params.add('hpref',    vary=True,    value=1,   min=0.1)       # halo prefactor\n",
    "f_params.add('rc',      vary=True,     value=rc,   min=0.1)       # core radius (kpc)\n",
    "f_params.add('rho0',    vary=True,     value=rho0, min=0)         # central halo density (solar mass/kpc^3)\n",
    "\n",
    "# Black Hole\n",
    "f_params.add('massbh',  vary=True,    value=massbh, min=1.0e8)   # mass of central black hole\n",
    "\n",
    "# Bulge\n",
    "f_params.add('bpref',   vary=True,    value=1,   min=0,max=100)  # bulge prefactor\n",
    "\n",
    "# Disk\n",
    "f_params.add('dpref',   vary=True,    value=1,   min=0,max=100)  # disk prefactor\n",
    "\n",
    "# Gas\n",
    "f_params.add('gpref',   vary=True,    value=1,   min=.8,max=1.2) # gas prefactor"
   ]
  },
  {
   "cell_type": "markdown",
   "metadata": {},
   "source": [
    "## Do the fitting"
   ]
  },
  {
   "cell_type": "markdown",
   "metadata": {},
   "source": [
    "Let Python calculate the fitting parameters and display the fit statistics. Examine the results for the values of each variable. "
   ]
  },
  {
   "cell_type": "code",
   "execution_count": 7,
   "metadata": {},
   "outputs": [
    {
     "data": {
      "text/html": [
       "<h2> Model</h2> Model(total_v_pref) <h2>Fit Statistics</h2><table><tr><td>fitting method</td><td>leastsq</td><td></td></tr><tr><td># function evals</td><td>963</td><td></td></tr><tr><td># data points</td><td>69</td><td></td></tr><tr><td># variables</td><td>6</td><td></td></tr><tr><td>chi-square</td><td> 310.709899</td><td></td></tr><tr><td>reduced chi-square</td><td> 4.93190317</td><td></td></tr><tr><td>Akaike info crit.</td><td> 115.827969</td><td></td></tr><tr><td>Bayesian info crit.</td><td> 129.232608</td><td></td></tr></table><h2>Variables</h2><table><tr><th> name </th><th> value </th><th> standard error </th><th> relative error </th><th> initial value </th><th> min </th><th> max </th><th> vary </th></tr><tr><td> massbh </td><td>  1.5311e+09 </td><td>  3.7011e+09 </td><td> 241.72% </td><td> 2700000000.0 </td><td>  1.0000e+08 </td><td>         inf </td><td> True </td></tr><tr><td> bpref </td><td>  1.02202504 </td><td>  0.30669516 </td><td> 30.01% </td><td> 1 </td><td>  0.00000000 </td><td>  100.000000 </td><td> True </td></tr><tr><td> dpref </td><td>  0.89870978 </td><td>  0.07919624 </td><td> 8.81% </td><td> 1 </td><td>  0.00000000 </td><td>  100.000000 </td><td> True </td></tr><tr><td> gpref </td><td>  0.80000000 </td><td>  1.38349053 </td><td> 172.94% </td><td> 1 </td><td>  0.80000000 </td><td>  1.20000000 </td><td> True </td></tr><tr><td> rho0 </td><td>  3.5264e+08 </td><td>  1.4519e+09 </td><td> 411.71% </td><td> 310000000.0 </td><td>  0.00000000 </td><td>         inf </td><td> True </td></tr><tr><td> rc </td><td>  1.48858012 </td><td>  3.11663520 </td><td> 209.37% </td><td> 1.4 </td><td>  0.10000000 </td><td>         inf </td><td> True </td></tr></table><h2>Correlations (unreported correlations are < 0.100)</h2><table><tr><td>rho0</td><td>rc</td><td>-0.9986</td></tr><tr><td>bpref</td><td>rho0</td><td>-0.9880</td></tr><tr><td>bpref</td><td>rc</td><td>0.9801</td></tr><tr><td>massbh</td><td>bpref</td><td>-0.8893</td></tr><tr><td>massbh</td><td>rho0</td><td>0.8314</td></tr><tr><td>massbh</td><td>rc</td><td>-0.8175</td></tr><tr><td>dpref</td><td>gpref</td><td>-0.7433</td></tr><tr><td>gpref</td><td>rc</td><td>0.2950</td></tr><tr><td>gpref</td><td>rho0</td><td>-0.2451</td></tr><tr><td>dpref</td><td>rc</td><td>-0.2106</td></tr><tr><td>dpref</td><td>rho0</td><td>0.1678</td></tr><tr><td>bpref</td><td>gpref</td><td>0.1176</td></tr></table>"
      ],
      "text/plain": [
       "<lmfit.model.ModelResult at 0x22614958908>"
      ]
     },
     "execution_count": 7,
     "metadata": {},
     "output_type": "execute_result"
    }
   ],
   "source": [
    "f_fit = f_mod.fit(m_velocities,f_params,r=m_radii,weights=weighdata)\n",
    "\n",
    "# Show fit statistics\n",
    "f_fit"
   ]
  },
  {
   "cell_type": "markdown",
   "metadata": {},
   "source": [
    "### Chi-square $\\chi^2$:\n",
    "\n",
    "The chi-squared value is an indication of the goodness of your fit or how well the observed and expected data agree. A zero chi-squared value would mean a perfect fit (data points connected with a line) which would mean a nonphysical system and is highly unlikely. The expected value of chi-squared is the number of degrees of freedom or \"the number of observed points minus the number of parameters computed from the data and used in the calculation\" (Taylor, 1997).\n",
    "\n",
    "\n",
    "### Reduced chi-square\n",
    "The reduced chi-squared value is the chi-squared value divided by the degree of freedom. In general, we would want this value to be close to 1 to be a good fit. "
   ]
  },
  {
   "cell_type": "markdown",
   "metadata": {},
   "source": [
    "## Define parameters for plotting"
   ]
  },
  {
   "cell_type": "code",
   "execution_count": 8,
   "metadata": {},
   "outputs": [],
   "source": [
    "# Define curve of the best fit\n",
    "bestf = f_fit.best_fit\n",
    "\n",
    "# Radius\n",
    "r_lowerlim = np.min(m_radii)                       # limit the radius to the min value of the measured radius\n",
    "r_upperlim = np.max(m_radii)                       # limit the radius to the max value of the measured radius\n",
    "r = np.linspace(r_lowerlim,r_upperlim,100)         # starting from zero results in a divide by zero error"
   ]
  },
  {
   "cell_type": "markdown",
   "metadata": {},
   "source": [
    "## Plot result"
   ]
  },
  {
   "cell_type": "markdown",
   "metadata": {},
   "source": [
    "1. __Zoom into the graph by changing the limits of the x-axis to see how well the total curve lines up with the measured points.__"
   ]
  },
  {
   "cell_type": "code",
   "execution_count": 9,
   "metadata": {},
   "outputs": [
    {
     "data": {
      "image/png": "[encoded data removed]",
      "text/plain": [
       "<Figure size 720x504 with 1 Axes>"
      ]
     },
     "metadata": {
      "needs_background": "light"
     },
     "output_type": "display_data"
    }
   ],
   "source": [
    "plt.figure(figsize=(10.0,7.0))                                     # size of the plot\n",
    "plt.title('{} Fitting'.format(galaxy['galaxyname']), fontsize=14)  # giving the plot a title\n",
    "plt.xlabel('Radius (kpc)', fontsize=12)                            # labeling the x-axis\n",
    "plt.ylabel('Velocity (km/s)', fontsize=12)                         # labeling the y-axis\n",
    "plt.xlim(0,r_upperlim)                                             # limits of the x-axis\n",
    "plt.ylim(0,350)                                                    # limits of the y-axis\n",
    "\n",
    "plt.errorbar(m_radii,m_velocities,yerr=m_v_errors,fmt='bo')        # plot measured data points\n",
    "plt.plot(m_radii,bestf, color='r', label='Best fit')               # plot the best fit to the data points\n",
    "plt.plot(m_radii,total_v_pref(m_radii,massbh=massbh,bpref=1,dpref=1,gpref=1,rho0=rho0,rc=rc), \\\n",
    "         color='darkviolet', label='Total curve before fitting')   \n",
    "plt.plot(m_radii,total_v_pref_noDM(m_radii,massbh=massbh,bpref=1,dpref=1,gpref=1), \\\n",
    "         color='gold', label='Total curve before fitting - without dark matter')\n",
    "\n",
    "plt.legend(loc=\"lower right\")\n",
    "plt.show()"
   ]
  },
  {
   "cell_type": "markdown",
   "metadata": {},
   "source": [
    "## Bonus: Calculate the total mass of the dark matter"
   ]
  },
  {
   "cell_type": "markdown",
   "metadata": {},
   "source": [
    "1. __Using the equation for the Mass as a function of radius, $M(r)$ from the Interactive_Rotation_Curve_Plotting notebook, calculate the total mass enclosed within the given radius. For the mass density, $\\rho (r)$ function, use either the isothermal or the NFW density distribution.__ <br><br>\n",
    "\n",
    "2. __Change the radius to see how much the total mass of the dark matter changes.__<br>\n",
    "_Python help: Modify the radius by changing the line: radius = 25_"
   ]
  },
  {
   "cell_type": "code",
   "execution_count": 10,
   "metadata": {},
   "outputs": [
    {
     "name": "stdout",
     "output_type": "stream",
     "text": [
      "Total mass of the dark matter between 0 and 25 kpc is 1.747e+11 solar masses.\n"
     ]
    }
   ],
   "source": [
    "import scipy.integrate as si             # for integration\n",
    "\n",
    "# Equation for isothermal density\n",
    "def density_iso(r,rho0,rc):\n",
    "    density = rho0 * (1 + (r/rc)**2)**(-1)\n",
    "    return density\n",
    "\n",
    "# Equation for NFW density\n",
    "def density_nfw(r,rho0,rc):\n",
    "    density = rho0 * ((r/rc) * ((1+r/rc)**2))**(-1)\n",
    "    return density\n",
    "\n",
    "# Equation for mass as a function of radius\n",
    "def mass_function(r,rho0,rc):\n",
    "    mass = 4 * np.pi * density_iso(r,rho0,rc) * r**2\n",
    "    return mass\n",
    "\n",
    "# Integrate to calculate total mass enclosed\n",
    "totalmass = lambda r,rho0,rc: si.quad(mass_function, 0, r, args=(rho0,rc))[0]\n",
    "\n",
    "# Radius at which we are calculating the total mass enclosed\n",
    "radius = 25   # in kpc\n",
    "\n",
    "# Total mass\n",
    "print(\"Total mass of the dark matter between 0 and {} kpc is {:.3e} solar masses.\".format(radius,totalmass(radius,rho0,rc)))"
   ]
  },
  {
   "cell_type": "markdown",
   "metadata": {},
   "source": [
    "## Bonus: Difference between isothermal and NFW density profiles of the dark matter halo"
   ]
  },
  {
   "cell_type": "markdown",
   "metadata": {},
   "source": [
    "Examine the difference between the two density profiles for the dark matter halo."
   ]
  },
  {
   "cell_type": "code",
   "execution_count": 11,
   "metadata": {},
   "outputs": [
    {
     "data": {
      "image/png": "[encoded data removed]",
      "text/plain": [
       "<Figure size 720x504 with 1 Axes>"
      ]
     },
     "metadata": {
      "needs_background": "light"
     },
     "output_type": "display_data"
    }
   ],
   "source": [
    "plt.figure(figsize=(10.0,7.0))                            # size of the plot\n",
    "plt.plot(r,density_iso(r,rho0,rc), label='Isothermal density')\n",
    "plt.plot(r,density_nfw(r,rho0,rc), label='NFW density')\n",
    "plt.title('Density profiles of dark matter', fontsize=14) # giving the plot a title\n",
    "plt.xlabel('Radius (kpc)', fontsize=12)                   # labeling the x-axis\n",
    "plt.ylabel('Density (solar mass/$kpc^3$)', fontsize=12)                        # labeling the y-axis\n",
    "plt.xlim(0,10)                                            # limits of x-axis\n",
    "plt.ylim(0,1e8)                                           # limits of y-axis\n",
    "plt.legend(loc=\"upper right\")\n",
    "plt.show()"
   ]
  },
  {
   "cell_type": "code",
   "execution_count": 12,
   "metadata": {},
   "outputs": [
    {
     "name": "stdout",
     "output_type": "stream",
     "text": [
      "Execution time: 0.04 minutes\n"
     ]
    }
   ],
   "source": [
    "# Time\n",
    "executionTime = (time.time() - startTime)\n",
    "ttt=executionTime/60\n",
    "print(f'Execution time: {ttt:.2f} minutes')"
   ]
  },
  {
   "cell_type": "markdown",
   "metadata": {},
   "source": [
    "# References <br>\n",
    ">Casertano, Stefano. __\"Rotation curve of the edge-on spiral galaxy NGC 5907: disc and halo masses.\"__ _Monthly Notices of the Royal Astronomical Society_ 203, no. 3 (1983): 735-747. https://doi.org/10.1093/mnras/203.3.735. <br><br>\n",
    ">Fraternali, F., R. Sancisi, and P. Kamphuis. __“A Tale of Two Galaxies: Light and Mass in NGC 891 and NGC 7814.”__ Astronomy &amp; Astrophysics 531 (June 13, 2011). https://doi.org/10.1051/0004-6361/201116634.<br><br> \n",
    ">Jimenez, Raul, Licia Verde, and S. Peng Oh. __\"Dark halo properties from rotation curves.\"__ _Monthly Notices of the Royal Astronomical Society_ 339, no. 1 (2003): 243-259. https://doi.org/10.1046/j.1365-8711.2003.06165.x. <br><br>\n",
    ">Kapteyn Institute. (n.d.). Groningen Image Processing System. __GIPSY, the GRONINGEN image processing system.__ https://www.astro.rug.nl/~gipsy/index.html. <br><br>\n",
    ">Karukes, E. V., P. Salucci, and Gianfranco Gentile. __\"The dark matter distribution in the spiral NGC 3198 out to 0.22 $R_{vir}$.\"__ _Astronomy & Astrophysics_ 578 (2015): A13. https://doi.org/10.1051/0004-6361/201425339. <br><br>\n",
    ">Noordermeer, Edo. __\"The rotation curves of flattened Sérsic bulges.\"__ _Monthly Notices of the Royal Astronomical Society_ 385, no. 3 (2007): 1359-1364. https://doi.org/10.1111/j.1365-2966.2008.12837.x. <br><br>\n",
    ">Di&nbsp;Paolo, Chiara, Paolo Salucci, and Adnan Erkurt. __“The Universal Rotation Curve of Low Surface Brightness Galaxies – IV. The Interrelation Between Dark and Luminous Matter.”__ Monthly Notices of the Royal Astronomical Society 490, no. 4 (September 26, 2019): 5451–77. https://doi.org/10.1093/mnras/stz2700. <br><br>\n",
    ">Richards, Emily E., L. van Zee, K. L. Barnes, S. Staudaher, D. A. Dale, T. T. Braun, D. C. Wavle, et al. __“Baryonic Distributions in the Dark Matter Halo of NGC 5005.”__ Monthly Notices of the Royal Astronomical Society 449, no. 4 (June 1, 2015): 3981–96. https://doi.org/10.1093/mnras/stv568. <br><br>\n",
    ">Taylor, John Robert. __An Introduction to Error Analysis: The Study of Uncertainties in Physical Measurements.__ 2nd ed. United States of America: University Science Books, 1997. \n",
    "***"
   ]
  },
  {
   "cell_type": "code",
   "execution_count": null,
   "metadata": {},
   "outputs": [],
   "source": []
  }
 ],
 "metadata": {
  "kernelspec": {
   "display_name": "Python 3",
   "language": "python",
   "name": "python3"
  },
  "language_info": {
   "codemirror_mode": {
    "name": "ipython",
    "version": 3
   },
   "file_extension": ".py",
   "mimetype": "text/x-python",
   "name": "python",
   "nbconvert_exporter": "python",
   "pygments_lexer": "ipython3",
   "version": "3.7.1"
  }
 },
 "nbformat": 4,
 "nbformat_minor": 2
}
