{
 "cells": [
  {
   "cell_type": "markdown",
   "metadata": {},
   "source": [
    "## Introduction"
   ]
  },
  {
   "cell_type": "markdown",
   "metadata": {},
   "source": [
    "__What is a bulge?__ Dense, bulbous central region of a galaxy."
   ]
  },
  {
   "cell_type": "markdown",
   "metadata": {},
   "source": [
    "The theoretical bulge model was implemented from [Noordermeer (2008)](https://doi.org/10.1111/j.1365-2966.2008.12837.x). "
   ]
  },
  {
   "cell_type": "markdown",
   "metadata": {},
   "source": [
    "***\n",
    "## Equations\n",
    "\n",
    ">__Luminosity__: <br>\n",
    "    \\begin{equation}\n",
    "    I_b(\\kappa) = I_0 \\exp \\left[-\\left(\\frac{\\kappa}{r_0} \\right)^{\\frac{1}{n}}\\right]\n",
    "    \\end{equation}\n",
    "    <br>\n",
    ">where:<br>\n",
    "        $I_0$ = central surface brightness<br>\n",
    "        $n$ = concentration parameter<br> \n",
    "        $r_0$ = characteristic radius (related to $r_e$)<br>\n",
    "        $r_e$ = effective radius<br>\n",
    "<br>\n",
    ">__Gamma function__: <br>\n",
    "from Noordermeer's paper<br>\n",
    "    \\begin{equation}\n",
    "    \\gamma(b_n,2n) = \\frac{1}{2} \\Gamma(2n)\n",
    "    \\end{equation}<br>\n",
    "    \\begin{equation}\n",
    "    r_e = b_n^n r_0 b_n \n",
    "    \\end{equation}<br>\n",
    "from Anthony's calculations<br>\n",
    "    \\begin{equation}\n",
    "    \\gamma(n,u_e) = \\frac{1}{2} \\Gamma(n)\n",
    "    \\end{equation}<br>\n",
    "\n",
    ">__Velocity__: <br>\n",
    "    <font color=\"green\">\n",
    "    \\begin{equation}\n",
    "V_{B}^{2}(r) = C \\int_{m=0}^{r} \\left[\\int_{\\kappa=m}^{\\infty} \\frac {e^{-\\left(\\frac{\\kappa}{r_0}\\right)^{\\frac{1}{n}}} \\left(\\frac{\\kappa}{r_0}\\right)^{\\frac{1}{n-1}}} {\\sqrt{\\kappa^2-m^2}} d\\kappa\\right] \\times \\frac{m^{2}}{\\sqrt{r^{2}-m^{2}e^{2}}} dm\n",
    "    \\end{equation}<br></font>\n",
    ">where:<br>\n",
    "    \\begin{equation}\n",
    "    C = \\frac{4Gq\\Upsilon_b I_0}{r_0n} \\sqrt{sin^{2}i + \\frac{1}{q^{2}} cos^{2}i}\n",
    "    \\end{equation}<br>\n",
    "    \\begin{equation}\n",
    "    e = \\sqrt{1-q^{2}}\n",
    "    \\end{equation}<br> \n",
    "        $\\Upsilon_b$ = mass-to-light ratio<br>\n",
    "        $e$ = eccentricity of the bulge<br>\n",
    "        $q$ = intrinsic axis ratio<br> \n",
    "        $i$ = inclination angle<br> \n",
    "        $G$ = gravitational constant<br>\n",
    "    <br>\n",
    "***"
   ]
  },
  {
   "cell_type": "code",
   "execution_count": 1,
   "metadata": {},
   "outputs": [],
   "source": [
    "# Importing python libraries for our calculations\n",
    "import numpy as np                       # numpy library for basic calculations\n",
    "from matplotlib import pyplot as plt     # matplotlib library for plotting\n",
    "import scipy.integrate as si             # for integration\n",
    "import scipy.optimize as so             \n",
    "import scipy.special as ss"
   ]
  },
  {
   "cell_type": "markdown",
   "metadata": {},
   "source": [
    "## Parameters"
   ]
  },
  {
   "cell_type": "markdown",
   "metadata": {},
   "source": [
    "### Definition"
   ]
  },
  {
   "cell_type": "markdown",
   "metadata": {},
   "source": [
    "(explanation for each parameter, copied from our notes, need better/shorter explanations for each) <br><br>\n",
    "\n",
    "<b>Gravitational constant ($G$)</b>: empirical constant of the universal law of gravitation, converted to $kpc \\times(km/s)^{2}$ $/$ $M_{\\odot}$ to match all other units. <br><br>\n",
    "\n",
    "<b>Concentration parameter ($n$)</b>: as Noordermeer describes: _\"$n$ is a concentration parameter that describes the curvature of the profile in a radiusmagnitude plot\"_(pg.1361). In his original paper, he experiences with different values of $n$ but as mentioned earlier, he uses parameters from his other papers to plot the bulge. On pg.1500, Noordermeer's _The stellar mass distribution in early-type disc galaxies: surface photometry and bulge–disc decompositions_ paper lists $n$ = 2.7 for the  bulge concentration parameter of UGC 9133 galaxy (NGC 5533). <br><br>\n",
    "\n",
    "<b>Intrinsic axis ratio ($q$)</b>: _\"q [is] the intrinsic axis ratio of the bulge isodensity surfaces\"_ (Noordermeer, original paper, pg.1360). This parameter describes how flat a galaxy appears. The eccentricity can be calculated from this parameter: $e$ = $\\sqrt{1 - q^{2}}$. The _\"The stellar mass distribution in early-type disc galaxies\"_ paper and also the original paper mentions $q$ = 0.3 but the table of values in the same shows $q$ = 0.33 (could this be a type-o? and it is supposed to be just $q$ = 0.3?.. not a big deal but we want to be accurate.)\n",
    "- q=0.3 is reported only to one significant figure, which would make it consistent with q=0.33 (reported to two significant figures, but equivalent at one). I don't know why the value of q is reported to different levels of precision between the text and the table, but the values are not inconsistent.\n",
    "<br><br>\n",
    "\n",
    "<b>Characteristic radius ($r_0$) and Effective radius ($r_e$)</b>: As described earlier, _\"$r_0$ is the characteristic radius, which is related to the effective radius ($r_e$, the radius which encompasses 50 percent of the light) as $r_e$ = $b_{n}^{n}$ $r_0$ $b_n$ is a scaling constant that is defined such that it satisfies $\\gamma$($b_n$, 2n) = $^1/_2$$\\Gamma$(2n), with $\\gamma$ and $\\Gamma$ the incomplete and complete gamma functions, respectively.\"_<br>\n",
    "$r_e$ is 9.9 arcsec in Noordermeer's _\"The stellar mass distribution in early-type disc galaxies\"_ paper, and was converted to kpc using $D$ = 54.3 Mpc for the distance to the galaxy. The calculated value is: 2.6 kpc (see calculation below). <br><br>\n",
    "<b>Inclination angle ($i$)</b>: The inclination angle for NGC 5533 galaxy is $i$ = 52$^\\circ$ in _The stellar mass distribution in early-type disc galaxies_ paper and $i$ = 53$^\\circ$ in _The mass distribution in early-type disc galaxies_ paper.\n",
    "\n",
    "<b>Mass-to-light ratio ($\\Upsilon_b$)</b>: This value is from the original paper: $\\Upsilon_b$ = 2.8 $M_\\odot / L_\\odot$\n",
    "\n",
    "<b>Luminosity ($L_\\odot$)</b>: I'm trying to figure out where we got the 3.27e10 value from. We might have just guessed this value. Noordermeer mentions on page 5 of his 2008 paper: \"The effects of the seeing on the measured bulge parameters were corrected for, using the deconvolutions from Graham (2001).\"\n",
    "***Found some things in our old Disk velocity calculations.***\n",
    "- L = 10^(0.4*(Mag_sun - Mag_absolute))\n",
    "    - This was commented out.\n",
    "- Mag_absolute = -22.02, Mag_Sun = 4.42\n",
    "- Mag_absolute does not match M_B (-21.22) or M_R (-22.62) from Noordermeer's papers.\n",
    "    - Manually using one of these values does not result in a match, either.\n",
    "\n",
    "<b>Central surface brightness ($I_0$)</b>: The central surface brightness was explained by Noordermeer as: <br>\n",
    "_\"$I_0$ and $r_0$ scaled such that all bulges have equal total luminosity ($L_b$ = 5 × $10^9$ $L_\\odot$) and\n",
    "effective radius ($r_e$ = 1 kpc).\"_ <br>\n",
    "This resulted from the gamma function the following way in our code: $I_0 = L*root^{2n}/(r_e^2*2\\pi n*gamma(2n))$. <br>\n",
    "\n",
    "\n",
    "($L$ is luminosity, $gamma$ is the gamma function, $root$ is the root of the gamma function, $n$ is concentration parameter, $r_e$ is the effective radius.) <br> We found an equation in this paper that was referenced by Noordermeer: [_Graham: An investigation into the prominence of spiral galaxy bulges_](https://iopscience.iop.org/article/10.1086/318767/pdf) (pg.822/eq.3): <br>\n",
    "\n",
    "\n",
    "$L_{tot} = \\frac{n2\\pi r^2_eI_ee^b}{(b_n)^{2n}}\\Gamma(2n)$, where $I_0 = I_ee^b$.The calculation resulted in a central surface brightness of about 4.10e10 (units?)."
   ]
  },
  {
   "cell_type": "markdown",
   "metadata": {},
   "source": [
    "### Assigning values"
   ]
  },
  {
   "cell_type": "code",
   "execution_count": 2,
   "metadata": {},
   "outputs": [],
   "source": [
    "# Constants\n",
    "G = 4.300e-6                                # gravitational constant (kpc/solar mass*(km/s)^2)\n",
    "\n",
    "# Parameters of the galaxy NGC 5533\n",
    "n = 2.7                                     # concentration parameter that describes the curvature of the profile in a radius-magnitude plot, n=4 is de Vaucoileurs profile\n",
    "re = 2.6                                    # effective radius\n",
    "L = 3.27e10                                 # luminosity\n",
    "ups = 2.8                                   # mass-to-light ratio (from Rotation Curves of Sersic Bulges paper)\n",
    "q = 0.33                                    # intrinsic axis ratio\n",
    "i = 45*(np.pi/180)                          # inclination angle"
   ]
  },
  {
   "cell_type": "markdown",
   "metadata": {},
   "source": [
    "## Gamma function"
   ]
  },
  {
   "cell_type": "code",
   "execution_count": 3,
   "metadata": {},
   "outputs": [],
   "source": [
    "gammafunction = lambda x: ss.gammainc(2*n,x)*ss.gamma(2*n)-0.5*ss.gamma(2*n)\n",
    "root = so.brentq(gammafunction,0,500000,rtol=0.000001,maxiter=100) #come within 1% of exact root within 100 iterations"
   ]
  },
  {
   "cell_type": "markdown",
   "metadata": {},
   "source": [
    "## Define values"
   ]
  },
  {
   "cell_type": "code",
   "execution_count": 4,
   "metadata": {},
   "outputs": [],
   "source": [
    "I0 = L*root**(2*n)/(re**2*2*np.pi*n*ss.gamma(2*n))\n",
    "r0 = re/root**n"
   ]
  },
  {
   "cell_type": "markdown",
   "metadata": {},
   "source": [
    "## Integrand 1"
   ]
  },
  {
   "cell_type": "code",
   "execution_count": 5,
   "metadata": {},
   "outputs": [],
   "source": [
    "integrand1 = lambda x,m: np.exp(-np.power(x/r0, (1/n)))*np.power(x/r0, 1/n-1)/(np.sqrt(x**2-m**2))"
   ]
  },
  {
   "cell_type": "markdown",
   "metadata": {},
   "source": [
    "## Integration"
   ]
  },
  {
   "cell_type": "code",
   "execution_count": 6,
   "metadata": {},
   "outputs": [],
   "source": [
    "f = lambda m: si.quad(integrand1, m, np.inf,args=(m,))[0]\n",
    "fv = np.vectorize(f)"
   ]
  },
  {
   "cell_type": "markdown",
   "metadata": {},
   "source": [
    "## Define more values"
   ]
  },
  {
   "cell_type": "code",
   "execution_count": 7,
   "metadata": {},
   "outputs": [],
   "source": [
    "C = (4*G*q*ups*I0)/(r0*np.float(n))*(np.sqrt((np.sin(i)**2)+(1/(q**2))*(np.cos(i)**2)))\n",
    "e2 = 1-(q**2)\n",
    "radius = np.linspace(0.01, 60, 200)  # plot range"
   ]
  },
  {
   "cell_type": "markdown",
   "metadata": {},
   "source": [
    "## Integrand 2"
   ]
  },
  {
   "cell_type": "code",
   "execution_count": 8,
   "metadata": {},
   "outputs": [],
   "source": [
    "g = lambda m,r: C*f(m)*(m**2)/(np.sqrt((r**2)-((m**2)*(e2))))"
   ]
  },
  {
   "cell_type": "markdown",
   "metadata": {},
   "source": [
    "## Integrate to get velocity squared"
   ]
  },
  {
   "cell_type": "code",
   "execution_count": 9,
   "metadata": {},
   "outputs": [],
   "source": [
    "velsq = lambda r: si.quad(g, 0, r, args=(r,))[0]\n",
    "velsqv = np.vectorize(velsq)"
   ]
  },
  {
   "cell_type": "markdown",
   "metadata": {},
   "source": [
    "## Calculate velocity"
   ]
  },
  {
   "cell_type": "code",
   "execution_count": 10,
   "metadata": {},
   "outputs": [
    {
     "name": "stderr",
     "output_type": "stream",
     "text": [
      "C:\\Users\\JB\\AppData\\Local\\Continuum\\anaconda3\\lib\\site-packages\\scipy\\integrate\\quadpack.py:385: IntegrationWarning: The integral is probably divergent, or slowly convergent.\n",
      "  warnings.warn(msg, IntegrationWarning)\n",
      "C:\\Users\\JB\\AppData\\Local\\Continuum\\anaconda3\\lib\\site-packages\\scipy\\integrate\\quadpack.py:385: IntegrationWarning: The algorithm does not converge.  Roundoff error is detected\n",
      "  in the extrapolation table.  It is assumed that the requested tolerance\n",
      "  cannot be achieved, and that the returned result (if full_output = 1) is \n",
      "  the best which can be obtained.\n",
      "  warnings.warn(msg, IntegrationWarning)\n",
      "C:\\Users\\JB\\AppData\\Local\\Continuum\\anaconda3\\lib\\site-packages\\scipy\\integrate\\quadpack.py:385: IntegrationWarning: The maximum number of subdivisions (50) has been achieved.\n",
      "  If increasing the limit yields no improvement it is advised to analyze \n",
      "  the integrand in order to determine the difficulties.  If the position of a \n",
      "  local difficulty can be determined (singularity, discontinuity) one will \n",
      "  probably gain from splitting up the interval and calling the integrator \n",
      "  on the subranges.  Perhaps a special-purpose integrator should be used.\n",
      "  warnings.warn(msg, IntegrationWarning)\n"
     ]
    }
   ],
   "source": [
    "vbulge = np.sqrt(velsqv(radius))"
   ]
  },
  {
   "cell_type": "markdown",
   "metadata": {},
   "source": [
    "## Plot the velocity curve for the bulge"
   ]
  },
  {
   "cell_type": "code",
   "execution_count": 12,
   "metadata": {},
   "outputs": [
    {
     "data": {
      "image/png": "[encoded data removed]",
      "text/plain": [
       "<Figure size 648x576 with 1 Axes>"
      ]
     },
     "metadata": {
      "needs_background": "light"
     },
     "output_type": "display_data"
    }
   ],
   "source": [
    "plt.figure(figsize=(9.0,8.0))                                     # size of the plot\n",
    "plt.plot(radius, vbulge, linestyle='solid', label='Velocity(r)')  # x and y values of the plot          \n",
    "plt.title('Bulge Rotation Curve', fontsize=18)                    # giving the plot a title\n",
    "plt.xlabel('Radius (kpc)', fontsize=14)                           # labeling the x-axis\n",
    "plt.ylabel('Velocity (km/s)', fontsize=14)                        # labeling the y-axis\n",
    "plt.axis([0,60,0,270])                                           # setting the axis limits\n",
    "plt.savefig('bulge_theoretical.png')                              # saving the figure in a .png file"
   ]
  },
  {
   "cell_type": "markdown",
   "metadata": {},
   "source": [
    "## Questions"
   ]
  },
  {
   "cell_type": "markdown",
   "metadata": {},
   "source": [
    "##### Does the bulge have any effect on the rotation of the stars at 35 kpc?"
   ]
  },
  {
   "cell_type": "markdown",
   "metadata": {},
   "source": [
    "##### What effect does changing the concentration parameter, $n$ to a lower number will have on the rotation curve?"
   ]
  },
  {
   "cell_type": "markdown",
   "metadata": {},
   "source": [
    "##### Some questions about the curve"
   ]
  },
  {
   "cell_type": "markdown",
   "metadata": {},
   "source": [
    "## References"
   ]
  },
  {
   "cell_type": "code",
   "execution_count": null,
   "metadata": {},
   "outputs": [],
   "source": []
  }
 ],
 "metadata": {
  "kernelspec": {
   "display_name": "Python 3",
   "language": "python",
   "name": "python3"
  },
  "language_info": {
   "codemirror_mode": {
    "name": "ipython",
    "version": 3
   },
   "file_extension": ".py",
   "mimetype": "text/x-python",
   "name": "python",
   "nbconvert_exporter": "python",
   "pygments_lexer": "ipython3",
   "version": "3.7.1"
  }
 },
 "nbformat": 4,
 "nbformat_minor": 4
}
