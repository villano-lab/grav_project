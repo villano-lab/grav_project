{
 "cells": [
  {
   "cell_type": "code",
   "execution_count": 1,
   "metadata": {},
   "outputs": [],
   "source": [
    "import sys\n",
    "sys.path.append('python/')\n",
    "\n",
    "import time\n",
    "startTime = time.time()\n",
    "\n",
    "import numpy as np\n",
    "import matplotlib.pyplot as plt \n",
    "import load_galaxies as lg"
   ]
  },
  {
   "cell_type": "markdown",
   "metadata": {},
   "source": [
    "## Pick a galaxy"
   ]
  },
  {
   "cell_type": "markdown",
   "metadata": {},
   "source": [
    "#### List of galaxies:\n",
    "    \n",
    " - NGC 5533\n",
    " - NGC 5005\n",
    " - NGC 891\n",
    " - NGC 7814\n",
    "    <br> and a few more...\n",
    "    "
   ]
  },
  {
   "cell_type": "code",
   "execution_count": 2,
   "metadata": {},
   "outputs": [],
   "source": [
    "galaxy = lg.NGC5533                  # Change this value to select which galaxy you want"
   ]
  },
  {
   "cell_type": "markdown",
   "metadata": {},
   "source": [
    "## Import measured data and uncertainty band"
   ]
  },
  {
   "cell_type": "code",
   "execution_count": 3,
   "metadata": {},
   "outputs": [],
   "source": [
    "# Measured data\n",
    "measured_data = galaxy['measured_data']\n",
    "\n",
    "# Separate the columns into arrays\n",
    "m_radii = galaxy['m_radii']\n",
    "m_velocities = galaxy['m_velocities']\n",
    "m_r_errors = galaxy['m_r_errors']\n",
    "m_v_errors = galaxy['m_v_errors']    # Errors in velocity\n",
    "\n",
    "# Uncertainty band, splined\n",
    "greyband_bottom = galaxy['n_band_btm']\n",
    "greyband_top = galaxy['n_band_top']"
   ]
  },
  {
   "cell_type": "markdown",
   "metadata": {},
   "source": [
    "## Plot measured data with errorbars"
   ]
  },
  {
   "cell_type": "markdown",
   "metadata": {},
   "source": [
    "Define: radius between 0 and 25 with 100 values <br>\n",
    "Plot: measured data, errorbars, uncertainty band <br>\n",
    "Tips:\n",
    " - Plotting errorbars: plt.errorbar(x,y,yerr=[v_err0,v_err1], marker='o', markersize=8, ecolor='gray',color='gray', linestyle='none', linewidth=2)<br>\n",
    " - Plotting uncertainty band: plt.fill_between(x,bottom(x),top(x),color='#dddddd')"
   ]
  },
  {
   "cell_type": "code",
   "execution_count": 4,
   "metadata": {},
   "outputs": [
    {
     "data": {
      "text/plain": [
       "<ErrorbarContainer object of 3 artists>"
      ]
     },
     "execution_count": 4,
     "metadata": {},
     "output_type": "execute_result"
    },
    {
     "data": {
      "image/png": "[encoded data removed]",
      "text/plain": [
       "<Figure size 432x288 with 1 Axes>"
      ]
     },
     "metadata": {
      "needs_background": "light"
     },
     "output_type": "display_data"
    }
   ],
   "source": [
    "# testing\n",
    "r = np.linspace(0,100,100)\n",
    "plt.fill_between(r,greyband_bottom(r),greyband_top(r),color='#dddddd')\n",
    "plt.errorbar(m_radii,m_velocities,yerr=[m_r_errors,m_v_errors], marker='o', markersize=8, \\\n",
    "             ecolor='gray',color='gray', linestyle='none', label='NGC 5533 (Noordermeer 2007)', linewidth=2)"
   ]
  },
  {
   "cell_type": "markdown",
   "metadata": {},
   "source": [
    "## Import each component"
   ]
  },
  {
   "cell_type": "code",
   "execution_count": 5,
   "metadata": {},
   "outputs": [],
   "source": [
    "# Bulge\n",
    "bulge_r = galaxy['bulge']['r']\n",
    "bulge_v = galaxy['bulge']['v']\n",
    "# Disk\n",
    "disk_r = galaxy['disk']['r']\n",
    "disk_v = galaxy['disk']['v']\n",
    "# Gas\n",
    "gas_r = galaxy['gas']['r']\n",
    "gas_v = galaxy['gas']['v']"
   ]
  },
  {
   "cell_type": "markdown",
   "metadata": {},
   "source": [
    "## Calculate central black hole component"
   ]
  },
  {
   "cell_type": "code",
   "execution_count": 6,
   "metadata": {},
   "outputs": [
    {
     "name": "stdout",
     "output_type": "stream",
     "text": [
      "Velocity at r=10[kpc]: 34.07345007480164\n"
     ]
    }
   ],
   "source": [
    "# Set Parameters\n",
    "\n",
    "Mbh = 2.7e9                         # Mass of the central black hole in (solar mass)\n",
    "G = 4.300e-6                        # Gravitational constant (kpc/solar mass*(km/s)^2)\n",
    "\n",
    "# Equation for orbital velocity\n",
    "def v_blackhole(r, G, Mbh):\n",
    "    return np.sqrt((G*Mbh)/r)\n",
    "\n",
    "print(\"Velocity at r=10[kpc]:\",v_blackhole(10,G,Mbh))"
   ]
  },
  {
   "cell_type": "markdown",
   "metadata": {},
   "source": [
    "## Calculate dark matter halo component"
   ]
  },
  {
   "cell_type": "markdown",
   "metadata": {},
   "source": [
    ">__Isothermal Density Profile__: <br>\n",
    "    \\begin{equation}\n",
    "    \\rho(r) = \\rho_{0}\\left[1+{\\left(\\frac{r}{r_c}\\right)}^{2}\\right]^{-1}\n",
    "    \\end{equation}\n",
    "    <br>\n",
    ">>where:<br>\n",
    "    $\\rho_{0}$ = central density<br>\n",
    "    $r_c$ = core radius<br>\n",
    "    \n",
    ">__Mass__: <br>\n",
    "    \\begin{equation}\n",
    "    M_{DM}(r) = \\int_{0}^{r} 4\\pi\\rho(R)R^{2}dR\n",
    "    \\end{equation}<br>\n",
    ">>where:<br>\n",
    "        $M_{DM}$ = mass of the dark halo<br>\n",
    "    <br>\n",
    "    \n",
    ">__Velocity__: <br>\n",
    "    \\begin{equation}\n",
    "    v_{DM}^{2}(r) = \\frac{GM_{DM}(r)}{r}\n",
    "    \\end{equation}<br>\n",
    "    \\begin{equation}\n",
    "    v_{DM}(r) = \\sqrt{4 \\pi G \\rho_{0} r_c^2 \\big( 1- \\frac{r_c}{r} \\arctan{\\frac{r}{r_c}}\\big)}\n",
    "    \\end{equation}<br>"
   ]
  },
  {
   "cell_type": "code",
   "execution_count": 7,
   "metadata": {},
   "outputs": [],
   "source": [
    "# Set parameters\n",
    "\n",
    "#rho0 = galaxy['rho0']   # need to define these values for each galaxy\n",
    "#r_c = galaxy['r_c']\n",
    "\n",
    "rho0 = 0.31e9\n",
    "r_c = 1.4\n",
    "\n",
    "# Equation for dark halo velocity\n"
   ]
  },
  {
   "cell_type": "markdown",
   "metadata": {},
   "source": [
    "## Calculate total velocity "
   ]
  },
  {
   "cell_type": "markdown",
   "metadata": {},
   "source": [
    ">__Total velocity__: <br>\n",
    "    \\begin{equation}\n",
    "    v_{total}(r) = \\sqrt{v_{bulge}^2 + v_{disk}^2 + v_{gas}^2 + v_{blackhole}^2 + v_{halo}^2}\n",
    "    \\end{equation}<br>"
   ]
  },
  {
   "cell_type": "code",
   "execution_count": 8,
   "metadata": {},
   "outputs": [],
   "source": [
    "# Equation for total velocity\n"
   ]
  },
  {
   "cell_type": "markdown",
   "metadata": {},
   "source": [
    "## Fitting"
   ]
  },
  {
   "cell_type": "code",
   "execution_count": 9,
   "metadata": {},
   "outputs": [],
   "source": [
    "# Express weight\n",
    "\n",
    "# Define function for total velocity with prefactors\n"
   ]
  },
  {
   "cell_type": "code",
   "execution_count": 10,
   "metadata": {},
   "outputs": [],
   "source": [
    "# Fitting parameters\n",
    "\n",
    "# Do fit\n"
   ]
  },
  {
   "cell_type": "code",
   "execution_count": 11,
   "metadata": {},
   "outputs": [],
   "source": [
    "# Define parameters for plotting\n"
   ]
  },
  {
   "cell_type": "markdown",
   "metadata": {},
   "source": [
    "## Plot result"
   ]
  },
  {
   "cell_type": "code",
   "execution_count": null,
   "metadata": {},
   "outputs": [],
   "source": []
  },
  {
   "cell_type": "markdown",
   "metadata": {},
   "source": [
    "## Calculate the total mass of the dark matter "
   ]
  },
  {
   "cell_type": "code",
   "execution_count": 12,
   "metadata": {},
   "outputs": [],
   "source": [
    "# Equation for isothermal density\n",
    "\n",
    "# Equation for mass as a function of radius\n",
    "\n",
    "# Total mass\n"
   ]
  },
  {
   "cell_type": "markdown",
   "metadata": {},
   "source": [
    "# References <br>\n",
    ">Casertano, Stefano. __\"Rotation curve of the edge-on spiral galaxy NGC 5907: disc and halo masses.\"__ _Monthly Notices of the Royal Astronomical Society_ 203, no. 3 (1983): 735-747.<br><br>\n",
    ">Jimenez, Raul, Licia Verde, and S. Peng Oh. __\"Dark halo properties from rotation curves.\"__ _Monthly Notices of the Royal Astronomical Society_ 339, no. 1 (2003): 243-259.<br><br>\n",
    ">Karukes, E. V., P. Salucci, and Gianfranco Gentile. __\"The dark matter distribution in the spiral NGC 3198 out to 0.22 $R_{vir}$.\"__ _Astronomy & Astrophysics_ 578 (2015): A13.<br><br>\n",
    ">Noordermeer, Edo. __\"The rotation curves of flattened Sérsic bulges.\"__ _Monthly Notices of the Royal Astronomical Society_ 385, no. 3 (2007): 1359-1364.\n",
    "***"
   ]
  }
 ],
 "metadata": {
  "kernelspec": {
   "display_name": "Python 3",
   "language": "python",
   "name": "python3"
  },
  "language_info": {
   "codemirror_mode": {
    "name": "ipython",
    "version": 3
   },
   "file_extension": ".py",
   "mimetype": "text/x-python",
   "name": "python",
   "nbconvert_exporter": "python",
   "pygments_lexer": "ipython3",
   "version": "3.7.1"
  }
 },
 "nbformat": 4,
 "nbformat_minor": 2
}
