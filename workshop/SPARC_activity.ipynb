{
 "cells": [
  {
   "cell_type": "markdown",
   "metadata": {},
   "source": [
    "1. Go to http://astroweb.cwru.edu/SPARC/ and under \"BASIC SPARK DATA\", download the zip file for \"Photometric Profiles\"\n",
    "2. Open (extract/unzip) the zip file and choose a galaxy (any file) of your choice. Do not rename the file. Put the name of the chosen galaxy in the variable in the cell below and run it."
   ]
  },
  {
   "cell_type": "code",
   "execution_count": 6,
   "metadata": {},
   "outputs": [],
   "source": [
    "Your_Galaxy='NGC0891' #for example: NGC0891"
   ]
  },
  {
   "cell_type": "markdown",
   "metadata": {},
   "source": [
    "3. Make a note of the directory (file location) of the SPARC file of your galaxy **with respect to this location of this python notebook**. For example, if your file is located in the same location as this code, leave the following cell as is. But if it is, say, in the next folder \"up\" from this one, use the extension '../'. So an example of if the SPARC file is located two folders then one folder \"down\" (into a different folder named, say, 'otherfolder'), you would write:\n",
    "`SPARC_file_directory='../../otherfolder/'` in the cell below and run it."
   ]
  },
  {
   "cell_type": "code",
   "execution_count": 7,
   "metadata": {},
   "outputs": [],
   "source": [
    "SPARC_file_directory='../../'                       #note that '' means the string variable is blank"
   ]
  },
  {
   "cell_type": "markdown",
   "metadata": {},
   "source": [
    "4. Run the below cell to properly format the .sfb file for GIPSY"
   ]
  },
  {
   "cell_type": "code",
   "execution_count": 26,
   "metadata": {},
   "outputs": [],
   "source": [
    "SPARC_File_Path=SPARC_file_directory+Your_Galaxy+'.DENS'\n",
    "f=open(SPARC_File_Path,'r')\n",
    "#g = open(r\"C:\\Users\\Loser\\Desktop\\NGC0891.sfb\", \"w\")\n",
    "\n",
    "filedata = f.read()\n",
    "f.close()\n",
    "\n",
    "newdata = filedata.replace(\"# Rad[kpc] SBdisk[Lsun/pc^2] SBbulge[Lsun/pc^2]\",\"\").replace(\"\t\",\",\").replace(\"\t\",\",\").replace(\"\\n\",\",\")\n",
    "\n",
    "f = open(SPARC_File_Path, \"w\")\n",
    "\n",
    "f.write(newdata)\n",
    "f.close()\n",
    "\n",
    "import numpy as np\n",
    "f = open(SPARC_File_Path,'r')\n",
    "f=f.read()\n",
    "f=f.split(\",\")\n",
    "del f[0]\n",
    "del f[len(f)-1]\n",
    "f = list(filter(None, f))\n",
    "i=0\n",
    "while i <=len(f)-1:\n",
    "    f[i]=float(f[i])\n",
    "    i=i+1\n",
    "\n",
    "radii=f[0::3]\n",
    "decide='disk'\n",
    "if decide == 'disk':\n",
    "    mu=f[1::3]\n",
    "elif decide == 'bulge':\n",
    "    mu=f[2::3]\n",
    "\n",
    "radii=[num+.001 for num in radii]\n",
    "radii=[round(num,3) for num in radii]\n",
    "\n",
    "mu=[num+.001 for num in mu]\n",
    "mu=[round(num,3) for num in mu]\n",
    "\n",
    "E=[[a,b] for a,b in zip(radii,mu)]\n",
    "\n",
    "textfile = open(SPARC_File_Path, \"w\")\n",
    "for element in E:\n",
    "    textfile.write(str(element)+\"\\n\")\n",
    "textfile.close()\n",
    "\n",
    "#**********************************************\n",
    "f=open(SPARC_File_Path,'r')\n",
    "#g = open(r\"C:\\Users\\Loser\\Desktop\\NGC0891.sfb\", \"w\")\n",
    "\n",
    "filedata = f.read()\n",
    "f.close()\n",
    "\n",
    "newdata = filedata.replace(\"[\",\"\").replace(\"]\",\"\").replace(\", \",\"\t \")\n",
    "\n",
    "f = open(SPARC_File_Path, \"w\")\n",
    "\n",
    "f.write(newdata)\n",
    "f.close()\n",
    "\n",
    "fd=open(SPARC_File_Path,\"r\")\n",
    "d=fd.read()\n",
    "fd.close()\n",
    "m=d.split(\"\\n\")\n",
    "s=\"\\n\".join(m[:-1])\n",
    "fd=open(SPARC_File_Path,\"w+\")\n",
    "for i in range(len(s)):\n",
    "    fd.write(s[i])\n",
    "fd.close()\n",
    "\n",
    "SPARC_File_rcl=SPARC_file_directory+Your_Galaxy+'.rcl'\n",
    "import os\n",
    "os.rename(SPARC_File_Path,SPARC_File_rcl)"
   ]
  },
  {
   "cell_type": "code",
   "execution_count": 5,
   "metadata": {},
   "outputs": [],
   "source": [
    "SPARC_File_Path=SPARC_file_directory+Your_Galaxy+'.sfb'\n",
    "f=open(SPARC_File_Path,'r')\n",
    "#g = open(r\"C:\\Users\\Loser\\Desktop\\NGC0891.sfb\", \"w\")\n",
    "\n",
    "filedata = f.read()\n",
    "f.close()\n",
    "\n",
    "newdata = filedata.replace(\"radius mu     kill error\",\"\").replace(\" \",\",\").replace(\",,,\",\",\").replace(\"\\n\",\",\")\n",
    "\n",
    "f = open(SPARC_File_Path, \"w\")\n",
    "\n",
    "f.write(newdata)\n",
    "f.close()\n",
    "\n",
    "import numpy as np\n",
    "f = open(SPARC_File_Path,'r')\n",
    "f=f.read()\n",
    "f=f.split(\",\")\n",
    "f = list(filter(None, f))\n",
    "i=0\n",
    "while i <=len(f)-1:\n",
    "    f[i]=float(f[i])\n",
    "    i=i+1\n",
    "radii=f[0::4]\n",
    "mu=f[1::4]\n",
    "\n",
    "\n",
    "#trying to add a third decimal place to the data in case that's the issue...\n",
    "radii=[num+.001 for num in radii]\n",
    "radii=[round(num,3) for num in radii]\n",
    "\n",
    "mu=[num+.001 for num in mu]\n",
    "mu=[round(num,3) for num in mu]\n",
    "\n",
    "E=[[a,b] for a,b in zip(radii,mu)]\n",
    "\n",
    "textfile = open(SPARC_File_Path, \"w\")\n",
    "for element in E:\n",
    "    textfile.write(str(element)+\"\\n\")\n",
    "textfile.close()\n",
    "\n",
    "#**********************************************\n",
    "f=open(SPARC_File_Path,'r')\n",
    "#g = open(r\"C:\\Users\\Loser\\Desktop\\NGC0891.sfb\", \"w\")\n",
    "\n",
    "filedata = f.read()\n",
    "f.close()\n",
    "\n",
    "newdata = filedata.replace(\"[\",\"\").replace(\"]\",\"\").replace(\", \",\"\t \")\n",
    "\n",
    "f = open(SPARC_File_Path, \"w\")\n",
    "\n",
    "f.write(newdata)\n",
    "f.close()\n",
    "\n",
    "\n",
    "SPARC_File_rcl=SPARC_file_directory+Your_Galaxy+'.rcl'\n",
    "import os\n",
    "os.rename(SPARC_File_Path,SPARC_File_rcl)"
   ]
  },
  {
   "cell_type": "markdown",
   "metadata": {},
   "source": [
    "5. Now your SPARC file is formatted properly for GIPSY. Open Ubuntu and push your new .rcl file to the SSH. To do this, paste and enter into the terminal: \n",
    "\n",
    "`scp /mnt/c/Users/YourAccountName/Your_SPARC_file_directory/YourGalaxy.rcl** [REDACTED]:/home/user/`<br>\n",
    "with formatted SPARC galaxy file (\"YourGalaxy\") and directory of this file. **Note that the directory of your reformatted sparc file is NOT the same value as what you put for \"SPARC_file_directory\" earlier in this notebook.** Instead of the directory being with respect to this notebook's location, it will be the universal location of your SPARC file. So say your computer username is \"Gabe\" and your SPARC file is in your \"Documents\" folder, and you chose NGC0891, your command might look like:<br>\n",
    "\n",
    "`scp /mnt/c/Users/Gabe/Documents/NGC0891.rcl** [REDACTED]:/home/user/`<br>\n",
    "\n",
    "scp /mnt/c/Users/Loser/Documents/NGC0891a.rcl** [REDACTED]:/home/user/\n",
    "9.3MPC, .5kpc\n",
    "6. Enter your password. The file has now been sent over SSH.\n",
    "7. Access SSH to run GIPSY. To do this paste and enter into the terminal:\n",
    "\n",
    "`ssh [REDACTED]`\n",
    "\n",
    "Enter your password. You will now be in the SSH.\n",
    "\n",
    "7. Research to find the z0 (scale-height) of your galaxy. \n",
    "\n",
    "8. Research to find the distance of your galaxy (in Mpc) from earth\n",
    "\n",
    "9. Run Gipsy <br>\n",
    "a. enter `gipsy` <br>\n",
    "b. enter `rotmod` <br>\n",
    "c. enter ROTMOD TYPE=`disk` <br>\n",
    "d. enter ROTMOD ZLAW= `sech-squared`<br>\n",
    "e. enter ROTMOD Z0= your galaxy's z0 value in kpc, found in step 7<br>\n",
    "enter ROTMOD USER= `y`<br>\n",
    "h. enter ROTMOD UNITS= `kpc, mag/arcsec**2`<br>\n",
    "f. enter ROTMOD DISTANCE= your galaxy's Distance in Mpc, found in step 8<br>\n",
    "i. enter ROTMOD RADDENS= `<[Your Galaxy GIPSY file name WITHOUT the file extension]`. Example, if the file name was NGC0891.rcl, enter you'd enter: `<NGC0891` <br>\n",
    "push the enter key again\n",
    "j. enter: `1`. Here we're using a base disk mass of 1e9 solar masses, which can be later adjusted with fitting.\n",
    "enter the sampling radii. A good general interval to choose would be something like RADII = `.1:20:.5`. This is selecting points from .1 to 20 kpc. However, depending on your galaxy size, 20 kpc may be too large or small.\n",
    "k. enter your name for the file with a .dat extension. For example, enter `NGC0891GIPSY.dat`<br>\n",
    "l. Rotmod will now finish calculating. <br>\n",
    "m. enter `exit`<br>\n",
    "n. enter `y` <br>\n",
    "o. enter `exit`. You are now back in your own computer's system.<br>\n",
    "10. Pull your completed GIPSY rotation curve file from SSH to your computer\n",
    "enter into the terminal:\n",
    "`scp -P 42 [REDACTED]:/home/user/YourGIPSYFileName.rcl  /mnt/c/Users/YourAccountName/YourDirectory/` <br>\n",
    "\n",
    "scp -P 42 [REDACTED]:/home/user/7814bulgedecomp3.rcl  /mnt/c/Users/Loser/Documents/\n",
    "\n",
    "\n",
    "\n",
    "Close out of ubuntu. Your all done calculating your rotation curve!\n",
    "11. Plot your rotation curve in Python\n",
    "In the below cell, set the string variable \"GIPSY_file_name\" to whatever file name you chose in step 9j. Then set \"GIPSY_file_directory\" to whatever directory you pulled your GIPSY file to in step 10. Once more, this directory **with respect to this location of this python notebook**\n"
   ]
  },
  {
   "cell_type": "code",
<<<<<<< HEAD
   "execution_count": 1,
=======
   "execution_count": 6,
   "metadata": {},
   "outputs": [],
   "source": [
    "GIPSY_file_name = ''\n",
    "GIPSY_file_directory = ''"
   ]
  },
  {
   "cell_type": "code",
   "execution_count": 8,
>>>>>>> dcaf73d73fb9160b6b2abc3a4abf5a005b74f6e7
   "metadata": {},
   "outputs": [],
   "source": [
    "import csv\n",
    "import numpy as np\n",
    "import matplotlib.pyplot as plt \n",
    "import sys\n",
    "sys.path.append('../python')\n",
    "import dataPython as dp"
   ]
  },
  {
   "cell_type": "code",
<<<<<<< HEAD
   "execution_count": 2,
   "metadata": {},
   "outputs": [],
   "source": [
    "YourGalaxy = 'NGC0891'\n",
    "data = dp.getXYZdata('newnewnew0891.txt')\n",
    "r_dat = np.asarray(data['xx'])\n",
    "v_dat = np.asarray(data['zz'])\n"
=======
   "execution_count": 10,
   "metadata": {},
   "outputs": [],
   "source": [
    "GIPSY_file_path=GIPSY_file_directory+GIPSY_file_name+'.dat'\n",
    "f=open(GIPSY_file_path,'r')\n",
    "filedata = f.read()\n",
    "f.close()\n",
    "\n",
    "newdata = filedata.replace(\"!\",\"#\")\n",
    "\n",
    "f = open(GIPSY_file_path, \"w\")\n",
    "\n",
    "f.write(newdata)\n",
    "f.close()"
   ]
  },
  {
   "cell_type": "markdown",
   "metadata": {},
   "source": [
    "# Congratulations, you've just made your own disk-component rotation curve!"
>>>>>>> dcaf73d73fb9160b6b2abc3a4abf5a005b74f6e7
   ]
  },
  {
   "cell_type": "code",
<<<<<<< HEAD
   "execution_count": 7,
   "metadata": {},
   "outputs": [
    {
     "data": {
      "image/png": "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\n",
      "text/plain": [
       "<Figure size 864x432 with 1 Axes>"
      ]
     },
     "metadata": {
      "needs_background": "light"
     },
     "output_type": "display_data"
    }
   ],
   "source": [
=======
   "execution_count": null,
   "metadata": {},
   "outputs": [],
   "source": [
    "data = dp.getXYZdata(GIPSY_file_path)\n",
    "\n",
    "r_dat = np.asarray(data['xx'])\n",
    "v_dat = np.asarray(data['zz'])\n",
>>>>>>> dcaf73d73fb9160b6b2abc3a4abf5a005b74f6e7
    "plt.figure(figsize=(12,6))\n",
    "plt.plot(r_dat,v_dat)\n",
    "plt.xlabel('r (kpc)',size=30)\n",
    "plt.ylabel('v (km/s)',size=30)\n",
    "plt.title(str('Disk Component of Spiral Galaxy ' + YourGalaxy), size=30)\n",
    "plt.show()"
   ]
  },
  {
   "cell_type": "code",
   "execution_count": null,
   "metadata": {},
   "outputs": [],
<<<<<<< HEAD
   "source": []
  },
  {
   "cell_type": "code",
   "execution_count": null,
   "metadata": {},
   "outputs": [],
   "source": []
=======
   "source": [
    "'''\n",
    "SPARC_File_Path=SPARC_file_directory+Your_Galaxy+'.sfb'\n",
    "f=open(SPARC_File_Path,'r')\n",
    "#g = open(r\"C:\\Users\\Loser\\Desktop\\NGC0891.sfb\", \"w\")\n",
    "\n",
    "filedata = f.read()\n",
    "f.close()\n",
    "\n",
    "newdata = filedata.replace(\"radius mu     kill error\",\"\")\n",
    "\n",
    "f = open(SPARC_File_Path, \"w\")\n",
    "\n",
    "f.write(newdata)\n",
    "f.close()\n",
    "\n",
    "#**********************\n",
    "\n",
    "\n",
    "f=open(SPARC_File_Path,'r')\n",
    "#g = open(r\"C:\\Users\\Loser\\Desktop\\NGC0891.sfb\", \"w\")\n",
    "\n",
    "filedata = f.read()\n",
    "f.close()\n",
    "\n",
    "newdata = filedata.replace(\" \",\",\")\n",
    "\n",
    "f = open(SPARC_File_Path, \"w\")\n",
    "\n",
    "f.write(newdata)\n",
    "f.close()\n",
    "\n",
    "#***************************\n",
    "\n",
    "f=open(SPARC_File_Path,'r')\n",
    "#g = open(r\"C:\\Users\\Loser\\Desktop\\NGC0891.sfb\", \"w\")\n",
    "\n",
    "filedata = f.read()\n",
    "f.close()\n",
    "\n",
    "newdata = filedata.replace(\",,,\",\",\")\n",
    "\n",
    "f = open(SPARC_File_Path, \"w\")\n",
    "\n",
    "f.write(newdata)\n",
    "f.close()\n",
    "\n",
    "#*******************************************\n",
    "f=open(SPARC_File_Path,'r')\n",
    "#g = open(r\"C:\\Users\\Loser\\Desktop\\NGC0891.sfb\", \"w\")\n",
    "\n",
    "filedata = f.read()\n",
    "f.close()\n",
    "\n",
    "newdata = filedata.replace(\"\\n\",\",\")\n",
    "\n",
    "f = open(SPARC_File_Path, \"w\")\n",
    "\n",
    "f.write(newdata)\n",
    "f.close()\n",
    "\n",
    "\n",
    "\n",
    "\n",
    "\n",
    "\n",
    "textfile = open(SPARC_File_Path, \"w\")\n",
    "for element in E:\n",
    "    textfile.write(str(element)+\"\\n\")\n",
    "textfile.close()\n",
    "\n",
    "#**********************************************\n",
    "f=open(SPARC_File_Path,'r')\n",
    "#g = open(r\"C:\\Users\\Loser\\Desktop\\NGC0891.sfb\", \"w\")\n",
    "\n",
    "filedata = f.read()\n",
    "f.close()\n",
    "\n",
    "newdata = filedata.replace(\"[\",\"\")\n",
    "\n",
    "f = open(SPARC_File_Path, \"w\")\n",
    "\n",
    "f.write(newdata)\n",
    "f.close()\n",
    "\n",
    "#**********************************************\n",
    "f=open(SPARC_File_Path,'r')\n",
    "#g = open(r\"C:\\Users\\Loser\\Desktop\\NGC0891.sfb\", \"w\")\n",
    "\n",
    "filedata = f.read()\n",
    "f.close()\n",
    "\n",
    "newdata = filedata.replace(\"]\",\"\")\n",
    "\n",
    "f = open(SPARC_File_Path, \"w\")\n",
    "\n",
    "f.write(newdata)\n",
    "f.close()\n",
    "\n",
    "#**********************************************\n",
    "f=open(SPARC_File_Path,'r')\n",
    "#g = open(r\"C:\\Users\\Loser\\Desktop\\NGC0891.sfb\", \"w\")\n",
    "\n",
    "filedata = f.read()\n",
    "f.close()\n",
    "\n",
    "newdata = filedata.replace(\", \",\"\t \")\n",
    "f = open(SPARC_File_Path, \"w\")\n",
    "\n",
    "f.write(newdata)\n",
    "f.close()\n",
    "'''"
   ]
>>>>>>> dcaf73d73fb9160b6b2abc3a4abf5a005b74f6e7
  }
 ],
 "metadata": {
  "kernelspec": {
   "display_name": "Python 3",
   "language": "python",
   "name": "python3"
  },
  "language_info": {
   "codemirror_mode": {
    "name": "ipython",
    "version": 3
   },
   "file_extension": ".py",
   "mimetype": "text/x-python",
   "name": "python",
   "nbconvert_exporter": "python",
   "pygments_lexer": "ipython3",
<<<<<<< HEAD
   "version": "3.7.9"
=======
   "version": "3.8.3"
>>>>>>> dcaf73d73fb9160b6b2abc3a4abf5a005b74f6e7
  }
 },
 "nbformat": 4,
 "nbformat_minor": 4
}
