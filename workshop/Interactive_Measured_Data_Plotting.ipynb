{
 "cells": [
  {
   "cell_type": "code",
   "execution_count": 1,
   "metadata": {},
   "outputs": [],
   "source": [
    "import sys\n",
    "sys.path.append('python/')\n",
    "\n",
    "import time\n",
    "startTime = time.time()      # Calculate time for running this notebook\n",
    "\n",
    "import numpy as np\n",
    "import matplotlib.pyplot as plt \n",
    "import load_galaxies as lg   # Load load_galaxies.py library"
   ]
  },
  {
   "cell_type": "markdown",
   "metadata": {},
   "source": [
    "## Load data from multiple galaxies"
   ]
  },
  {
   "cell_type": "code",
   "execution_count": 2,
   "metadata": {},
   "outputs": [],
   "source": [
    "# NGC 5533\n",
    "r_NGC5533, v_NGC5533, r_err_NGC5533, v_err_NGC5533 = lg.NGC5533['m_radii'],lg.NGC5533['m_velocities'],lg.NGC5533['m_r_errors'],lg.NGC5533['m_v_errors']\n",
    "\n",
    "# NGC 891\n",
    "r_NGC0891, v_NGC0891, r_err_NGC0891, v_err_NGC0891 = lg.NGC0891['m_radii'],lg.NGC0891['m_velocities'],lg.NGC0891['m_r_errors'],lg.NGC0891['m_v_errors']\n",
    "\n",
    "# NGC 7814\n",
    "#r_NGC7814, v_NGC7814, r_err_NGC7814, v_err_NGC7814 = lg.NGC7814['m_radii'],lg.NGC7814['m_velocities'],lg.NGC7814['m_r_errors'],lg.NGC7814['m_v_errors']\n",
    "\n",
    "# NGC 5005\n",
    "#r_NGC5005, v_NGC5005, r_err_NGC5005, v_err_NGC5005 = lg.NGC5005['m_radii'],lg.NGC5005['m_velocities'],lg.NGC5005['m_r_errors'],lg.NGC5005['m_v_errors']"
   ]
  },
  {
   "cell_type": "markdown",
   "metadata": {},
   "source": [
    "## Plot measured data with errorbars"
   ]
  },
  {
   "cell_type": "markdown",
   "metadata": {},
   "source": [
    "Define: radius between 0 and 25 with 100 values <br>\n",
    "Plot: measured data, errorbars <br>\n",
    "Tips:\n",
    " - Plotting errorbars: plt.errorbar(x,y,yerr, marker='o', markersize=8, linestyle='none', linewidth=2)<br>"
   ]
  },
  {
   "cell_type": "code",
   "execution_count": 3,
   "metadata": {},
   "outputs": [
    {
     "data": {
      "image/png": "[encoded data removed]",
      "text/plain": [
       "<Figure size 576x432 with 1 Axes>"
      ]
     },
     "metadata": {
      "needs_background": "light"
     },
     "output_type": "display_data"
    }
   ],
   "source": [
    "# Define radius for plotting\n",
    "r = np.linspace(0,100,100)\n",
    "\n",
    "# Plot\n",
    "plt.figure(figsize=(8.0,6.0))                                     # size of the plot\n",
    "plt.title('Measured data of multiple galaxies', fontsize=14)      # giving the plot a title\n",
    "plt.xlabel('Radius (kpc)', fontsize=12)                           # labeling the x-axis\n",
    "plt.ylabel('Velocity (km/s)', fontsize=12)                        # labeling the y-axis\n",
    "plt.errorbar(r_NGC5533,v_NGC5533,yerr=v_err_NGC5533, marker='o', markersize=8, \\\n",
    "             linestyle='none', label='NGC 5533', linewidth=2)\n",
    "plt.errorbar(r_NGC0891,v_NGC0891,yerr=v_err_NGC0891, marker='o', markersize=8, \\\n",
    "             linestyle='none', label='NGC 891', linewidth=2)\n",
    "#plt.errorbar(r_NGC7814,v_NGC7814,yerr=v_err_NGC7814, marker='o', markersize=8, \\\n",
    "#             linestyle='none', label='NGC 7814', linewidth=2)\n",
    "#plt.errorbar(r_NGC5005,v_NGC5005,yerr=v_err_NGC5005, marker='o', markersize=8, \\\n",
    "#             linestyle='none', label='NGC 5005', linewidth=2)\n",
    "plt.xlim(0,25)\n",
    "plt.ylim(0,350)\n",
    "plt.legend()\n",
    "plt.show()"
   ]
  },
  {
   "cell_type": "code",
   "execution_count": 4,
   "metadata": {},
   "outputs": [
    {
     "name": "stdout",
     "output_type": "stream",
     "text": [
      "Execution time: 0.01 minutes\n"
     ]
    }
   ],
   "source": [
    "# Time\n",
    "executionTime = (time.time() - startTime)\n",
    "ttt=executionTime/60\n",
    "print(f'Execution time: {ttt:.2f} minutes')"
   ]
  },
  {
   "cell_type": "markdown",
   "metadata": {},
   "source": [
    "# References <br>\n",
    ">Casertano, Stefano. __\"Rotation curve of the edge-on spiral galaxy NGC 5907: disc and halo masses.\"__ _Monthly Notices of the Royal Astronomical Society_ 203, no. 3 (1983): 735-747.<br><br>\n",
    ">Jimenez, Raul, Licia Verde, and S. Peng Oh. __\"Dark halo properties from rotation curves.\"__ _Monthly Notices of the Royal Astronomical Society_ 339, no. 1 (2003): 243-259.<br><br>\n",
    ">Karukes, E. V., P. Salucci, and Gianfranco Gentile. __\"The dark matter distribution in the spiral NGC 3198 out to 0.22 $R_{vir}$.\"__ _Astronomy & Astrophysics_ 578 (2015): A13.<br><br>\n",
    ">Noordermeer, Edo. __\"The rotation curves of flattened Sérsic bulges.\"__ _Monthly Notices of the Royal Astronomical Society_ 385, no. 3 (2007): 1359-1364.\n",
    "***"
   ]
  }
 ],
 "metadata": {
  "kernelspec": {
   "display_name": "Python 3",
   "language": "python",
   "name": "python3"
  },
  "language_info": {
   "codemirror_mode": {
    "name": "ipython",
    "version": 3
   },
   "file_extension": ".py",
   "mimetype": "text/x-python",
   "name": "python",
   "nbconvert_exporter": "python",
   "pygments_lexer": "ipython3",
   "version": "3.7.1"
  }
 },
 "nbformat": 4,
 "nbformat_minor": 2
}
